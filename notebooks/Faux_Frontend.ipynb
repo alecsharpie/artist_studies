{
 "cells": [
  {
   "cell_type": "code",
   "execution_count": 38,
   "id": "9312656b",
   "metadata": {},
   "outputs": [],
   "source": [
    "import requests\n",
    "import pandas as pd\n",
    "\n",
    "prompts = pd.read_csv('../raw_data/base_prompts.txt', delimiter = \"\\n\", header = None)\n",
    "\n",
    "base_prompts = [f'{str(base_prompt[0])}' for base_prompt in prompts.values]"
   ]
  },
  {
   "cell_type": "code",
   "execution_count": 39,
   "id": "811adf86",
   "metadata": {},
   "outputs": [
    {
     "data": {
      "text/plain": [
       "200"
      ]
     },
     "execution_count": 39,
     "metadata": {},
     "output_type": "execute_result"
    }
   ],
   "source": [
    "url = 'http://localhost:8000/modifier_influence_custom/'\n",
    "\n",
    "r = requests.post(url, json={\"modifier_text\": \"Hot\",\n",
    "                            \"base_prompts\": base_prompts})\n",
    "r.status_code"
   ]
  },
  {
   "cell_type": "code",
   "execution_count": 40,
   "id": "25cff90b",
   "metadata": {},
   "outputs": [
    {
     "data": {
      "text/plain": [
       "{'a 1968 Mustang driving 200 mph on the freeway in Los Angeles on a rainy day, 8k hyperdetail, intricate, dramatic cinematic moody lighting, low camera angle, 1/1000 sec shutter speed, 70mm film': 0.00042057037353515625,\n",
       " 'beautiful asian model face with white hair made of leaves and Branches, dramatic lighting': 0.013994097709655762,\n",
       " 'A maquette prototype for a sculpture of a Knotty Oak tree made from bamboo, camera tripods, lichen, Moss, garbage bags, plastic tarp, strapped garbage bags, Tv screens, LED strip lights, variously coloured high-vis tarpulin, Rubber. In the style of John Blanche. Restricted Area, construction site. Realistic Photography. John Blanche. In focus. Standing in a art studio which is covered in trash and paint and rubbish': 5.960464477539063e-08,\n",
       " \"I wandered lonely as a cloud That floats on high o'er vales and hills, When all at once I saw a crowd, A host, of golden daffodils; Beside the lake, beneath the trees, Fluttering and dancing in the breeze.  Continuous as the stars that shine And twinkle on the milky way, They stretched in never-ending line Along the margin of a bay: Ten thousand saw I at a glance, Tossing their heads in sprightly dance.  The waves beside them danced; but they Out-did the sparkling waves in glee: A poet could not but be gay, In such a jocund company: I gazed—and gazed—but little thought What wealth the show to me had brought:  For oft, when on my couch I lie In vacant or in pensive mood, They flash upon that inward eye Which is the bliss of solitude; And then my heart with pleasure fills, And dances with the daffodils\": 0,\n",
       " 'A green dog': 0.05130875110626221,\n",
       " 'The queen of england': 0.04344063997268677,\n",
       " 'trending on art station': 0.018254399299621582,\n",
       " 'a wide view of a field violet and lila grass bunches growing in a fractal way, dutch angle, cold palette, dynamic light': 0.0221402645111084,\n",
       " 'A lost man in limbo': 0.03234207630157471,\n",
       " 'a bunker hatch in the jungle forest, lost series; ultra high detailed, environment, concept art, realistic, atmospheric': 0.012459933757781982,\n",
       " 'lego goblin portrait': 0.047254323959350586,\n",
       " \"portrait of beautiful young 30's woman with faded makeup has a red decorated scarf around the top of her head, has curly black hair and looks uncertainly. drawing with great detail and painted masterfully in the lighting of the scene\": 0.014100849628448486,\n",
       " 'florida man': 0.020253479480743408,\n",
       " 'detailed old world map of heaven hell and earth as 3 mandalas + ink and watercolor + aged paper + golden ratio': 0.002388477325439453,\n",
       " 'written in Cyberpunk, Minimalistic Typography': 0.07084059715270996,\n",
       " 'tropical rainforest temple overgrown trees pixelart dreampunk': 0.007694244384765625}"
      ]
     },
     "execution_count": 40,
     "metadata": {},
     "output_type": "execute_result"
    }
   ],
   "source": [
    "r.json()"
   ]
  },
  {
   "cell_type": "code",
   "execution_count": 41,
   "id": "cf5f9b87",
   "metadata": {},
   "outputs": [
    {
     "data": {
      "text/plain": [
       "200"
      ]
     },
     "execution_count": 41,
     "metadata": {},
     "output_type": "execute_result"
    }
   ],
   "source": [
    "url = 'http://localhost:8000/modifier_influence/'\n",
    "\n",
    "r = requests.get(url, params={\"modifier_text\": \"Hot\"})\n",
    "r.status_code"
   ]
  },
  {
   "cell_type": "code",
   "execution_count": 42,
   "id": "d0f7abb8",
   "metadata": {},
   "outputs": [
    {
     "data": {
      "text/plain": [
       "0.022305797785520554"
      ]
     },
     "execution_count": 42,
     "metadata": {},
     "output_type": "execute_result"
    }
   ],
   "source": [
    "r.json()"
   ]
  },
  {
   "cell_type": "code",
   "execution_count": null,
   "id": "da7a7a7d",
   "metadata": {},
   "outputs": [],
   "source": []
  }
 ],
 "metadata": {
  "kernelspec": {
   "display_name": "Python 3 (ipykernel)",
   "language": "python",
   "name": "python3"
  },
  "language_info": {
   "codemirror_mode": {
    "name": "ipython",
    "version": 3
   },
   "file_extension": ".py",
   "mimetype": "text/x-python",
   "name": "python",
   "nbconvert_exporter": "python",
   "pygments_lexer": "ipython3",
   "version": "3.8.6"
  }
 },
 "nbformat": 4,
 "nbformat_minor": 5
}
