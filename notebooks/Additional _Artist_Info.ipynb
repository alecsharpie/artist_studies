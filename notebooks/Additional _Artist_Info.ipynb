{
 "cells": [
  {
   "cell_type": "code",
   "execution_count": 15,
   "id": "56c5bade",
   "metadata": {},
   "outputs": [
    {
     "data": {
      "text/plain": [
       "True"
      ]
     },
     "execution_count": 15,
     "metadata": {},
     "output_type": "execute_result"
    }
   ],
   "source": [
    "from dotenv import load_dotenv, find_dotenv\n",
    "\n",
    "env_path = find_dotenv() # automatic find \n",
    "\n",
    "# load your api key as environment variables\n",
    "load_dotenv(env_path)"
   ]
  },
  {
   "cell_type": "code",
   "execution_count": 16,
   "id": "4ff85afc",
   "metadata": {},
   "outputs": [
    {
     "name": "stdout",
     "output_type": "stream",
     "text": [
      "Artist_studies_master.csv \u001b[30m\u001b[43mbatch 3\u001b[m\u001b[m                   \u001b[30m\u001b[43mbatch 6\u001b[m\u001b[m\r\n",
      "\u001b[1m\u001b[36mbatch 1\u001b[m\u001b[m                   \u001b[1m\u001b[36mbatch 3 2\u001b[m\u001b[m                 \u001b[30m\u001b[43mbatch 6 2\u001b[m\u001b[m\r\n",
      "batch 1.zip               \u001b[30m\u001b[43mbatch 4\u001b[m\u001b[m                   \u001b[1m\u001b[36mbatch 7\u001b[m\u001b[m\r\n",
      "\u001b[1m\u001b[36mbatch 2\u001b[m\u001b[m                   \u001b[30m\u001b[43mbatch 4 2\u001b[m\u001b[m\r\n",
      "\u001b[1m\u001b[36mbatch 2 2\u001b[m\u001b[m                 \u001b[30m\u001b[43mbatch 5\u001b[m\u001b[m\r\n"
     ]
    }
   ],
   "source": [
    "!ls ../raw_data"
   ]
  },
  {
   "cell_type": "code",
   "execution_count": 17,
   "id": "667a5ae4",
   "metadata": {},
   "outputs": [],
   "source": [
    "import pandas as pd\n",
    "studies_csv = pd.read_csv('../raw_data/Artist_studies_master.csv')\n",
    "studies_df = studies_csv.copy()"
   ]
  },
  {
   "cell_type": "code",
   "execution_count": 18,
   "id": "b2166a02",
   "metadata": {},
   "outputs": [
    {
     "data": {
      "text/html": [
       "<div>\n",
       "<style scoped>\n",
       "    .dataframe tbody tr th:only-of-type {\n",
       "        vertical-align: middle;\n",
       "    }\n",
       "\n",
       "    .dataframe tbody tr th {\n",
       "        vertical-align: top;\n",
       "    }\n",
       "\n",
       "    .dataframe thead th {\n",
       "        text-align: right;\n",
       "    }\n",
       "</style>\n",
       "<table border=\"1\" class=\"dataframe\">\n",
       "  <thead>\n",
       "    <tr style=\"text-align: right;\">\n",
       "      <th></th>\n",
       "      <th>Artist (last/only)\\n(or other effect)</th>\n",
       "      <th>Artist (first)</th>\n",
       "      <th>Style represented</th>\n",
       "      <th>Complete</th>\n",
       "      <th>User</th>\n",
       "      <th>sgl img folder</th>\n",
       "      <th>cards folder</th>\n",
       "      <th>Batch #</th>\n",
       "      <th>Check x if non-visual artist</th>\n",
       "      <th>Check x if style or other effect</th>\n",
       "      <th>Notes</th>\n",
       "    </tr>\n",
       "  </thead>\n",
       "  <tbody>\n",
       "    <tr>\n",
       "      <th>0</th>\n",
       "      <td>Adams</td>\n",
       "      <td>Ansel</td>\n",
       "      <td>Yes</td>\n",
       "      <td>x</td>\n",
       "      <td>KyrickYoung</td>\n",
       "      <td>x</td>\n",
       "      <td>x</td>\n",
       "      <td>2.0</td>\n",
       "      <td>-</td>\n",
       "      <td>-</td>\n",
       "      <td>NaN</td>\n",
       "    </tr>\n",
       "    <tr>\n",
       "      <th>1</th>\n",
       "      <td>Adams</td>\n",
       "      <td>Arthur</td>\n",
       "      <td>Yes</td>\n",
       "      <td>x</td>\n",
       "      <td>sureailabs</td>\n",
       "      <td>x</td>\n",
       "      <td>x</td>\n",
       "      <td>5.0</td>\n",
       "      <td>-</td>\n",
       "      <td>-</td>\n",
       "      <td>NaN</td>\n",
       "    </tr>\n",
       "    <tr>\n",
       "      <th>2</th>\n",
       "      <td>Aenami</td>\n",
       "      <td>Alena</td>\n",
       "      <td>Yes</td>\n",
       "      <td>x</td>\n",
       "      <td>sureailabs</td>\n",
       "      <td>x</td>\n",
       "      <td>x</td>\n",
       "      <td>3.0</td>\n",
       "      <td>-</td>\n",
       "      <td>-</td>\n",
       "      <td>NaN</td>\n",
       "    </tr>\n",
       "    <tr>\n",
       "      <th>3</th>\n",
       "      <td>af Klint</td>\n",
       "      <td>Hilma</td>\n",
       "      <td>Yes</td>\n",
       "      <td>x</td>\n",
       "      <td>proximasan</td>\n",
       "      <td>x</td>\n",
       "      <td>x</td>\n",
       "      <td>1.0</td>\n",
       "      <td>-</td>\n",
       "      <td>-</td>\n",
       "      <td>NaN</td>\n",
       "    </tr>\n",
       "    <tr>\n",
       "      <th>4</th>\n",
       "      <td>Affandi</td>\n",
       "      <td>NaN</td>\n",
       "      <td>Yes</td>\n",
       "      <td>x</td>\n",
       "      <td>sureailabs</td>\n",
       "      <td>x</td>\n",
       "      <td>x</td>\n",
       "      <td>3.0</td>\n",
       "      <td>-</td>\n",
       "      <td>-</td>\n",
       "      <td>NaN</td>\n",
       "    </tr>\n",
       "  </tbody>\n",
       "</table>\n",
       "</div>"
      ],
      "text/plain": [
       "  Artist (last/only)\\n(or other effect) Artist (first) Style represented  \\\n",
       "0                                 Adams          Ansel               Yes   \n",
       "1                                 Adams         Arthur               Yes   \n",
       "2                                Aenami          Alena               Yes   \n",
       "3                              af Klint          Hilma               Yes   \n",
       "4                               Affandi            NaN               Yes   \n",
       "\n",
       "  Complete         User sgl img folder cards folder  Batch #  \\\n",
       "0        x  KyrickYoung              x            x      2.0   \n",
       "1        x   sureailabs              x            x      5.0   \n",
       "2        x   sureailabs              x            x      3.0   \n",
       "3        x   proximasan              x            x      1.0   \n",
       "4        x   sureailabs              x            x      3.0   \n",
       "\n",
       "  Check x if non-visual artist Check x if style or other effect Notes  \n",
       "0                            -                                -   NaN  \n",
       "1                            -                                -   NaN  \n",
       "2                            -                                -   NaN  \n",
       "3                            -                                -   NaN  \n",
       "4                            -                                -   NaN  "
      ]
     },
     "execution_count": 18,
     "metadata": {},
     "output_type": "execute_result"
    }
   ],
   "source": [
    "studies_df.head()"
   ]
  },
  {
   "cell_type": "code",
   "execution_count": 19,
   "id": "7db648d1",
   "metadata": {},
   "outputs": [
    {
     "data": {
      "text/plain": [
       "Index(['Artist (last/only)\\n(or other effect)', 'Artist (first)',\n",
       "       'Style represented', 'Complete', 'User', 'sgl img folder',\n",
       "       'cards folder', 'Batch #', 'Check x if non-visual artist',\n",
       "       'Check x if style or other effect', 'Notes'],\n",
       "      dtype='object')"
      ]
     },
     "execution_count": 19,
     "metadata": {},
     "output_type": "execute_result"
    }
   ],
   "source": [
    "studies_df.columns"
   ]
  },
  {
   "cell_type": "code",
   "execution_count": 20,
   "id": "37c91e28",
   "metadata": {},
   "outputs": [],
   "source": [
    "studies_df.columns = ['l_name', 'f_name',\n",
    "       'style_represented', 'complete', 'user', 'sgl_img_folder',\n",
    "       'cards_folder', 'batch_id', 'non_visual',\n",
    "       'style_or_effect', 'notes']"
   ]
  },
  {
   "cell_type": "code",
   "execution_count": 21,
   "id": "093e12a6",
   "metadata": {},
   "outputs": [],
   "source": [
    "# filter out styles and non visual artists\n",
    "artist_df = studies_df[studies_df['complete'].str.contains('x') &\n",
    "                       ~studies_df['non_visual'].str.contains('x') &\n",
    "                       ~studies_df['style_or_effect'].str.contains('x')]\n"
   ]
  },
  {
   "cell_type": "code",
   "execution_count": 22,
   "id": "ecee5722",
   "metadata": {
    "scrolled": true
   },
   "outputs": [
    {
     "data": {
      "text/plain": [
       "7.1000000000000005"
      ]
     },
     "execution_count": 22,
     "metadata": {},
     "output_type": "execute_result"
    }
   ],
   "source": [
    "artists_interest_df = artist_df[artist_df['batch_id'] == 1.0]\n",
    "len(artists_interest_df) * 0.05"
   ]
  },
  {
   "cell_type": "code",
   "execution_count": 23,
   "id": "5190ea48",
   "metadata": {},
   "outputs": [
    {
     "name": "stderr",
     "output_type": "stream",
     "text": [
      "/Users/alecsharp/.pyenv/versions/3.8.6/envs/lewagon/lib/python3.8/site-packages/pandas/core/indexing.py:1667: SettingWithCopyWarning: \n",
      "A value is trying to be set on a copy of a slice from a DataFrame.\n",
      "Try using .loc[row_indexer,col_indexer] = value instead\n",
      "\n",
      "See the caveats in the documentation: https://pandas.pydata.org/pandas-docs/stable/user_guide/indexing.html#returning-a-view-versus-a-copy\n",
      "  self.obj[key] = value\n"
     ]
    }
   ],
   "source": [
    "artists_interest_df.loc[:, 'key'] = artists_interest_df.apply(lambda row: f\"{row['f_name']} {row['l_name']}\", axis = 1).str.replace(' ', '_')"
   ]
  },
  {
   "cell_type": "code",
   "execution_count": 25,
   "id": "848bdf01",
   "metadata": {},
   "outputs": [
    {
     "data": {
      "text/html": [
       "<div>\n",
       "<style scoped>\n",
       "    .dataframe tbody tr th:only-of-type {\n",
       "        vertical-align: middle;\n",
       "    }\n",
       "\n",
       "    .dataframe tbody tr th {\n",
       "        vertical-align: top;\n",
       "    }\n",
       "\n",
       "    .dataframe thead th {\n",
       "        text-align: right;\n",
       "    }\n",
       "</style>\n",
       "<table border=\"1\" class=\"dataframe\">\n",
       "  <thead>\n",
       "    <tr style=\"text-align: right;\">\n",
       "      <th></th>\n",
       "      <th>l_name</th>\n",
       "      <th>f_name</th>\n",
       "      <th>style_represented</th>\n",
       "      <th>complete</th>\n",
       "      <th>user</th>\n",
       "      <th>sgl_img_folder</th>\n",
       "      <th>cards_folder</th>\n",
       "      <th>batch_id</th>\n",
       "      <th>non_visual</th>\n",
       "      <th>style_or_effect</th>\n",
       "      <th>notes</th>\n",
       "      <th>key</th>\n",
       "    </tr>\n",
       "  </thead>\n",
       "  <tbody>\n",
       "    <tr>\n",
       "      <th>3</th>\n",
       "      <td>af Klint</td>\n",
       "      <td>Hilma</td>\n",
       "      <td>Yes</td>\n",
       "      <td>x</td>\n",
       "      <td>proximasan</td>\n",
       "      <td>x</td>\n",
       "      <td>x</td>\n",
       "      <td>1.0</td>\n",
       "      <td>-</td>\n",
       "      <td>-</td>\n",
       "      <td>NaN</td>\n",
       "      <td>Hilma_af_Klint</td>\n",
       "    </tr>\n",
       "    <tr>\n",
       "      <th>6</th>\n",
       "      <td>Aivazovsky</td>\n",
       "      <td>Ivan</td>\n",
       "      <td>Yes</td>\n",
       "      <td>x</td>\n",
       "      <td>KyrickYoung</td>\n",
       "      <td>x</td>\n",
       "      <td>x</td>\n",
       "      <td>1.0</td>\n",
       "      <td>-</td>\n",
       "      <td>-</td>\n",
       "      <td>NaN</td>\n",
       "      <td>Ivan_Aivazovsky</td>\n",
       "    </tr>\n",
       "    <tr>\n",
       "      <th>8</th>\n",
       "      <td>Amano</td>\n",
       "      <td>Yoshitaka</td>\n",
       "      <td>Yes</td>\n",
       "      <td>x</td>\n",
       "      <td>EErratica</td>\n",
       "      <td>x</td>\n",
       "      <td>x</td>\n",
       "      <td>1.0</td>\n",
       "      <td>-</td>\n",
       "      <td>-</td>\n",
       "      <td>NaN</td>\n",
       "      <td>Yoshitaka_Amano</td>\n",
       "    </tr>\n",
       "    <tr>\n",
       "      <th>10</th>\n",
       "      <td>Anderson</td>\n",
       "      <td>Wes</td>\n",
       "      <td>Yes</td>\n",
       "      <td>x</td>\n",
       "      <td>EErratica</td>\n",
       "      <td>x</td>\n",
       "      <td>x</td>\n",
       "      <td>1.0</td>\n",
       "      <td>-</td>\n",
       "      <td>-</td>\n",
       "      <td>NaN</td>\n",
       "      <td>Wes_Anderson</td>\n",
       "    </tr>\n",
       "    <tr>\n",
       "      <th>11</th>\n",
       "      <td>Andrews</td>\n",
       "      <td>Esao</td>\n",
       "      <td>Yes</td>\n",
       "      <td>x</td>\n",
       "      <td>sureailabs</td>\n",
       "      <td>x</td>\n",
       "      <td>x</td>\n",
       "      <td>1.0</td>\n",
       "      <td>-</td>\n",
       "      <td>-</td>\n",
       "      <td>NaN</td>\n",
       "      <td>Esao_Andrews</td>\n",
       "    </tr>\n",
       "    <tr>\n",
       "      <th>...</th>\n",
       "      <td>...</td>\n",
       "      <td>...</td>\n",
       "      <td>...</td>\n",
       "      <td>...</td>\n",
       "      <td>...</td>\n",
       "      <td>...</td>\n",
       "      <td>...</td>\n",
       "      <td>...</td>\n",
       "      <td>...</td>\n",
       "      <td>...</td>\n",
       "      <td>...</td>\n",
       "      <td>...</td>\n",
       "    </tr>\n",
       "    <tr>\n",
       "      <th>1088</th>\n",
       "      <td>Orbik</td>\n",
       "      <td>Glen</td>\n",
       "      <td>No</td>\n",
       "      <td>x</td>\n",
       "      <td>KyrickYoung</td>\n",
       "      <td>x</td>\n",
       "      <td>x</td>\n",
       "      <td>1.0</td>\n",
       "      <td>-</td>\n",
       "      <td>-</td>\n",
       "      <td>NaN</td>\n",
       "      <td>Glen_Orbik</td>\n",
       "    </tr>\n",
       "    <tr>\n",
       "      <th>1095</th>\n",
       "      <td>Parker</td>\n",
       "      <td>Lisa</td>\n",
       "      <td>No</td>\n",
       "      <td>x</td>\n",
       "      <td>KyrickYoung</td>\n",
       "      <td>x</td>\n",
       "      <td>x</td>\n",
       "      <td>1.0</td>\n",
       "      <td>-</td>\n",
       "      <td>-</td>\n",
       "      <td>NaN</td>\n",
       "      <td>Lisa_Parker</td>\n",
       "    </tr>\n",
       "    <tr>\n",
       "      <th>1127</th>\n",
       "      <td>Siudmak</td>\n",
       "      <td>Wojciech</td>\n",
       "      <td>No</td>\n",
       "      <td>x</td>\n",
       "      <td>sureailabs</td>\n",
       "      <td>x</td>\n",
       "      <td>x</td>\n",
       "      <td>1.0</td>\n",
       "      <td>-</td>\n",
       "      <td>-</td>\n",
       "      <td>NaN</td>\n",
       "      <td>Wojciech_Siudmak</td>\n",
       "    </tr>\n",
       "    <tr>\n",
       "      <th>1137</th>\n",
       "      <td>Szukalski</td>\n",
       "      <td>Stanisław</td>\n",
       "      <td>No</td>\n",
       "      <td>x</td>\n",
       "      <td>sureailabs</td>\n",
       "      <td>x</td>\n",
       "      <td>x</td>\n",
       "      <td>1.0</td>\n",
       "      <td>-</td>\n",
       "      <td>-</td>\n",
       "      <td>NaN</td>\n",
       "      <td>Stanisław__Szukalski</td>\n",
       "    </tr>\n",
       "    <tr>\n",
       "      <th>1152</th>\n",
       "      <td>Vishnevsky</td>\n",
       "      <td>Dmitry</td>\n",
       "      <td>No</td>\n",
       "      <td>x</td>\n",
       "      <td>KyrickYoung</td>\n",
       "      <td>x</td>\n",
       "      <td>x</td>\n",
       "      <td>1.0</td>\n",
       "      <td>-</td>\n",
       "      <td>-</td>\n",
       "      <td>NaN</td>\n",
       "      <td>Dmitry__Vishnevsky</td>\n",
       "    </tr>\n",
       "  </tbody>\n",
       "</table>\n",
       "<p>142 rows × 12 columns</p>\n",
       "</div>"
      ],
      "text/plain": [
       "          l_name      f_name style_represented complete         user  \\\n",
       "3       af Klint       Hilma               Yes        x   proximasan   \n",
       "6     Aivazovsky        Ivan               Yes        x  KyrickYoung   \n",
       "8          Amano   Yoshitaka               Yes        x    EErratica   \n",
       "10      Anderson         Wes               Yes        x    EErratica   \n",
       "11       Andrews        Esao               Yes        x   sureailabs   \n",
       "...          ...         ...               ...      ...          ...   \n",
       "1088       Orbik        Glen                No        x  KyrickYoung   \n",
       "1095      Parker        Lisa                No        x  KyrickYoung   \n",
       "1127     Siudmak    Wojciech                No        x   sureailabs   \n",
       "1137   Szukalski  Stanisław                 No        x   sureailabs   \n",
       "1152  Vishnevsky     Dmitry                 No        x  KyrickYoung   \n",
       "\n",
       "     sgl_img_folder cards_folder  batch_id non_visual style_or_effect notes  \\\n",
       "3                 x            x       1.0          -               -   NaN   \n",
       "6                 x            x       1.0          -               -   NaN   \n",
       "8                 x            x       1.0          -               -   NaN   \n",
       "10                x            x       1.0          -               -   NaN   \n",
       "11                x            x       1.0          -               -   NaN   \n",
       "...             ...          ...       ...        ...             ...   ...   \n",
       "1088              x            x       1.0          -               -   NaN   \n",
       "1095              x            x       1.0          -               -   NaN   \n",
       "1127              x            x       1.0          -               -   NaN   \n",
       "1137              x            x       1.0          -               -   NaN   \n",
       "1152              x            x       1.0          -               -   NaN   \n",
       "\n",
       "                       key  \n",
       "3           Hilma_af_Klint  \n",
       "6          Ivan_Aivazovsky  \n",
       "8          Yoshitaka_Amano  \n",
       "10            Wes_Anderson  \n",
       "11            Esao_Andrews  \n",
       "...                    ...  \n",
       "1088            Glen_Orbik  \n",
       "1095           Lisa_Parker  \n",
       "1127      Wojciech_Siudmak  \n",
       "1137  Stanisław__Szukalski  \n",
       "1152    Dmitry__Vishnevsky  \n",
       "\n",
       "[142 rows x 12 columns]"
      ]
     },
     "execution_count": 25,
     "metadata": {},
     "output_type": "execute_result"
    }
   ],
   "source": [
    "artists_interest_df"
   ]
  },
  {
   "cell_type": "code",
   "execution_count": 72,
   "id": "9e3c60c9",
   "metadata": {},
   "outputs": [],
   "source": [
    "import wikipediaapi\n",
    "import numpy as np\n",
    "import os\n",
    "import openai\n",
    "\n",
    "openai.api_key = os.getenv(\"OPENAI_API_KEY\")\n",
    "\n",
    "wiki_wiki = wikipediaapi.Wikipedia('en')\n",
    "\n",
    "##### use regex for replacements #####\n",
    "empty_row = \"|------|--------|------------------|-----------------|--------|----------|-------------|-------------|-------------|\"\n",
    "empty_row2 = \"| --- | --- | --- | --- | --- | --- | --- | --- | --- |\"\n",
    "empty_row3 = '|------|--------|------------------|-----------------|---------|----------|-------------|-------------|-------------|'\n",
    "\n",
    "table = \"| Name | Gender | Born (dd-mm-yyyy) | Died (dd-mm-yyyy) | Style | Location | Nationality | Occupation | Art School |\"\n",
    "\n",
    "headers = [x.strip() for x in table.split('|')[1:-1]]\n"
   ]
  },
  {
   "cell_type": "code",
   "execution_count": 28,
   "id": "3bb4f560",
   "metadata": {},
   "outputs": [],
   "source": [
    "# https://stackoverflow.com/questions/51122413/regex-for-extracting-all-complex-dates-formats-from-a-string-in-python\n",
    "import re\n",
    "import calendar\n",
    "\n",
    "class DateRegex:\n",
    "    \n",
    "    def __init__(self):\n",
    "        self.hello = 'hi'\n",
    "        # create regex helper strings\n",
    "        full_months = [month for month in calendar.month_name if month]\n",
    "        short_months = [d[:3] for d in full_months]\n",
    "        months = '|'.join(short_months + full_months)\n",
    "        day = r'\\d+'\n",
    "        year = r'\\d+'\n",
    "        day_or_year = r'\\d+(?:\\w+)?'\n",
    "        separator = r'[.,]?\\s+'\n",
    "        # compile regex\n",
    "        self.regex_expression = re.compile(rf'(?:{day}{separator})?(?:{months}){separator}{day_or_year}(?:{separator}{year})?')\n",
    "        \n",
    "    def get_all_dates(self, input_text):\n",
    "        \n",
    "        return self.regex_expression.findall(input_text)\n",
    "\n",
    "date_regex = DateRegex()"
   ]
  },
  {
   "cell_type": "code",
   "execution_count": 64,
   "id": "e04b5a19",
   "metadata": {},
   "outputs": [
    {
     "data": {
      "text/plain": [
       "7.1"
      ]
     },
     "execution_count": 64,
     "metadata": {},
     "output_type": "execute_result"
    }
   ],
   "source": [
    "# estimate cost for all artists\n",
    "round(len(artists_interest_df) * 0.05, 2)"
   ]
  },
  {
   "cell_type": "code",
   "execution_count": null,
   "id": "a7cff005",
   "metadata": {},
   "outputs": [],
   "source": [
    "\n",
    "wiki_page = wiki_wiki.page(artist)\n",
    "    if wiki_page.exists():\n",
    "\n",
    "        artist_text = wiki_page.text\n",
    "        \n",
    "        print(artist_text[:50])\n",
    "\n",
    "        prompt = \"A table summarizing an Artist:\\n\\n\" + artist_text[:2000] + \"\\n\\n\" + table\n",
    "\n",
    "\n",
    "        response = openai.Completion.create(\n",
    "            engine=\"text-davinci-002\",\n",
    "            prompt = prompt,\n",
    "            temperature=0,\n",
    "            max_tokens=200,\n",
    "            top_p=1.0,\n",
    "            frequency_penalty=0.0,\n",
    "            presence_penalty=0.0\n",
    "        )\n",
    "\n",
    "        \n",
    "        ##### use regex for replacements #####\n",
    "        results = [x.strip() for x in response.choices[0].text.replace(empty_row, '').replace(empty_row2, '').replace(empty_row3, '').split('|')[1:-1]]\n",
    "\n",
    "        results_dict = {k:v for k, v in zip(headers, results)}\n",
    "\n",
    "        results_dict['Artist'] = artist\n",
    "        results_dict['URL'] = wiki_page.fullurl\n",
    "\n",
    "        records_list.append(results_dict)"
   ]
  },
  {
   "cell_type": "code",
   "execution_count": 73,
   "id": "0ef8e818",
   "metadata": {},
   "outputs": [
    {
     "name": "stderr",
     "output_type": "stream",
     "text": [
      "\r",
      "  0%|                                                    | 0/86 [00:00<?, ?it/s]"
     ]
    },
    {
     "name": "stdout",
     "output_type": "stream",
     "text": [
      "Magdalena Carmen Frida Kahlo y Calderón (Spanish p\n"
     ]
    },
    {
     "name": "stderr",
     "output_type": "stream",
     "text": [
      "\r",
      "  1%|▌                                           | 1/86 [00:06<09:03,  6.39s/it]"
     ]
    },
    {
     "name": "stdout",
     "output_type": "stream",
     "text": [
      "Wassily Wassilyevich Kandinsky (; Russian: Василий\n"
     ]
    },
    {
     "name": "stderr",
     "output_type": "stream",
     "text": [
      "\r",
      "  2%|█                                           | 2/86 [00:10<07:24,  5.29s/it]"
     ]
    },
    {
     "name": "stdout",
     "output_type": "stream",
     "text": [
      "Felix Runcie Kelly (3 February 1914 – 3 July 1994)\n"
     ]
    },
    {
     "name": "stderr",
     "output_type": "stream",
     "text": [
      "\r",
      "  3%|█▌                                          | 3/86 [00:16<07:12,  5.21s/it]"
     ]
    },
    {
     "name": "stdout",
     "output_type": "stream",
     "text": [
      "John Frederick Kensett (March 22, 1816 – December \n"
     ]
    },
    {
     "name": "stderr",
     "output_type": "stream",
     "text": [
      "\r",
      "  5%|██                                          | 4/86 [00:20<06:57,  5.09s/it]"
     ]
    },
    {
     "name": "stdout",
     "output_type": "stream",
     "text": [
      "William Thomas Kinkade III (January 19, 1958 – Apr\n"
     ]
    },
    {
     "name": "stderr",
     "output_type": "stream",
     "text": [
      "\r",
      "  6%|██▌                                         | 5/86 [00:27<07:26,  5.51s/it]"
     ]
    },
    {
     "name": "stdout",
     "output_type": "stream",
     "text": [
      "Paul Klee (German: [paʊ̯l ˈkleː]; 18 December 1879\n"
     ]
    },
    {
     "name": "stderr",
     "output_type": "stream",
     "text": [
      "\r",
      "  7%|███                                         | 6/86 [00:32<07:28,  5.60s/it]"
     ]
    },
    {
     "name": "stdout",
     "output_type": "stream",
     "text": [
      "Gustav Klimt (July 14, 1862 – February 6, 1918) wa\n"
     ]
    },
    {
     "name": "stderr",
     "output_type": "stream",
     "text": [
      "\r",
      "  8%|███▌                                        | 7/86 [00:39<07:39,  5.81s/it]"
     ]
    },
    {
     "name": "stdout",
     "output_type": "stream",
     "text": [
      "Jeffrey Lynn Koons (; born January 21, 1955) is an\n"
     ]
    },
    {
     "name": "stderr",
     "output_type": "stream",
     "text": [
      "\r",
      "  9%|████                                        | 8/86 [00:44<07:09,  5.51s/it]"
     ]
    },
    {
     "name": "stdout",
     "output_type": "stream",
     "text": [
      "Ilya Kuvshinov (born 20 February 1990) is a Russia\n"
     ]
    },
    {
     "name": "stderr",
     "output_type": "stream",
     "text": [
      " 12%|█████                                      | 10/86 [00:49<04:49,  3.80s/it]"
     ]
    },
    {
     "name": "stdout",
     "output_type": "stream",
     "text": [
      "René François Ghislain Magritte (French: [ʁəne fʁɑ\n"
     ]
    },
    {
     "name": "stderr",
     "output_type": "stream",
     "text": [
      "\r",
      " 13%|█████▌                                     | 11/86 [00:54<05:13,  4.18s/it]"
     ]
    },
    {
     "name": "stdout",
     "output_type": "stream",
     "text": [
      "Don Maitz is an American science fiction, fantasy,\n"
     ]
    },
    {
     "name": "stderr",
     "output_type": "stream",
     "text": [
      "\r",
      " 14%|██████                                     | 12/86 [00:58<05:11,  4.21s/it]"
     ]
    },
    {
     "name": "stdout",
     "output_type": "stream",
     "text": [
      "John Martin may refer to:\n",
      "\n",
      "Business\n",
      "John Martin (b\n"
     ]
    },
    {
     "name": "stderr",
     "output_type": "stream",
     "text": [
      "\r",
      " 15%|██████▌                                    | 13/86 [01:02<05:05,  4.18s/it]"
     ]
    },
    {
     "name": "stdout",
     "output_type": "stream",
     "text": [
      "Peter Max (born Peter Max Finkelstein, October 19,\n"
     ]
    },
    {
     "name": "stderr",
     "output_type": "stream",
     "text": [
      "\r",
      " 16%|███████                                    | 14/86 [01:08<05:30,  4.59s/it]"
     ]
    },
    {
     "name": "stdout",
     "output_type": "stream",
     "text": [
      "Robert McCall may refer to:\n",
      "\n",
      "Robert McCall (figure\n"
     ]
    },
    {
     "name": "stderr",
     "output_type": "stream",
     "text": [
      "\r",
      " 17%|███████▌                                   | 15/86 [01:12<05:28,  4.62s/it]"
     ]
    },
    {
     "name": "stdout",
     "output_type": "stream",
     "text": [
      "Ralph Angus McQuarrie (; June 13, 1929 – March 3, \n"
     ]
    },
    {
     "name": "stderr",
     "output_type": "stream",
     "text": [
      "\r",
      " 19%|████████                                   | 16/86 [01:17<05:14,  4.50s/it]"
     ]
    },
    {
     "name": "stdout",
     "output_type": "stream",
     "text": [
      "Sydney Jay Mead (July 18, 1933 – December 30, 2019\n"
     ]
    },
    {
     "name": "stderr",
     "output_type": "stream",
     "text": [
      "\r",
      " 20%|████████▌                                  | 17/86 [01:22<05:21,  4.67s/it]"
     ]
    },
    {
     "name": "stdout",
     "output_type": "stream",
     "text": [
      "Frank Miller (born January 27, 1957) is an America\n"
     ]
    },
    {
     "name": "stderr",
     "output_type": "stream",
     "text": [
      " 23%|██████████                                 | 20/86 [01:27<02:48,  2.56s/it]"
     ]
    },
    {
     "name": "stdout",
     "output_type": "stream",
     "text": [
      "Christopher Moore is the name of:\n",
      "\n",
      "Chris Moore (bu\n"
     ]
    },
    {
     "name": "stderr",
     "output_type": "stream",
     "text": [
      "\r",
      " 24%|██████████▌                                | 21/86 [01:31<03:18,  3.05s/it]"
     ]
    },
    {
     "name": "stdout",
     "output_type": "stream",
     "text": [
      "Alfons Maria Mucha (Czech: [ˈalfons ˈmuxa] (listen\n"
     ]
    },
    {
     "name": "stderr",
     "output_type": "stream",
     "text": [
      " 27%|███████████▍                               | 23/86 [01:37<02:47,  2.66s/it]"
     ]
    },
    {
     "name": "stdout",
     "output_type": "stream",
     "text": [
      "Ted Nasmith (born 1956) is a Canadian artist, illu\n"
     ]
    },
    {
     "name": "stderr",
     "output_type": "stream",
     "text": [
      "\r",
      " 28%|████████████                               | 24/86 [01:41<03:22,  3.26s/it]"
     ]
    },
    {
     "name": "stdout",
     "output_type": "stream",
     "text": [
      "Victo Ngai (born 1988) is an American illustrator \n"
     ]
    },
    {
     "name": "stderr",
     "output_type": "stream",
     "text": [
      "\r",
      " 29%|████████████▌                              | 25/86 [01:45<03:35,  3.53s/it]"
     ]
    },
    {
     "name": "stdout",
     "output_type": "stream",
     "text": [
      "Agnes Lawrence Pelton (1881–1961) was a modernist \n"
     ]
    },
    {
     "name": "stderr",
     "output_type": "stream",
     "text": [
      "\r",
      " 30%|█████████████                              | 26/86 [01:49<03:40,  3.67s/it]"
     ]
    },
    {
     "name": "stdout",
     "output_type": "stream",
     "text": [
      "Bruce Pennington (born 10 May 1944, in Somerset, E\n"
     ]
    },
    {
     "name": "stderr",
     "output_type": "stream",
     "text": [
      "\r",
      " 31%|█████████████▌                             | 27/86 [01:53<03:34,  3.64s/it]"
     ]
    },
    {
     "name": "stdout",
     "output_type": "stream",
     "text": [
      "Paul Jackson Pollock (; January 28, 1912 – August \n"
     ]
    },
    {
     "name": "stderr",
     "output_type": "stream",
     "text": [
      " 34%|██████████████▌                            | 29/86 [02:00<03:04,  3.24s/it]"
     ]
    },
    {
     "name": "stdout",
     "output_type": "stream",
     "text": [
      "Milton Ernest \"Robert\" Rauschenberg (October 22, 1\n"
     ]
    },
    {
     "name": "stderr",
     "output_type": "stream",
     "text": [
      "\r",
      " 35%|███████████████                            | 30/86 [02:05<03:31,  3.77s/it]"
     ]
    },
    {
     "name": "stdout",
     "output_type": "stream",
     "text": [
      "Diego María de la Concepción Juan Nepomuceno Estan\n"
     ]
    },
    {
     "name": "stderr",
     "output_type": "stream",
     "text": [
      "\r",
      " 36%|███████████████▍                           | 31/86 [02:08<03:19,  3.62s/it]"
     ]
    },
    {
     "name": "stdout",
     "output_type": "stream",
     "text": [
      "Hubert Robert (22 May 1733 – 15 April 1808) was a \n"
     ]
    },
    {
     "name": "stderr",
     "output_type": "stream",
     "text": [
      " 38%|████████████████▌                          | 33/86 [02:13<02:39,  3.00s/it]"
     ]
    },
    {
     "name": "stdout",
     "output_type": "stream",
     "text": [
      "Norman Percevel Rockwell (February 3, 1894 – Novem\n"
     ]
    },
    {
     "name": "stderr",
     "output_type": "stream",
     "text": [
      "\r",
      " 40%|█████████████████                          | 34/86 [02:24<04:39,  5.37s/it]"
     ]
    },
    {
     "name": "stdout",
     "output_type": "stream",
     "text": [
      "Robert Norman Ross (October 29, 1942 – July 4, 199\n"
     ]
    },
    {
     "name": "stderr",
     "output_type": "stream",
     "text": [
      "\r",
      " 41%|█████████████████▌                         | 35/86 [02:31<05:01,  5.90s/it]"
     ]
    },
    {
     "name": "stdout",
     "output_type": "stream",
     "text": [
      "Egon Leo Adolf Ludwig Schiele (German: [ˈeːɡɔn ˈʃi\n"
     ]
    },
    {
     "name": "stderr",
     "output_type": "stream",
     "text": [
      "\r",
      " 42%|██████████████████                         | 36/86 [02:37<04:48,  5.78s/it]"
     ]
    },
    {
     "name": "stdout",
     "output_type": "stream",
     "text": [
      "Ivan Ivanovich Shishkin (Russian: Ива́н Ива́нович \n"
     ]
    },
    {
     "name": "stderr",
     "output_type": "stream",
     "text": [
      " 44%|███████████████████                        | 38/86 [02:42<03:05,  3.87s/it]"
     ]
    },
    {
     "name": "stdout",
     "output_type": "stream",
     "text": [
      "Zachary Edward Snyder (born March 1, 1966) is an A\n"
     ]
    },
    {
     "name": "stderr",
     "output_type": "stream",
     "text": [
      "\r",
      " 45%|███████████████████▌                       | 39/86 [02:45<02:52,  3.66s/it]"
     ]
    },
    {
     "name": "stdout",
     "output_type": "stream",
     "text": [
      "Joaquín Sorolla y Bastida (Valencian: Joaquim Soro\n"
     ]
    },
    {
     "name": "stderr",
     "output_type": "stream",
     "text": [
      " 48%|████████████████████▌                      | 41/86 [02:51<02:17,  3.05s/it]"
     ]
    },
    {
     "name": "stdout",
     "output_type": "stream",
     "text": [
      "Thomas John Thomson (August 5, 1877 – July 8, 1917\n"
     ]
    },
    {
     "name": "stderr",
     "output_type": "stream",
     "text": [
      " 50%|█████████████████████▌                     | 43/86 [02:57<02:05,  2.93s/it]"
     ]
    },
    {
     "name": "stdout",
     "output_type": "stream",
     "text": [
      "Joseph Mallord William Turner  (23 April 1775 – 19\n"
     ]
    },
    {
     "name": "stderr",
     "output_type": "stream",
     "text": [
      "\r",
      " 51%|██████████████████████                     | 44/86 [03:01<02:16,  3.25s/it]"
     ]
    },
    {
     "name": "stdout",
     "output_type": "stream",
     "text": [
      "Vincent Willem van Gogh (Dutch: [ˈvɪnsənt ˈʋɪləɱ v\n"
     ]
    },
    {
     "name": "stderr",
     "output_type": "stream",
     "text": [
      "\r",
      " 52%|██████████████████████▌                    | 45/86 [03:06<02:35,  3.79s/it]"
     ]
    },
    {
     "name": "stdout",
     "output_type": "stream",
     "text": [
      "Rembrandt Harmenszoon van Rijn (, Dutch: [ˈrɛmbrɑn\n"
     ]
    },
    {
     "name": "stderr",
     "output_type": "stream",
     "text": [
      "\r",
      " 53%|██████████████████████▉                    | 46/86 [03:11<02:43,  4.08s/it]"
     ]
    },
    {
     "name": "stdout",
     "output_type": "stream",
     "text": [
      "Louis William Wain (5 August 1860 – 4 July 1939) w\n"
     ]
    },
    {
     "name": "stderr",
     "output_type": "stream",
     "text": [
      "\r",
      " 55%|███████████████████████▌                   | 47/86 [03:16<02:51,  4.40s/it]"
     ]
    },
    {
     "name": "stdout",
     "output_type": "stream",
     "text": [
      "Ron Walotsky (21 August 1943 – July 29, 2002) was \n"
     ]
    },
    {
     "name": "stderr",
     "output_type": "stream",
     "text": [
      "\r",
      " 56%|████████████████████████                   | 48/86 [03:20<02:41,  4.24s/it]"
     ]
    },
    {
     "name": "stdout",
     "output_type": "stream",
     "text": [
      "Andy Warhol (; born Andrew Warhola Jr.; August 6, \n"
     ]
    },
    {
     "name": "stderr",
     "output_type": "stream",
     "text": [
      "\r",
      " 57%|████████████████████████▌                  | 49/86 [03:25<02:46,  4.51s/it]"
     ]
    },
    {
     "name": "stdout",
     "output_type": "stream",
     "text": [
      "Timothy White or Tim White may refer to:\n",
      "\n",
      "Timothy \n"
     ]
    },
    {
     "name": "stderr",
     "output_type": "stream",
     "text": [
      "\r",
      " 58%|█████████████████████████                  | 50/86 [03:29<02:31,  4.21s/it]"
     ]
    },
    {
     "name": "stdout",
     "output_type": "stream",
     "text": [
      "Liam Wong is a Scottish photographer and games des\n"
     ]
    },
    {
     "name": "stderr",
     "output_type": "stream",
     "text": [
      "\r",
      " 59%|█████████████████████████▌                 | 51/86 [03:33<02:34,  4.41s/it]"
     ]
    },
    {
     "name": "stdout",
     "output_type": "stream",
     "text": [
      "Jacek Yerka (born Jacek Kowalski in 1952) is a Pol\n"
     ]
    },
    {
     "name": "stderr",
     "output_type": "stream",
     "text": [
      " 63%|███████████████████████████                | 54/86 [03:37<01:10,  2.19s/it]"
     ]
    },
    {
     "name": "stdout",
     "output_type": "stream",
     "text": [
      "Alexander Bogen (Hebrew: אלכסנדר בוגן; born Januar\n"
     ]
    },
    {
     "name": "stderr",
     "output_type": "stream",
     "text": [
      "\r",
      " 64%|███████████████████████████▌               | 55/86 [03:43<01:40,  3.25s/it]"
     ]
    },
    {
     "name": "stdout",
     "output_type": "stream",
     "text": [
      "Rafał Olbinski (born February 21, 1943) is a Polis\n"
     ]
    },
    {
     "name": "stderr",
     "output_type": "stream",
     "text": [
      " 67%|█████████████████████████████              | 58/86 [03:49<01:01,  2.18s/it]"
     ]
    },
    {
     "name": "stdout",
     "output_type": "stream",
     "text": [
      "Esteban Vicente Pérez (January 20, 1903 – January \n"
     ]
    },
    {
     "name": "stderr",
     "output_type": "stream",
     "text": [
      "\r",
      " 69%|█████████████████████████████▌             | 59/86 [03:54<01:22,  3.07s/it]"
     ]
    },
    {
     "name": "stdout",
     "output_type": "stream",
     "text": [
      "Abdel Hadi Al Gazzar (1925–1966) (Arabic: عبد الها\n"
     ]
    },
    {
     "name": "stderr",
     "output_type": "stream",
     "text": [
      "\r",
      " 70%|██████████████████████████████             | 60/86 [03:58<01:24,  3.24s/it]"
     ]
    },
    {
     "name": "stdout",
     "output_type": "stream",
     "text": [
      "Moosa Al Halyan (born 1969) is an Emirati surreali\n"
     ]
    },
    {
     "name": "stderr",
     "output_type": "stream",
     "text": [
      "\r",
      " 71%|██████████████████████████████▌            | 61/86 [04:02<01:23,  3.33s/it]"
     ]
    },
    {
     "name": "stdout",
     "output_type": "stream",
     "text": [
      "John Dyer Baizley is a Philadelphian musician and \n"
     ]
    },
    {
     "name": "stderr",
     "output_type": "stream",
     "text": [
      "\r",
      " 72%|██████████████████████████████▉            | 62/86 [04:09<01:47,  4.48s/it]"
     ]
    },
    {
     "name": "stdout",
     "output_type": "stream",
     "text": [
      "Didier Barra (1590 - 1656) was a French Renaissanc\n"
     ]
    },
    {
     "name": "stderr",
     "output_type": "stream",
     "text": [
      " 76%|████████████████████████████████▌          | 65/86 [04:13<00:47,  2.26s/it]"
     ]
    },
    {
     "name": "stdout",
     "output_type": "stream",
     "text": [
      "William Copley is the name of:\n",
      "\n",
      "William Copley (So\n"
     ]
    },
    {
     "name": "stderr",
     "output_type": "stream",
     "text": [
      " 78%|█████████████████████████████████▌         | 67/86 [04:19<00:45,  2.37s/it]"
     ]
    },
    {
     "name": "stdout",
     "output_type": "stream",
     "text": [
      "Monsù Desiderio is the  name formerly given to an \n"
     ]
    },
    {
     "name": "stderr",
     "output_type": "stream",
     "text": [
      "\r",
      " 79%|██████████████████████████████████         | 68/86 [04:23<00:56,  3.14s/it]"
     ]
    },
    {
     "name": "stdout",
     "output_type": "stream",
     "text": [
      "Gerardo Dottori  (11 November 1884 – 13 June 1977)\n"
     ]
    },
    {
     "name": "stderr",
     "output_type": "stream",
     "text": [
      "\r",
      " 80%|██████████████████████████████████▌        | 69/86 [04:28<01:01,  3.64s/it]"
     ]
    },
    {
     "name": "stdout",
     "output_type": "stream",
     "text": [
      "Henri-Robert-Marcel Duchamp (UK: , US: , French: [\n"
     ]
    },
    {
     "name": "stderr",
     "output_type": "stream",
     "text": [
      "\r",
      " 81%|███████████████████████████████████        | 70/86 [04:35<01:13,  4.58s/it]"
     ]
    },
    {
     "name": "stdout",
     "output_type": "stream",
     "text": [
      "Germaine Dulac (French: [dylak]; born Charlotte El\n"
     ]
    },
    {
     "name": "stderr",
     "output_type": "stream",
     "text": [
      "\r",
      " 83%|███████████████████████████████████▌       | 71/86 [04:41<01:16,  5.07s/it]"
     ]
    },
    {
     "name": "stdout",
     "output_type": "stream",
     "text": [
      "Gian Paolo Dulbecco (12 September 1941) is an Ital\n"
     ]
    },
    {
     "name": "stderr",
     "output_type": "stream",
     "text": [
      "\r",
      " 84%|████████████████████████████████████       | 72/86 [04:46<01:11,  5.10s/it]"
     ]
    },
    {
     "name": "stdout",
     "output_type": "stream",
     "text": [
      "Victorina Durán Cebrián (11 December 1899 – 10 Dec\n"
     ]
    },
    {
     "name": "stderr",
     "output_type": "stream",
     "text": [
      "\r",
      " 85%|████████████████████████████████████▌      | 73/86 [04:51<01:05,  5.01s/it]"
     ]
    },
    {
     "name": "stdout",
     "output_type": "stream",
     "text": [
      "Danielle Eckhardt (born 1982), is an American pain\n"
     ]
    },
    {
     "name": "stderr",
     "output_type": "stream",
     "text": [
      " 87%|█████████████████████████████████████▌     | 75/86 [04:56<00:38,  3.54s/it]"
     ]
    },
    {
     "name": "stdout",
     "output_type": "stream",
     "text": [
      "Nusch Éluard (born Maria Benz; 21 June 1906 – 28 N\n"
     ]
    },
    {
     "name": "stderr",
     "output_type": "stream",
     "text": [
      "\r",
      " 88%|██████████████████████████████████████     | 76/86 [05:01<00:38,  3.88s/it]"
     ]
    },
    {
     "name": "stdout",
     "output_type": "stream",
     "text": [
      "Sylvia Fein (born November 20, 1919) is an America\n"
     ]
    },
    {
     "name": "stderr",
     "output_type": "stream",
     "text": [
      "\r",
      " 90%|██████████████████████████████████████▌    | 77/86 [05:06<00:39,  4.38s/it]"
     ]
    },
    {
     "name": "stdout",
     "output_type": "stream",
     "text": [
      "David Chester Gibbons (born 14 April 1949) is an E\n"
     ]
    },
    {
     "name": "stderr",
     "output_type": "stream",
     "text": [
      "\r",
      " 91%|███████████████████████████████████████    | 78/86 [05:11<00:35,  4.46s/it]"
     ]
    },
    {
     "name": "stdout",
     "output_type": "stream",
     "text": [
      "Juan Antonio Giménez López ([xwãn xiˈmenes]; 26 No\n"
     ]
    },
    {
     "name": "stderr",
     "output_type": "stream",
     "text": [
      "\r",
      " 92%|███████████████████████████████████████▌   | 79/86 [05:17<00:34,  4.97s/it]"
     ]
    },
    {
     "name": "stdout",
     "output_type": "stream",
     "text": [
      "John Higgins,  (born 18 May 1975) is a Scottish pr\n"
     ]
    },
    {
     "name": "stderr",
     "output_type": "stream",
     "text": [
      "\r",
      " 93%|████████████████████████████████████████   | 80/86 [05:22<00:29,  4.85s/it]"
     ]
    },
    {
     "name": "stdout",
     "output_type": "stream",
     "text": [
      "Arman Tateos Manookian (Armenian: Արման Թադէոս Ման\n"
     ]
    },
    {
     "name": "stderr",
     "output_type": "stream",
     "text": [
      "\r",
      " 94%|████████████████████████████████████████▌  | 81/86 [05:26<00:24,  4.81s/it]"
     ]
    },
    {
     "name": "stdout",
     "output_type": "stream",
     "text": [
      "Glen Orbik (1963 – May 11, 2015) was an American i\n"
     ]
    },
    {
     "name": "stderr",
     "output_type": "stream",
     "text": [
      "\r",
      " 95%|█████████████████████████████████████████  | 82/86 [05:31<00:19,  4.78s/it]"
     ]
    },
    {
     "name": "stdout",
     "output_type": "stream",
     "text": [
      "Home and Away is an Australian television soap ope\n"
     ]
    },
    {
     "name": "stderr",
     "output_type": "stream",
     "text": [
      "\r",
      " 97%|█████████████████████████████████████████▌ | 83/86 [05:36<00:14,  4.77s/it]"
     ]
    },
    {
     "name": "stdout",
     "output_type": "stream",
     "text": [
      "Wojciech Kazimierz \"Wojtek\" Siudmak (born 10 Octob\n"
     ]
    },
    {
     "name": "stderr",
     "output_type": "stream",
     "text": [
      "\r",
      " 98%|██████████████████████████████████████████ | 84/86 [05:40<00:09,  4.65s/it]"
     ]
    },
    {
     "name": "stdout",
     "output_type": "stream",
     "text": [
      "Stanisław Szukalski (13 December 1893 – 19 May 198\n"
     ]
    },
    {
     "name": "stderr",
     "output_type": "stream",
     "text": [
      "100%|███████████████████████████████████████████| 86/86 [05:45<00:00,  4.02s/it]\n"
     ]
    }
   ],
   "source": [
    "from tqdm import tqdm\n",
    "#records_list = []\n",
    "#artist = 'Hubert_Robert'\n",
    "#artist = 'Annibale_Carracci'\n",
    "\n",
    "for artist in tqdm(artists_interest_df['key'][56:]):\n",
    "    wiki_page = wiki_wiki.page(artist)\n",
    "    if wiki_page.exists():\n",
    "\n",
    "        artist_text = wiki_page.text\n",
    "        \n",
    "        print(artist_text[:50])\n",
    "\n",
    "        prompt = \"A table summarizing an Artist:\\n\\n\" + artist_text[:2000] + \"\\n\\n\" + table\n",
    "\n",
    "\n",
    "        response = openai.Completion.create(\n",
    "            engine=\"text-davinci-002\",\n",
    "            prompt = prompt,\n",
    "            temperature=0,\n",
    "            max_tokens=200,\n",
    "            top_p=1.0,\n",
    "            frequency_penalty=0.0,\n",
    "            presence_penalty=0.0\n",
    "        )\n",
    "\n",
    "        \n",
    "        ##### use regex for replacements #####\n",
    "        results = [x.strip() for x in response.choices[0].text.replace(empty_row, '').replace(empty_row2, '').replace(empty_row3, '').split('|')[1:-1]]\n",
    "\n",
    "        results_dict = {k:v for k, v in zip(headers, results)}\n",
    "\n",
    "        results_dict['Artist'] = artist\n",
    "        results_dict['URL'] = wiki_page.fullurl\n",
    "\n",
    "        records_list.append(results_dict)"
   ]
  },
  {
   "cell_type": "code",
   "execution_count": 75,
   "id": "660855fe",
   "metadata": {
    "scrolled": true
   },
   "outputs": [],
   "source": [
    "results_df = pd.DataFrame(records_list)"
   ]
  },
  {
   "cell_type": "code",
   "execution_count": 80,
   "id": "f9db9db8",
   "metadata": {},
   "outputs": [
    {
     "data": {
      "text/plain": [
       "[{'Name': 'Hilma af Klint',\n",
       "  'Gender': 'Female',\n",
       "  'Born (dd-mm-yyyy)': '26-10-1862',\n",
       "  'Died (dd-mm-yyyy)': '21-10-1944',\n",
       "  'Style': 'Abstract',\n",
       "  'Location': 'Sweden',\n",
       "  'Nationality': 'Swedish',\n",
       "  'Occupation': 'Artist, Mystic',\n",
       "  'Art School': 'Royal Academy of Fine Arts',\n",
       "  'Artist': 'Hilma_af_Klint',\n",
       "  'URL': 'https://en.wikipedia.org/wiki/Hilma_af_Klint'},\n",
       " {'Name': 'Ivan Aivazovsky',\n",
       "  'Gender': 'Male',\n",
       "  'Born (dd-mm-yyyy)': '29-07-1817',\n",
       "  'Died (dd-mm-yyyy)': '02-05-1900',\n",
       "  'Style': 'Romanticism',\n",
       "  'Location': 'Feodosia, Crimea, Russian Empire',\n",
       "  'Nationality': 'Russian',\n",
       "  'Occupation': 'Painter',\n",
       "  'Art School': 'Imperial Academy of Arts',\n",
       "  'Artist': 'Ivan_Aivazovsky',\n",
       "  'URL': 'https://en.wikipedia.org/wiki/Ivan_Aivazovsky'},\n",
       " {'Name': 'Yoshitaka Amano',\n",
       "  'Gender': 'Male',\n",
       "  'Born (dd-mm-yyyy)': '26-03-1952',\n",
       "  'Died (dd-mm-yyyy)': '-',\n",
       "  'Style': 'Anime, Manga, Video Games, Painting',\n",
       "  'Location': 'Shizuoka, Japan',\n",
       "  'Nationality': 'Japanese',\n",
       "  'Occupation': 'Artist, Character Designer, Illustrator, Scenic Designer, Costume Designer',\n",
       "  'Art School': 'Tatsunoko Productions',\n",
       "  'Artist': 'Yoshitaka_Amano',\n",
       "  'URL': 'https://en.wikipedia.org/wiki/Yoshitaka_Amano'},\n",
       " {'Name': 'Wesley Wales Anderson',\n",
       "  'Gender': 'Male',\n",
       "  'Born (dd-mm-yyyy)': '01-05-1969',\n",
       "  'Died (dd-mm-yyyy)': '',\n",
       "  'Style': 'Eclectic, Unique, Auteur',\n",
       "  'Location': 'Houston, Texas',\n",
       "  'Nationality': 'American',\n",
       "  'Occupation': 'Filmmaker',\n",
       "  'Art School': 'N/A',\n",
       "  'Artist': 'Wes_Anderson',\n",
       "  'URL': 'https://en.wikipedia.org/wiki/Wes_Anderson'},\n",
       " {'Name': '------',\n",
       "  'Gender': '--------',\n",
       "  'Born (dd-mm-yyyy)': '------------------',\n",
       "  'Died (dd-mm-yyyy)': '-----------------',\n",
       "  'Style': '---------',\n",
       "  'Location': '----------',\n",
       "  'Nationality': '-------------',\n",
       "  'Occupation': '-------------',\n",
       "  'Art School': '-------------',\n",
       "  'Artist': 'Esao_Andrews',\n",
       "  'URL': 'https://en.wikipedia.org/wiki/Esao_Andrews'},\n",
       " {'Name': 'Giuseppe Arcimboldo',\n",
       "  'Gender': 'Male',\n",
       "  'Born (dd-mm-yyyy)': '1526-1527',\n",
       "  'Died (dd-mm-yyyy)': '11-07-1593',\n",
       "  'Style': 'Renaissance',\n",
       "  'Location': 'Italy',\n",
       "  'Nationality': 'Italian',\n",
       "  'Occupation': 'Painter',\n",
       "  'Art School': 'None',\n",
       "  'Artist': 'Giuseppe_Arcimboldo',\n",
       "  'URL': 'https://en.wikipedia.org/wiki/Giuseppe_Arcimboldo'},\n",
       " {'Name': 'John James Audubon',\n",
       "  'Gender': 'Male',\n",
       "  'Born (dd-mm-yyyy)': '26-04-1785',\n",
       "  'Died (dd-mm-yyyy)': '27-01-1851',\n",
       "  'Style': 'Self-taught',\n",
       "  'Location': 'USA',\n",
       "  'Nationality': 'American',\n",
       "  'Occupation': 'Artist, Naturalist, Ornithologist',\n",
       "  'Art School': 'None',\n",
       "  'Artist': 'John_James_Audubon',\n",
       "  'URL': 'https://en.wikipedia.org/wiki/John_James_Audubon'},\n",
       " {'Name': '---',\n",
       "  'Gender': '',\n",
       "  'Born (dd-mm-yyyy)': 'Francis Bacon',\n",
       "  'Died (dd-mm-yyyy)': 'Male',\n",
       "  'Style': '22-01-1561',\n",
       "  'Location': '09-04-1626',\n",
       "  'Nationality': 'Renaissance',\n",
       "  'Occupation': 'London, England',\n",
       "  'Art School': 'English',\n",
       "  'Artist': 'Francis_Bacon',\n",
       "  'URL': 'https://en.wikipedia.org/wiki/Francis_Bacon'},\n",
       " {'Name': 'Jean-Michel Basquiat',\n",
       "  'Gender': 'Male',\n",
       "  'Born (dd-mm-yyyy)': '22-12-1960',\n",
       "  'Died (dd-mm-yyyy)': '12-08-1988',\n",
       "  'Style': 'Neo-expressionism',\n",
       "  'Location': 'Park Slope, Brooklyn, New York City, USA',\n",
       "  'Nationality': 'American',\n",
       "  'Occupation': 'Artist',\n",
       "  'Art School': 'N/A',\n",
       "  'Artist': 'Jean-Michel_Basquiat',\n",
       "  'URL': 'https://en.wikipedia.org/wiki/Jean-Michel_Basquiat'},\n",
       " {'Name': '------',\n",
       "  'Gender': '--------',\n",
       "  'Born (dd-mm-yyyy)': '------------------',\n",
       "  'Died (dd-mm-yyyy)': '-----------------',\n",
       "  'Style': '---------',\n",
       "  'Location': '----------',\n",
       "  'Nationality': '-------------',\n",
       "  'Occupation': '-------------',\n",
       "  'Art School': '-------------',\n",
       "  'Artist': 'Zdzislaw_Beksinski',\n",
       "  'URL': 'https://en.wikipedia.org/wiki/Zdzis%C5%82aw_Beksi%C5%84ski'},\n",
       " {'Name': '------',\n",
       "  'Gender': '--------',\n",
       "  'Born (dd-mm-yyyy)': '------------------',\n",
       "  'Died (dd-mm-yyyy)': '-----------------',\n",
       "  'Style': '---------',\n",
       "  'Location': '----------',\n",
       "  'Nationality': '-------------',\n",
       "  'Occupation': '-------------',\n",
       "  'Art School': '-------------',\n",
       "  'Artist': 'Zdzisław_Beksiński',\n",
       "  'URL': 'https://en.wikipedia.org/wiki/Zdzis%C5%82aw_Beksi%C5%84ski'},\n",
       " {'Name': '------',\n",
       "  'Gender': '--------',\n",
       "  'Born (dd-mm-yyyy)': '------------------',\n",
       "  'Died (dd-mm-yyyy)': '-----------------',\n",
       "  'Style': '---------',\n",
       "  'Location': '----------',\n",
       "  'Nationality': '-------------',\n",
       "  'Occupation': '-------------',\n",
       "  'Art School': '-------------',\n",
       "  'Artist': 'John_Berkey',\n",
       "  'URL': 'https://en.wikipedia.org/wiki/John_Berkey'},\n",
       " {'Name': '------',\n",
       "  'Gender': '--------',\n",
       "  'Born (dd-mm-yyyy)': '------------------',\n",
       "  'Died (dd-mm-yyyy)': '-----------------',\n",
       "  'Style': '---------',\n",
       "  'Location': '----------',\n",
       "  'Nationality': '-------------',\n",
       "  'Occupation': '-------------',\n",
       "  'Art School': '-------------',\n",
       "  'Artist': 'Albert__Bierstadt',\n",
       "  'URL': 'https://en.wikipedia.org/wiki/Albert_Bierstadt'},\n",
       " {'Name': 'Ivan Yakovlevich Bilibin',\n",
       "  'Gender': 'Male',\n",
       "  'Born (dd-mm-yyyy)': '16-08-1876',\n",
       "  'Died (dd-mm-yyyy)': '07-02-1942',\n",
       "  'Style': 'Art Nouveau, Russian Folk Art',\n",
       "  'Location': 'Tarkhovka, St. Petersburg, Russia',\n",
       "  'Nationality': 'Russian',\n",
       "  'Occupation': 'Illustrator, Stage Designer',\n",
       "  'Art School': 'Anton Ažbe Art School',\n",
       "  'Artist': 'Ivan_Bilibin',\n",
       "  'URL': 'https://en.wikipedia.org/wiki/Ivan_Bilibin'},\n",
       " {'Name': 'Hieronymus Bosch',\n",
       "  'Gender': 'Male',\n",
       "  'Born (dd-mm-yyyy)': '1450',\n",
       "  'Died (dd-mm-yyyy)': '1516',\n",
       "  'Style': 'Early Netherlandish',\n",
       "  'Location': 'Netherlands',\n",
       "  'Nationality': 'Dutch',\n",
       "  'Occupation': 'Painter',\n",
       "  'Art School': 'Unknown',\n",
       "  'Artist': 'Hieronymous_Bosch',\n",
       "  'URL': 'https://en.wikipedia.org/wiki/Hieronymus_Bosch'},\n",
       " {'Name': 'Johfra Bosschart',\n",
       "  'Gender': 'Male',\n",
       "  'Born (dd-mm-yyyy)': '15-12-1919',\n",
       "  'Died (dd-mm-yyyy)': '6-11-1998',\n",
       "  'Style': 'Surrealism',\n",
       "  'Location': 'Rotterdam, Netherlands',\n",
       "  'Nationality': 'Dutch',\n",
       "  'Occupation': 'Modern Artist',\n",
       "  'Art School': 'Academy of Visual Arts',\n",
       "  'Artist': 'Johfra_Bosschart',\n",
       "  'URL': 'https://en.wikipedia.org/wiki/Johfra_Bosschart'},\n",
       " {'Name': '------',\n",
       "  'Gender': '--------',\n",
       "  'Born (dd-mm-yyyy)': '------------------',\n",
       "  'Died (dd-mm-yyyy)': '------------------',\n",
       "  'Style': '---------',\n",
       "  'Location': '----------',\n",
       "  'Nationality': '-------------',\n",
       "  'Occupation': '-------------',\n",
       "  'Art School': '-------------',\n",
       "  'Artist': 'Sandro_Botticelli',\n",
       "  'URL': 'https://en.wikipedia.org/wiki/Sandro_Botticelli'},\n",
       " {'Name': '',\n",
       "  'Gender': 'Noah Bradley',\n",
       "  'Born (dd-mm-yyyy)': 'Male',\n",
       "  'Died (dd-mm-yyyy)': '21-06-1985',\n",
       "  'Style': '-',\n",
       "  'Location': 'Magic: The Gathering cards and The Sin of Man project',\n",
       "  'Nationality': 'United States',\n",
       "  'Occupation': 'American',\n",
       "  'Art School': 'Artist',\n",
       "  'Artist': 'Noah_Bradley',\n",
       "  'URL': 'https://en.wikipedia.org/wiki/Noah_Bradley'},\n",
       " {'Name': 'Gerald Brom',\n",
       "  'Gender': 'Male',\n",
       "  'Born (dd-mm-yyyy)': '09-03-1965',\n",
       "  'Died (dd-mm-yyyy)': '-',\n",
       "  'Style': 'Gothic fantasy',\n",
       "  'Location': 'Albany, Georgia',\n",
       "  'Nationality': 'American',\n",
       "  'Occupation': 'Artist and illustrator',\n",
       "  'Art School': '-',\n",
       "  'Artist': 'Gerald_Brom',\n",
       "  'URL': 'https://en.wikipedia.org/wiki/Gerald_Brom'},\n",
       " {'Name': 'Jim Burns',\n",
       "  'Gender': 'Male',\n",
       "  'Born (dd-mm-yyyy)': '10-04-1948',\n",
       "  'Died (dd-mm-yyyy)': '-',\n",
       "  'Style': 'Science fiction',\n",
       "  'Location': 'Cardiff, Wales',\n",
       "  'Nationality': 'Welsh',\n",
       "  'Occupation': 'Artist',\n",
       "  'Art School': 'Newport School of Art',\n",
       "  'Artist': 'Jim_Burns',\n",
       "  'URL': 'https://en.wikipedia.org/wiki/Jim_Burns'},\n",
       " {'Name': 'Thomas Cole',\n",
       "  'Gender': 'Male',\n",
       "  'Born (dd-mm-yyyy)': '01-02-1801',\n",
       "  'Died (dd-mm-yyyy)': '11-02-1848',\n",
       "  'Style': 'Hudson River School',\n",
       "  'Location': 'Bolton le Moors, Lancashire, England',\n",
       "  'Nationality': 'English',\n",
       "  'Occupation': 'Painter',\n",
       "  'Art School': 'Self-taught',\n",
       "  'Artist': 'Thomas_Cole',\n",
       "  'URL': 'https://en.wikipedia.org/wiki/Thomas_Cole'},\n",
       " {'Name': '------',\n",
       "  'Gender': '--------',\n",
       "  'Born (dd-mm-yyyy)': '------------------',\n",
       "  'Died (dd-mm-yyyy)': '------------------',\n",
       "  'Style': '--------',\n",
       "  'Location': '----------',\n",
       "  'Nationality': '-------------',\n",
       "  'Occupation': '-------------',\n",
       "  'Art School': '-------------',\n",
       "  'Artist': 'John_Constable',\n",
       "  'URL': 'https://en.wikipedia.org/wiki/John_Constable'},\n",
       " {'Name': 'Jean-Baptiste-Camille Corot',\n",
       "  'Gender': 'Male',\n",
       "  'Born (dd-mm-yyyy)': '16-07-1796',\n",
       "  'Died (dd-mm-yyyy)': '22-02-1875',\n",
       "  'Style': 'Neo-Classical, Impressionism',\n",
       "  'Location': 'Paris, France',\n",
       "  'Nationality': 'French',\n",
       "  'Occupation': 'Painter, Printmaker',\n",
       "  'Art School': 'Lycée Pierre-Corneille',\n",
       "  'Artist': 'Camille_Corot',\n",
       "  'URL': 'https://en.wikipedia.org/wiki/Jean-Baptiste-Camille_Corot'},\n",
       " {'Name': 'Walter Crane',\n",
       "  'Gender': 'Male',\n",
       "  'Born (dd-mm-yyyy)': '15-08-1845',\n",
       "  'Died (dd-mm-yyyy)': '14-03-1915',\n",
       "  'Style': 'English',\n",
       "  'Location': 'Painter, illustrator',\n",
       "  'Nationality': 'English',\n",
       "  'Occupation': 'Arts and Crafts movement',\n",
       "  'Artist': 'Walter_Crane',\n",
       "  'URL': 'https://en.wikipedia.org/wiki/Walter_Crane'},\n",
       " {'Name': 'Salvador Dali',\n",
       "  'Gender': 'Male',\n",
       "  'Born (dd-mm-yyyy)': '11-05-1904',\n",
       "  'Died (dd-mm-yyyy)': '23-01-1989',\n",
       "  'Style': 'Surrealism',\n",
       "  'Location': 'Figueres, Catalonia, Spain',\n",
       "  'Nationality': 'Spanish',\n",
       "  'Occupation': 'Painter, sculptor, filmmaker, designer',\n",
       "  'Art School': 'Royal Academy of Fine Arts of San Fernando',\n",
       "  'Artist': 'Salvador_Dalí',\n",
       "  'URL': 'https://en.wikipedia.org/wiki/Salvador_Dal%C3%AD'},\n",
       " {'Name': 'Geofrey Darrow',\n",
       "  'Gender': 'Male',\n",
       "  'Born (dd-mm-yyyy)': '21-10-1955',\n",
       "  'Died (dd-mm-yyyy)': '-',\n",
       "  'Style': 'Comic book artist',\n",
       "  'Location': 'Cedar Rapids, Iowa',\n",
       "  'Nationality': 'American',\n",
       "  'Occupation': 'Illustrator',\n",
       "  'Art School': 'Chicago Academy of Fine Arts',\n",
       "  'Artist': 'Geof_Darrow',\n",
       "  'URL': 'https://en.wikipedia.org/wiki/Geof_Darrow'},\n",
       " {'Name': 'Ferdinand Victor Eugène Delacroix',\n",
       "  'Gender': 'Male',\n",
       "  'Born (dd-mm-yyyy)': '26-04-1798',\n",
       "  'Died (dd-mm-yyyy)': '13-08-1863',\n",
       "  'Style': 'French Romantic',\n",
       "  'Location': 'France',\n",
       "  'Nationality': 'French',\n",
       "  'Occupation': 'Painter, Muralist',\n",
       "  'Art School': 'N/A',\n",
       "  'Artist': 'Eugene_Delacroix',\n",
       "  'URL': 'https://en.wikipedia.org/wiki/Eug%C3%A8ne_Delacroix'},\n",
       " {'Name': 'Paul Delvaux',\n",
       "  'Gender': 'Male',\n",
       "  'Born (dd-mm-yyyy)': '23-09-1897',\n",
       "  'Died (dd-mm-yyyy)': '20-07-1994',\n",
       "  'Style': 'Surrealism',\n",
       "  'Location': 'Belgium',\n",
       "  'Nationality': 'Belgian',\n",
       "  'Occupation': 'Painter',\n",
       "  'Art School': 'Atheneum of Saint-Gilles',\n",
       "  'Artist': 'Paul_Delvaux',\n",
       "  'URL': 'https://en.wikipedia.org/wiki/Paul_Delvaux'},\n",
       " {'Name': 'Jean Delville',\n",
       "  'Gender': 'Male',\n",
       "  'Born (dd-mm-yyyy)': '19 January 1867',\n",
       "  'Died (dd-mm-yyyy)': '19 January 1953',\n",
       "  'Style': 'Symbolist',\n",
       "  'Location': 'Belgium',\n",
       "  'Nationality': 'Belgian',\n",
       "  'Occupation': 'Painter, author, poet, polemicist, teacher, Theosophist',\n",
       "  'Art School': 'Académie des Beaux-Arts',\n",
       "  'Artist': 'Jean_Delville',\n",
       "  'URL': 'https://en.wikipedia.org/wiki/Jean_Delville'},\n",
       " {'Name': 'Vincent Di Fate',\n",
       "  'Gender': 'Male',\n",
       "  'Born (dd-mm-yyyy)': '21-11-1945',\n",
       "  'Died (dd-mm-yyyy)': '-',\n",
       "  'Style': 'Science fiction, fantasy and realistic space art',\n",
       "  'Location': 'Yonkers, New York',\n",
       "  'Nationality': 'American',\n",
       "  'Occupation': 'Artist',\n",
       "  'Art School': 'Phoenix School of Design, Syracuse University',\n",
       "  'Artist': 'Vincent_Di_Fate',\n",
       "  'URL': 'https://en.wikipedia.org/wiki/Vincent_Di_Fate'},\n",
       " {'Name': 'Edmund Dulac',\n",
       "  'Gender': 'Male',\n",
       "  'Born (dd-mm-yyyy)': '22-10-1882',\n",
       "  'Died (dd-mm-yyyy)': '25-05-1953',\n",
       "  'Style': 'Magazine illustrator, book illustrator, and stamp designer',\n",
       "  'Location': 'Toulouse, France',\n",
       "  'Nationality': 'French British',\n",
       "  'Occupation': 'Illustrator',\n",
       "  'Art School': 'École des Beaux-Arts',\n",
       "  'Artist': 'Edmund_Dulac',\n",
       "  'URL': 'https://en.wikipedia.org/wiki/Edmund_Dulac'},\n",
       " {'Name': '------',\n",
       "  'Gender': '--------',\n",
       "  'Born (dd-mm-yyyy)': '------------------',\n",
       "  'Died (dd-mm-yyyy)': '-----------------',\n",
       "  'Style': '---------',\n",
       "  'Location': '----------',\n",
       "  'Nationality': '-------------',\n",
       "  'Occupation': '-------------',\n",
       "  'Art School': '-------------',\n",
       "  'Artist': 'Albrecht_Dürer',\n",
       "  'URL': 'https://en.wikipedia.org/wiki/Albrecht_D%C3%BCrer'},\n",
       " {'Name': 'Eyvind Earle',\n",
       "  'Gender': 'Male',\n",
       "  'Born (dd-mm-yyyy)': '26-04-1916',\n",
       "  'Died (dd-mm-yyyy)': '20-07-2000',\n",
       "  'Style': 'Realistic painting',\n",
       "  'Location': 'New York, Hollywood, France',\n",
       "  'Nationality': 'American',\n",
       "  'Occupation': 'Artist, author, illustrator',\n",
       "  'Art School': 'N/A',\n",
       "  'Artist': 'Eyvind_Earle',\n",
       "  'URL': 'https://en.wikipedia.org/wiki/Eyvind_Earle'},\n",
       " {'Name': 'Bob Eggleton',\n",
       "  'Gender': 'Male',\n",
       "  'Born (dd-mm-yyyy)': '13-09-1960',\n",
       "  'Died (dd-mm-yyyy)': '-',\n",
       "  'Style': 'Science fiction, fantasy and horror',\n",
       "  'Location': '-',\n",
       "  'Nationality': 'American',\n",
       "  'Occupation': 'Artist',\n",
       "  'Art School': '-',\n",
       "  'Artist': 'Bob_Eggleton',\n",
       "  'URL': 'https://en.wikipedia.org/wiki/Bob_Eggleton'},\n",
       " {'Name': 'Larry Elmore',\n",
       "  'Gender': 'Male',\n",
       "  'Born (dd-mm-yyyy)': '05-08-1948',\n",
       "  'Died (dd-mm-yyyy)': '-',\n",
       "  'Style': 'Fantasy',\n",
       "  'Location': 'Louisville, Kentucky',\n",
       "  'Nationality': 'American',\n",
       "  'Occupation': 'Illustrator',\n",
       "  'Art School': 'Western Kentucky University',\n",
       "  'Artist': 'Larry_Elmore',\n",
       "  'URL': 'https://en.wikipedia.org/wiki/Larry_Elmore'},\n",
       " {'Name': 'Edmund Alexander Emshwiller',\n",
       "  'Gender': 'Male',\n",
       "  'Born (dd-mm-yyyy)': '16-02-1925',\n",
       "  'Died (dd-mm-yyyy)': '27-07-1990',\n",
       "  'Style': 'Science fiction illustrations and experimental films',\n",
       "  'Location': 'Lansing, Michigan, USA',\n",
       "  'Nationality': 'American',\n",
       "  'Occupation': 'Visual artist',\n",
       "  'Art School': 'University of Michigan, École des Beaux Arts, Art Students League of New York',\n",
       "  'Artist': 'Ed_Emshwiller',\n",
       "  'URL': 'https://en.wikipedia.org/wiki/Ed_Emshwiller'},\n",
       " {'Name': 'Maurits Cornelis Escher',\n",
       "  'Gender': 'Male',\n",
       "  'Born (dd-mm-yyyy)': '17-06-1898',\n",
       "  'Died (dd-mm-yyyy)': '27-03-1972',\n",
       "  'Style': 'Graphic artist',\n",
       "  'Location': 'Leeuwarden, Netherlands',\n",
       "  'Nationality': 'Dutch',\n",
       "  'Occupation': 'Woodcuts, lithographs, mezzotints',\n",
       "  'Art School': 'N/A',\n",
       "  'Artist': 'M.C._Escher',\n",
       "  'URL': 'https://en.wikipedia.org/wiki/M._C._Escher'},\n",
       " {'Name': 'John Philip Falter',\n",
       "  'Gender': 'Male',\n",
       "  'Born (dd-mm-yyyy)': '28-02-1910',\n",
       "  'Died (dd-mm-yyyy)': '20-05-1982',\n",
       "  'Style': 'American',\n",
       "  'Location': 'Plattsmouth, Nebraska, USA',\n",
       "  'Nationality': 'American',\n",
       "  'Occupation': 'Artist',\n",
       "  'Art School': 'Kansas City Art Institute',\n",
       "  'Artist': 'John_Philip_Falter',\n",
       "  'URL': 'https://en.wikipedia.org/wiki/John_Philip_Falter'},\n",
       " {'Name': '',\n",
       "  'Gender': 'Christopher F. Foss',\n",
       "  'Born (dd-mm-yyyy)': 'Male',\n",
       "  'Died (dd-mm-yyyy)': '1946',\n",
       "  'Style': '-',\n",
       "  'Location': 'Science fiction book covers and the black and white illustrations for the original editions of The Joy of Sex.',\n",
       "  'Nationality': 'Guernsey, Channel Islands',\n",
       "  'Occupation': 'British',\n",
       "  'Art School': 'Artist and science fiction illustrator',\n",
       "  'Artist': 'Chris_Foss',\n",
       "  'URL': 'https://en.wikipedia.org/wiki/Chris_Foss'},\n",
       " {'Name': 'Lisa Frank',\n",
       "  'Gender': 'Female',\n",
       "  'Born (dd-mm-yyyy)': '29-07-1952',\n",
       "  'Died (dd-mm-yyyy)': 'N/A',\n",
       "  'Style': 'Commercial design',\n",
       "  'Location': 'Tucson, Arizona',\n",
       "  'Nationality': 'American',\n",
       "  'Occupation': 'Businesswoman',\n",
       "  'Art School': 'University of Arizona',\n",
       "  'Artist': 'Lisa_Frank',\n",
       "  'URL': 'https://en.wikipedia.org/wiki/Lisa_Frank'},\n",
       " {'Name': 'Caspar David Friedrich',\n",
       "  'Gender': 'Male',\n",
       "  'Born (dd-mm-yyyy)': '05-09-1774',\n",
       "  'Died (dd-mm-yyyy)': '07-05-1840',\n",
       "  'Style': 'Romanticism',\n",
       "  'Location': 'Greifswald, Germany',\n",
       "  'Nationality': 'German',\n",
       "  'Occupation': 'Painter',\n",
       "  'Art School': 'Copenhagen Academy',\n",
       "  'Artist': 'Caspar_David_Friedrich',\n",
       "  'URL': 'https://en.wikipedia.org/wiki/Caspar_David_Friedrich'},\n",
       " {'Name': 'Jean Henri Gaston Giraud',\n",
       "  'Gender': 'Male',\n",
       "  'Born (dd-mm-yyyy)': '8 May 1938',\n",
       "  'Died (dd-mm-yyyy)': '10 March 2012',\n",
       "  'Style': 'Franco-Belgian bandes dessinées (BD) tradition',\n",
       "  'Location': 'Nogent-sur-Marne, Val-de-Marne, France',\n",
       "  'Nationality': 'French',\n",
       "  'Occupation': 'Artist, cartoonist, and writer',\n",
       "  'Art School': 'N/A',\n",
       "  'Artist': 'Jean_Giraud',\n",
       "  'URL': 'https://en.wikipedia.org/wiki/Jean_Giraud'},\n",
       " {'Name': 'Francisco José de Goya y Lucientes',\n",
       "  'Gender': 'Male',\n",
       "  'Born (dd-mm-yyyy)': '30-03-1746',\n",
       "  'Died (dd-mm-yyyy)': '16-04-1828',\n",
       "  'Style': 'Spanish romantic painter and printmaker',\n",
       "  'Location': 'Fuendetodos in Aragon, Spain',\n",
       "  'Nationality': 'Spanish',\n",
       "  'Occupation': 'Painter',\n",
       "  'Art School': 'José Luzán y Martinez',\n",
       "  'Artist': 'Francisco_Goya',\n",
       "  'URL': 'https://en.wikipedia.org/wiki/Francisco_Goya'},\n",
       " {'Name': 'Rebecca Guay',\n",
       "  'Gender': 'Female',\n",
       "  'Born (dd-mm-yyyy)': '20-09-1963',\n",
       "  'Died (dd-mm-yyyy)': '-',\n",
       "  'Style': 'Painter',\n",
       "  'Location': 'Northampton, Massachusetts, USA',\n",
       "  'Nationality': 'American',\n",
       "  'Occupation': 'Artist',\n",
       "  'Art School': 'Pratt Institute',\n",
       "  'Artist': 'Rebecca_Guay',\n",
       "  'URL': 'https://en.wikipedia.org/wiki/Rebecca_Guay'},\n",
       " {'Name': 'Lawren Stewart Harris',\n",
       "  'Gender': 'Male',\n",
       "  'Born (dd-mm-yyyy)': '23-10-1885',\n",
       "  'Died (dd-mm-yyyy)': '29-01-1970',\n",
       "  'Style': 'Modernism',\n",
       "  'Location': 'Canada',\n",
       "  'Nationality': 'Canadian',\n",
       "  'Occupation': 'Painter',\n",
       "  'Art School': 'University of Toronto',\n",
       "  'Artist': 'Lawren_Harris',\n",
       "  'URL': 'https://en.wikipedia.org/wiki/Lawren_Harris'},\n",
       " {'Name': '------',\n",
       "  'Gender': '--------',\n",
       "  'Born (dd-mm-yyyy)': '------------------',\n",
       "  'Died (dd-mm-yyyy)': '-----------------',\n",
       "  'Style': '---------',\n",
       "  'Location': '----------',\n",
       "  'Nationality': '-------------',\n",
       "  'Occupation': '-------------',\n",
       "  'Art School': '-------------',\n",
       "  'Artist': 'Winslow_Homer',\n",
       "  'URL': 'https://en.wikipedia.org/wiki/Winslow_Homer'},\n",
       " {'Name': 'Edward Hopper',\n",
       "  'Gender': 'Male',\n",
       "  'Born (dd-mm-yyyy)': '22-07-1882',\n",
       "  'Died (dd-mm-yyyy)': '15-05-1967',\n",
       "  'Style': 'Realist painter and printmaker',\n",
       "  'Location': 'Nyack, New York, USA',\n",
       "  'Nationality': 'American',\n",
       "  'Occupation': 'Painter',\n",
       "  'Art School': 'None',\n",
       "  'Artist': 'Edward_Hopper',\n",
       "  'URL': 'https://en.wikipedia.org/wiki/Edward_Hopper'},\n",
       " {'Name': 'Influences',\n",
       "  'Gender': '',\n",
       "  'Born (dd-mm-yyyy)': '------',\n",
       "  'Died (dd-mm-yyyy)': '--------',\n",
       "  'Style': '------------------',\n",
       "  'Location': '----------------',\n",
       "  'Nationality': '---------',\n",
       "  'Occupation': '----------',\n",
       "  'Art School': '-------------',\n",
       "  'Artist': 'John_Howe',\n",
       "  'URL': 'https://en.wikipedia.org/wiki/John_Howe'},\n",
       " {'Name': '------',\n",
       "  'Gender': '--------',\n",
       "  'Born (dd-mm-yyyy)': '------------------',\n",
       "  'Died (dd-mm-yyyy)': '-----------------',\n",
       "  'Style': '---------',\n",
       "  'Location': '----------',\n",
       "  'Nationality': '-------------',\n",
       "  'Occupation': '-------------',\n",
       "  'Art School': '-------------',\n",
       "  'Artist': 'James_Jean',\n",
       "  'URL': 'https://en.wikipedia.org/wiki/James_Jean'},\n",
       " {'Name': 'Frida Kahlo',\n",
       "  'Gender': 'Female',\n",
       "  'Born (dd-mm-yyyy)': '06-07-1907',\n",
       "  'Died (dd-mm-yyyy)': '13-07-1954',\n",
       "  'Style': 'Naïve folk art',\n",
       "  'Location': 'Mexico',\n",
       "  'Nationality': 'Mexican',\n",
       "  'Occupation': 'Painter',\n",
       "  'Art School': 'Self-taught',\n",
       "  'Artist': 'Frida_Kahlo',\n",
       "  'URL': 'https://en.wikipedia.org/wiki/Frida_Kahlo'},\n",
       " {'Name': 'Wassily Kandinsky',\n",
       "  'Gender': 'Male',\n",
       "  'Born (dd-mm-yyyy)': '16-12-1866',\n",
       "  'Died (dd-mm-yyyy)': '13-12-1944',\n",
       "  'Style': 'Abstract',\n",
       "  'Location': 'Russia, Germany, France',\n",
       "  'Nationality': 'Russian',\n",
       "  'Occupation': 'Painter, Art Theorist',\n",
       "  'Art School': \"University of Moscow, Anton Ažbe's School, Academy of Fine Arts\",\n",
       "  'Artist': 'Wassily_Kandinsky',\n",
       "  'URL': 'https://en.wikipedia.org/wiki/Wassily_Kandinsky'},\n",
       " {'Name': 'Felix Runcie Kelly',\n",
       "  'Gender': 'Male',\n",
       "  'Born (dd-mm-yyyy)': '3 February 1914',\n",
       "  'Died (dd-mm-yyyy)': '3 July 1994',\n",
       "  'Style': 'Graphic design, painting, stage design, interior design, illustration',\n",
       "  'Location': 'Auckland, New Zealand; London, England',\n",
       "  'Nationality': 'New Zealand',\n",
       "  'Occupation': 'Graphic designer, painter, stage designer, interior designer, illustrator',\n",
       "  'Art School': \"King's College\",\n",
       "  'Artist': 'Felix_Kelly',\n",
       "  'URL': 'https://en.wikipedia.org/wiki/Felix_Kelly'},\n",
       " {'Name': 'John Frederick Kensett',\n",
       "  'Gender': 'Male',\n",
       "  'Born (dd-mm-yyyy)': '22-03-1816',\n",
       "  'Died (dd-mm-yyyy)': '14-12-1872',\n",
       "  'Style': 'Hudson River School',\n",
       "  'Location': 'Cheshire, Connecticut, USA',\n",
       "  'Nationality': 'American',\n",
       "  'Occupation': 'Painter, engraver',\n",
       "  'Art School': 'Cheshire Academy',\n",
       "  'Artist': 'John_Frederick_Kensett',\n",
       "  'URL': 'https://en.wikipedia.org/wiki/John_Frederick_Kensett'},\n",
       " {'Name': 'William Thomas Kinkade III',\n",
       "  'Gender': 'Male',\n",
       "  'Born (dd-mm-yyyy)': '19-01-1958',\n",
       "  'Died (dd-mm-yyyy)': '06-04-2012',\n",
       "  'Style': 'Popular Realism',\n",
       "  'Location': 'Sacramento County, California, USA',\n",
       "  'Nationality': 'American',\n",
       "  'Occupation': 'Painter',\n",
       "  'Art School': 'University of California, Berkeley; Art Center College of Design',\n",
       "  'Artist': 'Thomas_Kinkade',\n",
       "  'URL': 'https://en.wikipedia.org/wiki/Thomas_Kinkade'},\n",
       " {'Name': 'Paul Klee',\n",
       "  'Gender': 'Male',\n",
       "  'Born (dd-mm-yyyy)': '18-12-1879',\n",
       "  'Died (dd-mm-yyyy)': '29-06-1940',\n",
       "  'Style': 'Expressionism, Cubism, Surrealism',\n",
       "  'Location': 'Münchenbuchsee, Switzerland',\n",
       "  'Nationality': 'Swiss-born German',\n",
       "  'Occupation': 'Artist',\n",
       "  'Art School': 'Bauhaus',\n",
       "  'Artist': 'Paul_Klee',\n",
       "  'URL': 'https://en.wikipedia.org/wiki/Paul_Klee'},\n",
       " {'Name': 'Gustav Klimt',\n",
       "  'Gender': 'Male',\n",
       "  'Born (dd-mm-yyyy)': '14-07-1862',\n",
       "  'Died (dd-mm-yyyy)': '06-02-1918',\n",
       "  'Style': 'Symbolist',\n",
       "  'Location': 'Vienna, Austria',\n",
       "  'Nationality': 'Austrian',\n",
       "  'Occupation': 'Painter, Muralist, Sketch Artist, Art Nouveau',\n",
       "  'Art School': 'Vienna Kunstgewerbeschule',\n",
       "  'Artist': 'Gustav_Klimt',\n",
       "  'URL': 'https://en.wikipedia.org/wiki/Gustav_Klimt'},\n",
       " {'Name': 'Jeffrey Lynn Koons',\n",
       "  'Gender': 'Male',\n",
       "  'Born (dd-mm-yyyy)': '21-01-1955',\n",
       "  'Died (dd-mm-yyyy)': '-',\n",
       "  'Style': 'American',\n",
       "  'Location': 'York, Pennsylvania',\n",
       "  'Nationality': 'American',\n",
       "  'Occupation': 'Artist',\n",
       "  'Art School': 'Maryland Institute College of Art, School of the Art Institute of Chicago',\n",
       "  'Artist': 'Jeff_Koons',\n",
       "  'URL': 'https://en.wikipedia.org/wiki/Jeff_Koons'},\n",
       " {'Name': '',\n",
       "  'Gender': '----',\n",
       "  'Born (dd-mm-yyyy)': '------',\n",
       "  'Died (dd-mm-yyyy)': '-----------------',\n",
       "  'Style': '---------------',\n",
       "  'Location': '-----',\n",
       "  'Nationality': '--------',\n",
       "  'Occupation': '----------',\n",
       "  'Art School': '---------',\n",
       "  'Artist': 'Ilya_Kuvshinov',\n",
       "  'URL': 'https://en.wikipedia.org/wiki/Ilya_Kuvshinov'},\n",
       " {'Name': 'René Magritte',\n",
       "  'Gender': 'Male',\n",
       "  'Born (dd-mm-yyyy)': '21-11-1898',\n",
       "  'Died (dd-mm-yyyy)': '15-08-1967',\n",
       "  'Style': 'Surrealism',\n",
       "  'Location': 'Belgium',\n",
       "  'Nationality': 'Belgian',\n",
       "  'Occupation': 'Artist',\n",
       "  'Art School': 'Académie Royale des Beaux-Arts',\n",
       "  'Artist': 'Rene_Magritte',\n",
       "  'URL': 'https://en.wikipedia.org/wiki/Ren%C3%A9_Magritte'},\n",
       " {'Name': 'Don Maitz',\n",
       "  'Gender': 'Male',\n",
       "  'Born (dd-mm-yyyy)': '23-04-1958',\n",
       "  'Died (dd-mm-yyyy)': 'Plainville, CT, USA',\n",
       "  'Style': 'Science fiction, fantasy, and commercial artist',\n",
       "  'Location': 'American',\n",
       "  'Nationality': '1975 graduate of the Paier School of Art',\n",
       "  'Artist': 'Don_Maitz',\n",
       "  'URL': 'https://en.wikipedia.org/wiki/Don_Maitz'},\n",
       " {'Name': 'John Martin',\n",
       "  'Gender': 'Male',\n",
       "  'Born (dd-mm-yyyy)': '1789-1854',\n",
       "  'Died (dd-mm-yyyy)': '1854',\n",
       "  'Style': 'Romanticism',\n",
       "  'Location': 'England',\n",
       "  'Nationality': 'English',\n",
       "  'Occupation': 'Painter',\n",
       "  'Art School': '-',\n",
       "  'Artist': 'John_Martin',\n",
       "  'URL': 'https://en.wikipedia.org/wiki/John_Martin'},\n",
       " {'Name': '------',\n",
       "  'Gender': '--------',\n",
       "  'Born (dd-mm-yyyy)': '------------------',\n",
       "  'Died (dd-mm-yyyy)': '----------------',\n",
       "  'Style': '---------',\n",
       "  'Location': '----------',\n",
       "  'Nationality': '-------------',\n",
       "  'Occupation': '-------------',\n",
       "  'Art School': '-------------',\n",
       "  'Artist': 'Peter_Max',\n",
       "  'URL': 'https://en.wikipedia.org/wiki/Peter_Max'},\n",
       " {'Name': 'Robert McCall',\n",
       "  'Gender': 'Male',\n",
       "  'Born (dd-mm-yyyy)': '19-02-1919',\n",
       "  'Died (dd-mm-yyyy)': '26-08-2010',\n",
       "  'Style': 'Space Art',\n",
       "  'Location': 'United States',\n",
       "  'Nationality': 'American',\n",
       "  'Occupation': 'Artist',\n",
       "  'Art School': 'Art Center College of Design',\n",
       "  'Artist': 'Robert_McCall',\n",
       "  'URL': 'https://en.wikipedia.org/wiki/Robert_McCall'},\n",
       " {'Name': 'Ralph Angus McQuarrie',\n",
       "  'Gender': 'Male',\n",
       "  'Born (dd-mm-yyyy)': '13-06-1929',\n",
       "  'Died (dd-mm-yyyy)': '03-03-2012',\n",
       "  'Style': 'Conceptual design and illustration',\n",
       "  'Location': 'Gary, Indiana, United States',\n",
       "  'Nationality': 'American',\n",
       "  'Occupation': 'Conceptual designer and illustrator',\n",
       "  'Art School': 'Art Center School',\n",
       "  'Artist': 'Ralph__McQuarrie',\n",
       "  'URL': 'https://en.wikipedia.org/wiki/Ralph_McQuarrie'},\n",
       " {'Name': 'Sydney Jay Mead',\n",
       "  'Gender': 'Male',\n",
       "  'Born (dd-mm-yyyy)': '18-07-1933',\n",
       "  'Died (dd-mm-yyyy)': '30-12-2019',\n",
       "  'Style': 'Industrial design, neo-futurism',\n",
       "  'Location': 'Saint Paul, Minnesota, USA',\n",
       "  'Nationality': 'American',\n",
       "  'Occupation': 'Concept artist, industrial designer',\n",
       "  'Art School': 'Art Center School',\n",
       "  'Artist': 'Syd_Mead',\n",
       "  'URL': 'https://en.wikipedia.org/wiki/Syd_Mead'},\n",
       " {'Name': 'Frank Miller',\n",
       "  'Gender': 'Male',\n",
       "  'Born (dd-mm-yyyy)': '27-01-1957',\n",
       "  'Died (dd-mm-yyyy)': '-',\n",
       "  'Style': 'Comic book writer, penciller and inker, novelist, screenwriter, film director, and producer',\n",
       "  'Location': 'United States',\n",
       "  'Nationality': 'American',\n",
       "  'Occupation': '-',\n",
       "  'Art School': '-',\n",
       "  'Artist': 'Frank_Miller',\n",
       "  'URL': 'https://en.wikipedia.org/wiki/Frank_Miller'},\n",
       " {'Name': '',\n",
       "  'Gender': '----',\n",
       "  'Born (dd-mm-yyyy)': '------',\n",
       "  'Died (dd-mm-yyyy)': '-----------------',\n",
       "  'Style': '---------------',\n",
       "  'Location': '-----',\n",
       "  'Nationality': '--------',\n",
       "  'Occupation': '-----------',\n",
       "  'Art School': '---------',\n",
       "  'Artist': 'Chris_Moore',\n",
       "  'URL': 'https://en.wikipedia.org/wiki/Christopher_Moore'},\n",
       " {'Name': 'Alphonse Mucha',\n",
       "  'Gender': 'Male',\n",
       "  'Born (dd-mm-yyyy)': '24-07-1860',\n",
       "  'Died (dd-mm-yyyy)': '14-07-1939',\n",
       "  'Style': 'Art Nouveau',\n",
       "  'Location': 'Paris, France',\n",
       "  'Nationality': 'Czech',\n",
       "  'Occupation': 'Painter, Illustrator, Graphic Artist',\n",
       "  'Art School': 'None',\n",
       "  'Artist': 'Alphonse_Mucha',\n",
       "  'URL': 'https://en.wikipedia.org/wiki/Alphonse_Mucha'},\n",
       " {'Name': 'Ted Nasmith',\n",
       "  'Gender': 'Male',\n",
       "  'Born (dd-mm-yyyy)': '1956',\n",
       "  'Died (dd-mm-yyyy)': '-',\n",
       "  'Style': 'Illustration, Architecture',\n",
       "  'Location': 'Canada',\n",
       "  'Nationality': 'Canadian',\n",
       "  'Occupation': 'Artist, Illustrator, Architectural Renderer',\n",
       "  'Art School': '-',\n",
       "  'Artist': 'Ted_Nasmith',\n",
       "  'URL': 'https://en.wikipedia.org/wiki/Ted_Nasmith'},\n",
       " {'Name': 'Victo Ngai',\n",
       "  'Gender': 'Female',\n",
       "  'Born (dd-mm-yyyy)': '1988',\n",
       "  'Died (dd-mm-yyyy)': '-',\n",
       "  'Style': \"Comic book drawings, classic children's book illustrations, the work of Japanese painters\",\n",
       "  'Location': 'Guangdong Province, Hong Kong',\n",
       "  'Nationality': 'American',\n",
       "  'Occupation': 'Illustrator',\n",
       "  'Art School': '-',\n",
       "  'Artist': 'Victo_Ngai',\n",
       "  'URL': 'https://en.wikipedia.org/wiki/Victo_Ngai'},\n",
       " {'Name': 'Agnes Lawrence Pelton',\n",
       "  'Gender': 'Female',\n",
       "  'Born (dd-mm-yyyy)': '1881-02-17',\n",
       "  'Died (dd-mm-yyyy)': '1961-03-17',\n",
       "  'Style': 'Modernist',\n",
       "  'Location': 'Stuttgart, Germany',\n",
       "  'Nationality': 'American',\n",
       "  'Occupation': 'Painter',\n",
       "  'Art School': 'Pratt Institute',\n",
       "  'Artist': 'Agnes_Lawrence_Pelton',\n",
       "  'URL': 'https://en.wikipedia.org/wiki/Agnes_Lawrence_Pelton'},\n",
       " {'Name': 'Bruce Pennington',\n",
       "  'Gender': 'Male',\n",
       "  'Born (dd-mm-yyyy)': '10-05-1944',\n",
       "  'Died (dd-mm-yyyy)': '-',\n",
       "  'Style': 'Science fiction and fantasy novel cover art',\n",
       "  'Location': 'Somerset, England',\n",
       "  'Nationality': 'British',\n",
       "  'Occupation': 'Painter',\n",
       "  'Art School': 'Ravensbourne School of Art',\n",
       "  'Artist': 'Bruce_Pennington',\n",
       "  'URL': 'https://en.wikipedia.org/wiki/Bruce_Pennington'},\n",
       " {'Name': 'Paul Jackson Pollock',\n",
       "  'Gender': 'Male',\n",
       "  'Born (dd-mm-yyyy)': '28-01-1912',\n",
       "  'Died (dd-mm-yyyy)': '11-08-1956',\n",
       "  'Style': 'Abstract Expressionism',\n",
       "  'Location': 'United States',\n",
       "  'Nationality': 'American',\n",
       "  'Occupation': 'Painter',\n",
       "  'Art School': 'New York School of Design',\n",
       "  'Artist': 'Jackson_Pollock',\n",
       "  'URL': 'https://en.wikipedia.org/wiki/Jackson_Pollock'},\n",
       " {'Name': 'Milton Ernest \"Robert\" Rauschenberg',\n",
       "  'Gender': 'Male',\n",
       "  'Born (dd-mm-yyyy)': '22-10-1925',\n",
       "  'Died (dd-mm-yyyy)': '12-05-2008',\n",
       "  'Style': 'Pop Art',\n",
       "  'Location': 'America',\n",
       "  'Nationality': 'American',\n",
       "  'Occupation': 'Painter, Graphic Artist',\n",
       "  'Art School': 'University of Texas at Austin',\n",
       "  'Artist': 'Robert_Rauschenberg',\n",
       "  'URL': 'https://en.wikipedia.org/wiki/Robert_Rauschenberg'},\n",
       " {'Name': 'Diego Rivera',\n",
       "  'Gender': 'Male',\n",
       "  'Born (dd-mm-yyyy)': '8-12-1886',\n",
       "  'Died (dd-mm-yyyy)': '24-11-1957',\n",
       "  'Style': 'Muralism',\n",
       "  'Location': 'Mexico City, Mexico',\n",
       "  'Nationality': 'Mexican',\n",
       "  'Occupation': 'Painter',\n",
       "  'Art School': 'National Autonomous University of Mexico',\n",
       "  'Artist': 'Diego_Rivera',\n",
       "  'URL': 'https://en.wikipedia.org/wiki/Diego_Rivera'},\n",
       " {'Name': 'Hubert Robert',\n",
       "  'Gender': 'Male',\n",
       "  'Born (dd-mm-yyyy)': '22-05-1733',\n",
       "  'Died (dd-mm-yyyy)': '15-04-1808',\n",
       "  'Style': 'Romanticism',\n",
       "  'Location': 'France',\n",
       "  'Nationality': 'French',\n",
       "  'Occupation': 'Painter',\n",
       "  'Art School': 'Collège de Navarre',\n",
       "  'Artist': 'Hubert_Robert',\n",
       "  'URL': 'https://en.wikipedia.org/wiki/Hubert_Robert'},\n",
       " {'Name': 'Norman Percevel Rockwell',\n",
       "  'Gender': 'Male',\n",
       "  'Born (dd-mm-yyyy)': '03-02-1894',\n",
       "  'Died (dd-mm-yyyy)': '08-11-1978',\n",
       "  'Style': 'American',\n",
       "  'Location': 'New York, USA',\n",
       "  'Nationality': 'American',\n",
       "  'Occupation': 'Painter and Illustrator',\n",
       "  'Artist': 'Norman_Rockwell',\n",
       "  'URL': 'https://en.wikipedia.org/wiki/Norman_Rockwell'},\n",
       " {'Name': 'Robert Ross',\n",
       "  'Gender': 'Male',\n",
       "  'Born (dd-mm-yyyy)': '29-10-1942',\n",
       "  'Died (dd-mm-yyyy)': '4-7-1995',\n",
       "  'Style': 'American',\n",
       "  'Location': 'Painter, Art Instructor, Television Host',\n",
       "  'Nationality': 'Ross was born in Daytona Beach, Florida, to Jack and Ollie Ross, a carpenter and a waitress respectively, and raised in Orlando, Florida.',\n",
       "  'Occupation': 'United States',\n",
       "  'Artist': 'Bob_Ross',\n",
       "  'URL': 'https://en.wikipedia.org/wiki/Bob_Ross'},\n",
       " {'Name': 'Egon Schiele',\n",
       "  'Gender': 'Male',\n",
       "  'Born (dd-mm-yyyy)': '12-06-1890',\n",
       "  'Died (dd-mm-yyyy)': '31-10-1918',\n",
       "  'Style': 'Expressionist',\n",
       "  'Location': 'Tulln, Lower Austria',\n",
       "  'Nationality': 'Austrian',\n",
       "  'Occupation': 'Painter',\n",
       "  'Art School': 'Academy of Fine Arts',\n",
       "  'Artist': 'Egon_Schiele',\n",
       "  'URL': 'https://en.wikipedia.org/wiki/Egon_Schiele'},\n",
       " {'Name': '------',\n",
       "  'Gender': '--------',\n",
       "  'Born (dd-mm-yyyy)': '------------------',\n",
       "  'Died (dd-mm-yyyy)': '------------------',\n",
       "  'Style': '-------',\n",
       "  'Location': '----------',\n",
       "  'Nationality': '-------------',\n",
       "  'Occupation': '-------------',\n",
       "  'Art School': '-------------',\n",
       "  'Artist': 'Ivan_Shishkin',\n",
       "  'URL': 'https://en.wikipedia.org/wiki/Ivan_Shishkin'},\n",
       " {'Name': 'Zachary Snyder',\n",
       "  'Gender': 'Male',\n",
       "  'Born (dd-mm-yyyy)': '01-03-1966',\n",
       "  'Died (dd-mm-yyyy)': '-',\n",
       "  'Style': 'Comic book and horror film enthusiast',\n",
       "  'Location': 'America',\n",
       "  'Nationality': 'American',\n",
       "  'Occupation': 'Film director, producer, screenwriter, and cinematographer',\n",
       "  'Art School': 'Art Center College of Design',\n",
       "  'Artist': 'Zack_Snyder',\n",
       "  'URL': 'https://en.wikipedia.org/wiki/Zack_Snyder'},\n",
       " {'Name': 'Joaquín Sorolla y Bastida',\n",
       "  'Gender': 'Male',\n",
       "  'Born (dd-mm-yyyy)': '27-02-1863',\n",
       "  'Died (dd-mm-yyyy)': '10-08-1923',\n",
       "  'Style': 'Spanish painting',\n",
       "  'Location': 'Valencia, Spain',\n",
       "  'Nationality': 'Spanish',\n",
       "  'Occupation': 'Painter',\n",
       "  'Art School': 'Museo del Prado',\n",
       "  'Artist': 'Joaquín_Sorolla',\n",
       "  'URL': 'https://en.wikipedia.org/wiki/Joaqu%C3%ADn_Sorolla'},\n",
       " {'Name': 'Thomas John Thomson',\n",
       "  'Gender': 'Male',\n",
       "  'Born (dd-mm-yyyy)': '05-08-1877',\n",
       "  'Died (dd-mm-yyyy)': '08-07-1917',\n",
       "  'Style': 'Landscape',\n",
       "  'Location': 'Ontario, Canada',\n",
       "  'Nationality': 'Canadian',\n",
       "  'Occupation': 'Artist',\n",
       "  'Art School': 'None',\n",
       "  'Artist': 'Tom_Thomson',\n",
       "  'URL': 'https://en.wikipedia.org/wiki/Tom_Thomson'},\n",
       " {'Name': '',\n",
       "  'Gender': 'Joseph Mallord William Turner',\n",
       "  'Born (dd-mm-yyyy)': 'Male',\n",
       "  'Died (dd-mm-yyyy)': '23-04-1775',\n",
       "  'Style': '19-12-1851',\n",
       "  'Location': 'Romantic',\n",
       "  'Nationality': 'London, England',\n",
       "  'Occupation': 'English',\n",
       "  'Art School': 'Painter, printmaker, watercolourist',\n",
       "  'Artist': 'J.M.W._Turner',\n",
       "  'URL': 'https://en.wikipedia.org/wiki/J._M._W._Turner'},\n",
       " {'Name': 'Vincent Willem van Gogh',\n",
       "  'Gender': 'Male',\n",
       "  'Born (dd-mm-yyyy)': '30-03-1853',\n",
       "  'Died (dd-mm-yyyy)': '29-07-1890',\n",
       "  'Style': 'Post-Impressionist',\n",
       "  'Location': 'Netherlands',\n",
       "  'Nationality': 'Dutch',\n",
       "  'Occupation': 'Painter',\n",
       "  'Art School': 'N/A',\n",
       "  'Artist': 'Vincent_Van_Gogh',\n",
       "  'URL': 'https://en.wikipedia.org/wiki/Vincent_van_Gogh'},\n",
       " {'Name': 'Rembrandt',\n",
       "  'Gender': 'Male',\n",
       "  'Born (dd-mm-yyyy)': '15-07-1606',\n",
       "  'Died (dd-mm-yyyy)': '04-10-1669',\n",
       "  'Style': 'Dutch Golden Age',\n",
       "  'Location': 'Netherlands',\n",
       "  'Nationality': 'Dutch',\n",
       "  'Occupation': 'Painter, Printmaker, Draughtsman',\n",
       "  'Art School': 'None',\n",
       "  'Artist': 'Rembrandt_van_Rijn',\n",
       "  'URL': 'https://en.wikipedia.org/wiki/Rembrandt'},\n",
       " {'Name': 'Louis William Wain',\n",
       "  'Gender': 'Male',\n",
       "  'Born (dd-mm-yyyy)': '05-08-1860',\n",
       "  'Died (dd-mm-yyyy)': '04-07-1939',\n",
       "  'Style': 'Cartoonist',\n",
       "  'Location': 'London, England',\n",
       "  'Nationality': 'English',\n",
       "  'Occupation': 'Artist',\n",
       "  'Art School': 'West London School of Art',\n",
       "  'Artist': 'Louis_Wain',\n",
       "  'URL': 'https://en.wikipedia.org/wiki/Louis_Wain'},\n",
       " {'Name': '----',\n",
       "  'Gender': '------',\n",
       "  'Born (dd-mm-yyyy)': '-----------------',\n",
       "  'Died (dd-mm-yyyy)': '---------------',\n",
       "  'Style': '------',\n",
       "  'Location': '--------',\n",
       "  'Nationality': '-----------',\n",
       "  'Occupation': '----------',\n",
       "  'Art School': '------------',\n",
       "  'Artist': 'Ron_Walotsky',\n",
       "  'URL': 'https://en.wikipedia.org/wiki/Ron_Walotsky'},\n",
       " {'Name': 'Andy Warhol',\n",
       "  'Gender': 'Male',\n",
       "  'Born (dd-mm-yyyy)': '06-08-1928',\n",
       "  'Died (dd-mm-yyyy)': '22-02-1987',\n",
       "  'Style': 'Pop Art',\n",
       "  'Location': 'New York, USA',\n",
       "  'Nationality': 'American',\n",
       "  'Occupation': 'Artist, film director, producer',\n",
       "  'Art School': 'Carnegie Institute of Technology',\n",
       "  'Artist': 'Andy_Warhol',\n",
       "  'URL': 'https://en.wikipedia.org/wiki/Andy_Warhol'},\n",
       " {'Name': 'Timothy White',\n",
       "  'Gender': 'Male',\n",
       "  'Born (dd-mm-yyyy)': '1952-2020',\n",
       "  'Died (dd-mm-yyyy)': '2020',\n",
       "  'Style': 'SF',\n",
       "  'Location': 'UK',\n",
       "  'Nationality': 'British',\n",
       "  'Occupation': 'Artist, Book Illustrator',\n",
       "  'Art School': '',\n",
       "  'Artist': 'Tim_White',\n",
       "  'URL': 'https://en.wikipedia.org/wiki/Timothy_White'},\n",
       " {'Name': 'Liam Wong',\n",
       "  'Gender': 'Male',\n",
       "  'Born (dd-mm-yyyy)': '21-03-1987',\n",
       "  'Died (dd-mm-yyyy)': '',\n",
       "  'Style': 'Cyberpunk, sci-fi',\n",
       "  'Location': 'Edinburgh, Scotland',\n",
       "  'Nationality': 'Scottish',\n",
       "  'Occupation': 'Photographer, games designer',\n",
       "  'Art School': 'Abertay University',\n",
       "  'Artist': 'Liam_Wong',\n",
       "  'URL': 'https://en.wikipedia.org/wiki/Liam_Wong'},\n",
       " {'Name': 'Jacek Yerka',\n",
       "  'Gender': 'Male',\n",
       "  'Born (dd-mm-yyyy)': '1952',\n",
       "  'Died (dd-mm-yyyy)': '-',\n",
       "  'Style': 'Surrealist',\n",
       "  'Location': 'Toruń, Poland',\n",
       "  'Nationality': 'Polish',\n",
       "  'Occupation': 'Painter',\n",
       "  'Art School': 'Nicolaus Copernicus University',\n",
       "  'Artist': 'Jacek_Yerka',\n",
       "  'URL': 'https://en.wikipedia.org/wiki/Jacek_Yerka'},\n",
       " {'Name': 'Alexander Bogen',\n",
       "  'Gender': 'Male',\n",
       "  'Born (dd-mm-yyyy)': '24-01-1916',\n",
       "  'Died (dd-mm-yyyy)': '20-10-2010',\n",
       "  'Style': 'Modern',\n",
       "  'Location': 'Poland, Israel',\n",
       "  'Nationality': 'Polish, Israeli',\n",
       "  'Occupation': \"Visual Artist, Partisan Leader, Yiddish Culture Key Player, Art Education and Artists' Associations Leader\",\n",
       "  'Art School': 'Stefan Batory art academy',\n",
       "  'Artist': 'Alexander_Bogen',\n",
       "  'URL': 'https://en.wikipedia.org/wiki/Alexander_Bogen'},\n",
       " {'Name': 'Rafał Olbinski',\n",
       "  'Gender': 'Male',\n",
       "  'Born (dd-mm-yyyy)': '21-02-1943',\n",
       "  'Died (dd-mm-yyyy)': '-',\n",
       "  'Style': 'Surrealism',\n",
       "  'Location': 'Poland',\n",
       "  'Nationality': 'Polish',\n",
       "  'Occupation': 'Painter, Illustrator, Educator',\n",
       "  'Art School': 'Warsaw University of Technology',\n",
       "  'Artist': 'Rafal_Olbinski',\n",
       "  'URL': 'https://en.wikipedia.org/wiki/Rafa%C5%82_Olbi%C5%84ski'},\n",
       " {'Name': 'Esteban Vicente',\n",
       "  'Gender': 'Male',\n",
       "  'Born (dd-mm-yyyy)': '20-01-1903',\n",
       "  'Died (dd-mm-yyyy)': '10-01-2001',\n",
       "  'Style': 'Abstract Expressionism',\n",
       "  'Location': 'Turégano, Spain',\n",
       "  'Nationality': 'American',\n",
       "  'Occupation': 'Painter',\n",
       "  'Art School': 'Real Academia de Bellas Artes',\n",
       "  'Artist': 'Esteban_Vicente',\n",
       "  'URL': 'https://en.wikipedia.org/wiki/Esteban_Vicente'},\n",
       " {'Name': 'Abdel Hadi Al Gazzar',\n",
       "  'Gender': 'Male',\n",
       "  'Born (dd-mm-yyyy)': '14-03-1925',\n",
       "  'Died (dd-mm-yyyy)': '25-11-1966',\n",
       "  'Style': 'Contemporary',\n",
       "  'Location': 'Egypt',\n",
       "  'Nationality': 'Egyptian',\n",
       "  'Occupation': 'Painter',\n",
       "  'Art School': 'Cairo School of Fine Arts',\n",
       "  'Artist': 'Abdel_Hadi_Al_Gazzar',\n",
       "  'URL': 'https://en.wikipedia.org/wiki/Abdel_Hadi_Al_Gazzar'},\n",
       " {'Name': '',\n",
       "  'Gender': 'Moosa Al Halyan',\n",
       "  'Born (dd-mm-yyyy)': 'Male',\n",
       "  'Died (dd-mm-yyyy)': '1969',\n",
       "  'Style': '-',\n",
       "  'Location': 'Surrealist',\n",
       "  'Nationality': 'Dubai, United Arab Emirates',\n",
       "  'Occupation': 'Emirati',\n",
       "  'Art School': 'Painter',\n",
       "  'Artist': 'Moosa_Al_Halyan',\n",
       "  'URL': 'https://en.wikipedia.org/wiki/Moosa_Al_Halyan'},\n",
       " {'Name': 'Works',\n",
       "  'Gender': '',\n",
       "  'Born (dd-mm-yyyy)': '------',\n",
       "  'Died (dd-mm-yyyy)': '--------',\n",
       "  'Style': '------------------',\n",
       "  'Location': '-----------------',\n",
       "  'Nationality': '---------',\n",
       "  'Occupation': '----------',\n",
       "  'Art School': '-------------',\n",
       "  'Artist': 'John_Baizley',\n",
       "  'URL': 'https://en.wikipedia.org/wiki/John_Dyer_Baizley'},\n",
       " {'Name': '',\n",
       "  'Gender': 'Didier Barra',\n",
       "  'Born (dd-mm-yyyy)': 'Male',\n",
       "  'Died (dd-mm-yyyy)': '1590',\n",
       "  'Style': '1656',\n",
       "  'Location': 'French Renaissance',\n",
       "  'Nationality': 'Metz, Italy, Naples',\n",
       "  'Occupation': 'French',\n",
       "  'Art School': 'Painter',\n",
       "  'Artist': 'Didier_Barra',\n",
       "  'URL': 'https://en.wikipedia.org/wiki/Didier_Barra'},\n",
       " {'Name': 'William Copley',\n",
       "  'Gender': 'Male',\n",
       "  'Born (dd-mm-yyyy)': '19-19-1996',\n",
       "  'Died (dd-mm-yyyy)': 'American',\n",
       "  'Style': 'Artist',\n",
       "  'Location': '',\n",
       "  'Nationality': 'William Copley',\n",
       "  'Occupation': 'Male',\n",
       "  'Art School': '06-06-1975',\n",
       "  'Artist': 'William_Copley',\n",
       "  'URL': 'https://en.wikipedia.org/wiki/William_Copley'},\n",
       " {'Name': '',\n",
       "  'Gender': ':-----',\n",
       "  'Born (dd-mm-yyyy)': ':------:',\n",
       "  'Died (dd-mm-yyyy)': ':----------------:',\n",
       "  'Style': ':---------------:',\n",
       "  'Location': ':------:',\n",
       "  'Nationality': ':--------:',\n",
       "  'Occupation': ':----------:',\n",
       "  'Art School': ':----------:',\n",
       "  'Artist': 'Monsù_Desiderio',\n",
       "  'URL': 'https://en.wikipedia.org/wiki/Mons%C3%B9_Desiderio'},\n",
       " {'Name': 'Gerardo Dottori',\n",
       "  'Gender': 'Male',\n",
       "  'Born (dd-mm-yyyy)': '11-11-1884',\n",
       "  'Died (dd-mm-yyyy)': '13-06-1977',\n",
       "  'Style': 'Futurist',\n",
       "  'Location': 'Perugia, Italy',\n",
       "  'Nationality': 'Italian',\n",
       "  'Occupation': 'Painter',\n",
       "  'Art School': 'Academy of Fine Arts in Perugia',\n",
       "  'Artist': 'Gerardo_Dottori',\n",
       "  'URL': 'https://en.wikipedia.org/wiki/Gerardo_Dottori'},\n",
       " {'Name': 'Henri-Robert-Marcel Duchamp',\n",
       "  'Gender': 'Male',\n",
       "  'Born (dd-mm-yyyy)': '28-07-1887',\n",
       "  'Died (dd-mm-yyyy)': '02-10-1968',\n",
       "  'Style': 'Cubism, Dada, Conceptual Art',\n",
       "  'Location': 'Normandy, France',\n",
       "  'Nationality': 'French-American',\n",
       "  'Occupation': 'Painter, sculptor, chess player, writer',\n",
       "  'Art School': 'Lycée Pierre-Corneille',\n",
       "  'Artist': 'Marcel_Duchamp',\n",
       "  'URL': 'https://en.wikipedia.org/wiki/Marcel_Duchamp'},\n",
       " {'Name': 'Germaine Dulac',\n",
       "  'Gender': 'Female',\n",
       "  'Born (dd-mm-yyyy)': '17-11-1882',\n",
       "  'Died (dd-mm-yyyy)': '20-07-1942',\n",
       "  'Style': 'Impressionist, Surrealist',\n",
       "  'Location': 'France',\n",
       "  'Nationality': 'French',\n",
       "  'Occupation': 'Filmmaker, Film Theorist, Journalist, Critic',\n",
       "  'Art School': 'N/A',\n",
       "  'Artist': 'Germaine_Dulac',\n",
       "  'URL': 'https://en.wikipedia.org/wiki/Germaine_Dulac'},\n",
       " {'Name': '',\n",
       "  'Gender': '------',\n",
       "  'Born (dd-mm-yyyy)': '--------',\n",
       "  'Died (dd-mm-yyyy)': '------------------',\n",
       "  'Style': '-----------------',\n",
       "  'Location': '---------',\n",
       "  'Nationality': '----------',\n",
       "  'Occupation': '-------------',\n",
       "  'Art School': '-----------',\n",
       "  'Artist': 'Gian_Paolo_Dulbecco',\n",
       "  'URL': 'https://en.wikipedia.org/wiki/Gian_Paolo_Dulbecco'},\n",
       " {'Name': 'Victorina Durán Cebrián',\n",
       "  'Gender': 'Female',\n",
       "  'Born (dd-mm-yyyy)': '11-12-1899',\n",
       "  'Died (dd-mm-yyyy)': '10-12-1993',\n",
       "  'Style': 'Avant-garde',\n",
       "  'Location': 'Spain',\n",
       "  'Nationality': 'Spanish',\n",
       "  'Occupation': 'Set and Costume Designer',\n",
       "  'Art School': 'Real Academia de Bellas Artes de San Fernando',\n",
       "  'Artist': 'Victorina_Durán',\n",
       "  'URL': 'https://en.wikipedia.org/wiki/Victorina_Dur%C3%A1n'},\n",
       " {'Name': '',\n",
       "  'Gender': 'Danielle Eckhardt',\n",
       "  'Born (dd-mm-yyyy)': 'Female',\n",
       "  'Died (dd-mm-yyyy)': '1982',\n",
       "  'Style': '-',\n",
       "  'Location': 'Surrealism, PTSD',\n",
       "  'Nationality': 'Virginia Beach, Washington metropolitan area',\n",
       "  'Occupation': 'American',\n",
       "  'Art School': 'Painter',\n",
       "  'Artist': 'Danielle_Eckhardt',\n",
       "  'URL': 'https://en.wikipedia.org/wiki/Danielle_Eckhardt'},\n",
       " {'Name': 'Nusch Éluard',\n",
       "  'Gender': 'Female',\n",
       "  'Born (dd-mm-yyyy)': '21-06-1906',\n",
       "  'Died (dd-mm-yyyy)': '28-11-1946',\n",
       "  'Style': 'Surrealist',\n",
       "  'Location': 'Paris',\n",
       "  'Nationality': 'French',\n",
       "  'Occupation': 'Performer, model, surrealist artist',\n",
       "  'Art School': 'None',\n",
       "  'Artist': 'Nusch_Éluard',\n",
       "  'URL': 'https://en.wikipedia.org/wiki/Nusch_%C3%89luard'},\n",
       " {'Name': 'Sylvia Fein',\n",
       "  'Gender': 'Female',\n",
       "  'Born (dd-mm-yyyy)': '20-11-1919',\n",
       "  'Died (dd-mm-yyyy)': '-',\n",
       "  'Style': 'Surrealist',\n",
       "  'Location': 'Martinez, California',\n",
       "  'Nationality': 'American',\n",
       "  'Occupation': 'Painter, Author',\n",
       "  'Art School': 'University of Wisconsin-Madison',\n",
       "  'Artist': 'Sylvia_Fein',\n",
       "  'URL': 'https://en.wikipedia.org/wiki/Sylvia_Fein'},\n",
       " {'Name': 'David Chester Gibbons',\n",
       "  'Gender': 'Male',\n",
       "  'Born (dd-mm-yyyy)': '14-04-1949',\n",
       "  'Died (dd-mm-yyyy)': '',\n",
       "  'Style': 'Comics artist, writer and letterer',\n",
       "  'Location': 'London, England',\n",
       "  'Nationality': 'English',\n",
       "  'Occupation': 'Building surveyor',\n",
       "  'Art School': 'Self-taught',\n",
       "  'Artist': 'Dave_Gibbons',\n",
       "  'URL': 'https://en.wikipedia.org/wiki/Dave_Gibbons'},\n",
       " {'Name': 'Juan Antonio Giménez López',\n",
       "  'Gender': 'Male',\n",
       "  'Born (dd-mm-yyyy)': '26-11-1943',\n",
       "  'Died (dd-mm-yyyy)': '2-4-2020',\n",
       "  'Style': 'Machine-like imagery',\n",
       "  'Location': 'Mendoza, Argentina',\n",
       "  'Nationality': 'Argentine',\n",
       "  'Occupation': 'Comic book artist and writer',\n",
       "  'Art School': \"National University of Cuyo's School of Arts and Design, Academy of Fine Arts in Barcelona\",\n",
       "  'Artist': 'Juan_Giménez',\n",
       "  'URL': 'https://en.wikipedia.org/wiki/Juan_Gim%C3%A9nez'},\n",
       " {'Name': '',\n",
       "  'Gender': '------',\n",
       "  'Born (dd-mm-yyyy)': '--------',\n",
       "  'Died (dd-mm-yyyy)': '------------------',\n",
       "  'Style': '-----------------',\n",
       "  'Location': '---------',\n",
       "  'Nationality': '----------',\n",
       "  'Occupation': '-------------',\n",
       "  'Art School': '----------',\n",
       "  'Artist': 'John_Higgins',\n",
       "  'URL': 'https://en.wikipedia.org/wiki/John_Higgins'},\n",
       " {'Name': 'Arman Tateos Manookian',\n",
       "  'Gender': 'Male',\n",
       "  'Born (dd-mm-yyyy)': '15-05-1904',\n",
       "  'Died (dd-mm-yyyy)': '10-05-1931',\n",
       "  'Style': 'Modernism',\n",
       "  'Location': 'Istanbul, Turkey',\n",
       "  'Nationality': 'Armenian',\n",
       "  'Occupation': 'Painter',\n",
       "  'Art School': 'Rhode Island School of Design',\n",
       "  'Artist': 'Arman_Manookian',\n",
       "  'URL': 'https://en.wikipedia.org/wiki/Arman_Manookian'},\n",
       " {'Name': 'Glen Orbik',\n",
       "  'Gender': 'Male',\n",
       "  'Born (dd-mm-yyyy)': '1963 - May 11, 2015',\n",
       "  'Died (dd-mm-yyyy)': 'American illustrator',\n",
       "  'Style': 'Douglas County, Nevada',\n",
       "  'Location': '1981 graduate of Douglas High School in Minden, Nevada',\n",
       "  'Nationality': 'California Art Institute',\n",
       "  'Artist': 'Glen_Orbik',\n",
       "  'URL': 'https://en.wikipedia.org/wiki/Glen_Orbik'},\n",
       " {'Name': 'Home and Away',\n",
       "  'Gender': 'television soap opera',\n",
       "  'Born (dd-mm-yyyy)': 'first broadcast on the Seven Network on 17 January 1988',\n",
       "  'Died (dd-mm-yyyy)': '',\n",
       "  'Style': '',\n",
       "  'Location': '',\n",
       "  'Nationality': '',\n",
       "  'Occupation': '',\n",
       "  'Art School': '',\n",
       "  'Artist': 'Lisa_Parker',\n",
       "  'URL': 'https://en.wikipedia.org/wiki/List_of_Home_and_Away_characters_(2012)'},\n",
       " {'Name': 'Wojciech Kazimierz \"Wojtek\" Siudmak',\n",
       "  'Gender': 'Male',\n",
       "  'Born (dd-mm-yyyy)': '10 October 1942',\n",
       "  'Died (dd-mm-yyyy)': '-',\n",
       "  'Style': 'Painter',\n",
       "  'Location': 'Wieluń, Poland',\n",
       "  'Nationality': 'Polish',\n",
       "  'Occupation': 'Painter',\n",
       "  'Art School': 'Academy of Fine Arts in Warsaw',\n",
       "  'Artist': 'Wojciech_Siudmak',\n",
       "  'URL': 'https://en.wikipedia.org/wiki/Wojciech_Siudmak'},\n",
       " {'Name': 'Stanisław Szukalski',\n",
       "  'Gender': 'Male',\n",
       "  'Born (dd-mm-yyyy)': '13-12-1893',\n",
       "  'Died (dd-mm-yyyy)': '19-05-1987',\n",
       "  'Style': 'Bent Classicism',\n",
       "  'Location': 'Poland/Chicago',\n",
       "  'Nationality': 'Polish',\n",
       "  'Occupation': 'Sculptor, Painter',\n",
       "  'Art School': 'Art Institute of Chicago',\n",
       "  'Artist': 'Stanisław__Szukalski',\n",
       "  'URL': 'https://en.wikipedia.org/wiki/Stanis%C5%82aw_Szukalski'}]"
      ]
     },
     "execution_count": 80,
     "metadata": {},
     "output_type": "execute_result"
    }
   ],
   "source": [
    "records_list"
   ]
  },
  {
   "cell_type": "code",
   "execution_count": 79,
   "id": "859fcfc4",
   "metadata": {},
   "outputs": [],
   "source": [
    "#results_df.to_csv('../data/batch_1_artist_info.csv')"
   ]
  }
 ],
 "metadata": {
  "kernelspec": {
   "display_name": "Python 3 (ipykernel)",
   "language": "python",
   "name": "python3"
  },
  "language_info": {
   "codemirror_mode": {
    "name": "ipython",
    "version": 3
   },
   "file_extension": ".py",
   "mimetype": "text/x-python",
   "name": "python",
   "nbconvert_exporter": "python",
   "pygments_lexer": "ipython3",
   "version": "3.8.6"
  }
 },
 "nbformat": 4,
 "nbformat_minor": 5
}
