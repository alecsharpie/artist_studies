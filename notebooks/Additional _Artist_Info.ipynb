{
 "cells": [
  {
   "cell_type": "code",
   "execution_count": 15,
   "id": "26f2a1e6",
   "metadata": {},
   "outputs": [
    {
     "data": {
      "text/plain": [
       "True"
      ]
     },
     "execution_count": 15,
     "metadata": {},
     "output_type": "execute_result"
    }
   ],
   "source": [
    "from dotenv import load_dotenv, find_dotenv\n",
    "\n",
    "env_path = find_dotenv() # automatic find \n",
    "\n",
    "# load your api key as environment variables\n",
    "load_dotenv(env_path)"
   ]
  },
  {
   "cell_type": "code",
   "execution_count": 16,
   "id": "fd15dfbb",
   "metadata": {},
   "outputs": [
    {
     "name": "stdout",
     "output_type": "stream",
     "text": [
      "Artist_studies_master.csv \u001b[30m\u001b[43mbatch 3\u001b[m\u001b[m                   \u001b[30m\u001b[43mbatch 6\u001b[m\u001b[m\r\n",
      "\u001b[1m\u001b[36mbatch 1\u001b[m\u001b[m                   \u001b[1m\u001b[36mbatch 3 2\u001b[m\u001b[m                 \u001b[30m\u001b[43mbatch 6 2\u001b[m\u001b[m\r\n",
      "batch 1.zip               \u001b[30m\u001b[43mbatch 4\u001b[m\u001b[m                   \u001b[1m\u001b[36mbatch 7\u001b[m\u001b[m\r\n",
      "\u001b[1m\u001b[36mbatch 2\u001b[m\u001b[m                   \u001b[30m\u001b[43mbatch 4 2\u001b[m\u001b[m\r\n",
      "\u001b[1m\u001b[36mbatch 2 2\u001b[m\u001b[m                 \u001b[30m\u001b[43mbatch 5\u001b[m\u001b[m\r\n"
     ]
    }
   ],
   "source": [
    "!ls ../raw_data"
   ]
  },
  {
   "cell_type": "code",
   "execution_count": 17,
   "id": "0404cea0",
   "metadata": {},
   "outputs": [],
   "source": [
    "import pandas as pd\n",
    "studies_csv = pd.read_csv('../raw_data/Artist_studies_master.csv')\n",
    "studies_df = studies_csv.copy()"
   ]
  },
  {
   "cell_type": "code",
   "execution_count": 18,
   "id": "05ebc94e",
   "metadata": {},
   "outputs": [
    {
     "data": {
      "text/html": [
       "<div>\n",
       "<style scoped>\n",
       "    .dataframe tbody tr th:only-of-type {\n",
       "        vertical-align: middle;\n",
       "    }\n",
       "\n",
       "    .dataframe tbody tr th {\n",
       "        vertical-align: top;\n",
       "    }\n",
       "\n",
       "    .dataframe thead th {\n",
       "        text-align: right;\n",
       "    }\n",
       "</style>\n",
       "<table border=\"1\" class=\"dataframe\">\n",
       "  <thead>\n",
       "    <tr style=\"text-align: right;\">\n",
       "      <th></th>\n",
       "      <th>Artist (last/only)\\n(or other effect)</th>\n",
       "      <th>Artist (first)</th>\n",
       "      <th>Style represented</th>\n",
       "      <th>Complete</th>\n",
       "      <th>User</th>\n",
       "      <th>sgl img folder</th>\n",
       "      <th>cards folder</th>\n",
       "      <th>Batch #</th>\n",
       "      <th>Check x if non-visual artist</th>\n",
       "      <th>Check x if style or other effect</th>\n",
       "      <th>Notes</th>\n",
       "    </tr>\n",
       "  </thead>\n",
       "  <tbody>\n",
       "    <tr>\n",
       "      <th>0</th>\n",
       "      <td>Adams</td>\n",
       "      <td>Ansel</td>\n",
       "      <td>Yes</td>\n",
       "      <td>x</td>\n",
       "      <td>KyrickYoung</td>\n",
       "      <td>x</td>\n",
       "      <td>x</td>\n",
       "      <td>2.0</td>\n",
       "      <td>-</td>\n",
       "      <td>-</td>\n",
       "      <td>NaN</td>\n",
       "    </tr>\n",
       "    <tr>\n",
       "      <th>1</th>\n",
       "      <td>Adams</td>\n",
       "      <td>Arthur</td>\n",
       "      <td>Yes</td>\n",
       "      <td>x</td>\n",
       "      <td>sureailabs</td>\n",
       "      <td>x</td>\n",
       "      <td>x</td>\n",
       "      <td>5.0</td>\n",
       "      <td>-</td>\n",
       "      <td>-</td>\n",
       "      <td>NaN</td>\n",
       "    </tr>\n",
       "    <tr>\n",
       "      <th>2</th>\n",
       "      <td>Aenami</td>\n",
       "      <td>Alena</td>\n",
       "      <td>Yes</td>\n",
       "      <td>x</td>\n",
       "      <td>sureailabs</td>\n",
       "      <td>x</td>\n",
       "      <td>x</td>\n",
       "      <td>3.0</td>\n",
       "      <td>-</td>\n",
       "      <td>-</td>\n",
       "      <td>NaN</td>\n",
       "    </tr>\n",
       "    <tr>\n",
       "      <th>3</th>\n",
       "      <td>af Klint</td>\n",
       "      <td>Hilma</td>\n",
       "      <td>Yes</td>\n",
       "      <td>x</td>\n",
       "      <td>proximasan</td>\n",
       "      <td>x</td>\n",
       "      <td>x</td>\n",
       "      <td>1.0</td>\n",
       "      <td>-</td>\n",
       "      <td>-</td>\n",
       "      <td>NaN</td>\n",
       "    </tr>\n",
       "    <tr>\n",
       "      <th>4</th>\n",
       "      <td>Affandi</td>\n",
       "      <td>NaN</td>\n",
       "      <td>Yes</td>\n",
       "      <td>x</td>\n",
       "      <td>sureailabs</td>\n",
       "      <td>x</td>\n",
       "      <td>x</td>\n",
       "      <td>3.0</td>\n",
       "      <td>-</td>\n",
       "      <td>-</td>\n",
       "      <td>NaN</td>\n",
       "    </tr>\n",
       "  </tbody>\n",
       "</table>\n",
       "</div>"
      ],
      "text/plain": [
       "  Artist (last/only)\\n(or other effect) Artist (first) Style represented  \\\n",
       "0                                 Adams          Ansel               Yes   \n",
       "1                                 Adams         Arthur               Yes   \n",
       "2                                Aenami          Alena               Yes   \n",
       "3                              af Klint          Hilma               Yes   \n",
       "4                               Affandi            NaN               Yes   \n",
       "\n",
       "  Complete         User sgl img folder cards folder  Batch #  \\\n",
       "0        x  KyrickYoung              x            x      2.0   \n",
       "1        x   sureailabs              x            x      5.0   \n",
       "2        x   sureailabs              x            x      3.0   \n",
       "3        x   proximasan              x            x      1.0   \n",
       "4        x   sureailabs              x            x      3.0   \n",
       "\n",
       "  Check x if non-visual artist Check x if style or other effect Notes  \n",
       "0                            -                                -   NaN  \n",
       "1                            -                                -   NaN  \n",
       "2                            -                                -   NaN  \n",
       "3                            -                                -   NaN  \n",
       "4                            -                                -   NaN  "
      ]
     },
     "execution_count": 18,
     "metadata": {},
     "output_type": "execute_result"
    }
   ],
   "source": [
    "studies_df.head()"
   ]
  },
  {
   "cell_type": "code",
   "execution_count": 19,
   "id": "78404ed7",
   "metadata": {},
   "outputs": [
    {
     "data": {
      "text/plain": [
       "Index(['Artist (last/only)\\n(or other effect)', 'Artist (first)',\n",
       "       'Style represented', 'Complete', 'User', 'sgl img folder',\n",
       "       'cards folder', 'Batch #', 'Check x if non-visual artist',\n",
       "       'Check x if style or other effect', 'Notes'],\n",
       "      dtype='object')"
      ]
     },
     "execution_count": 19,
     "metadata": {},
     "output_type": "execute_result"
    }
   ],
   "source": [
    "studies_df.columns"
   ]
  },
  {
   "cell_type": "code",
   "execution_count": 20,
   "id": "b56a36cc",
   "metadata": {},
   "outputs": [],
   "source": [
    "studies_df.columns = ['l_name', 'f_name',\n",
    "       'style_represented', 'complete', 'user', 'sgl_img_folder',\n",
    "       'cards_folder', 'batch_id', 'non_visual',\n",
    "       'style_or_effect', 'notes']"
   ]
  },
  {
   "cell_type": "code",
   "execution_count": 21,
   "id": "536a872a",
   "metadata": {},
   "outputs": [],
   "source": [
    "# filter out styles and non visual artists\n",
    "artist_df = studies_df[studies_df['complete'].str.contains('x') &\n",
    "                       ~studies_df['non_visual'].str.contains('x') &\n",
    "                       ~studies_df['style_or_effect'].str.contains('x')]\n"
   ]
  },
  {
   "cell_type": "code",
   "execution_count": 22,
   "id": "fd1d2ce4",
   "metadata": {
    "scrolled": true
   },
   "outputs": [
    {
     "data": {
      "text/plain": [
       "7.1000000000000005"
      ]
     },
     "execution_count": 22,
     "metadata": {},
     "output_type": "execute_result"
    }
   ],
   "source": [
    "artists_interest_df = artist_df[artist_df['batch_id'] == 1.0]\n",
    "len(artists_interest_df) * 0.05"
   ]
  },
  {
   "cell_type": "code",
   "execution_count": 23,
   "id": "fa0908ee",
   "metadata": {},
   "outputs": [
    {
     "name": "stderr",
     "output_type": "stream",
     "text": [
      "/Users/alecsharp/.pyenv/versions/3.8.6/envs/lewagon/lib/python3.8/site-packages/pandas/core/indexing.py:1667: SettingWithCopyWarning: \n",
      "A value is trying to be set on a copy of a slice from a DataFrame.\n",
      "Try using .loc[row_indexer,col_indexer] = value instead\n",
      "\n",
      "See the caveats in the documentation: https://pandas.pydata.org/pandas-docs/stable/user_guide/indexing.html#returning-a-view-versus-a-copy\n",
      "  self.obj[key] = value\n"
     ]
    }
   ],
   "source": [
    "artists_interest_df.loc[:, 'key'] = artists_interest_df.apply(lambda row: f\"{row['f_name']} {row['l_name']}\", axis = 1).str.replace(' ', '_')"
   ]
  },
  {
   "cell_type": "code",
   "execution_count": 25,
   "id": "d23c2076",
   "metadata": {},
   "outputs": [
    {
     "data": {
      "text/html": [
       "<div>\n",
       "<style scoped>\n",
       "    .dataframe tbody tr th:only-of-type {\n",
       "        vertical-align: middle;\n",
       "    }\n",
       "\n",
       "    .dataframe tbody tr th {\n",
       "        vertical-align: top;\n",
       "    }\n",
       "\n",
       "    .dataframe thead th {\n",
       "        text-align: right;\n",
       "    }\n",
       "</style>\n",
       "<table border=\"1\" class=\"dataframe\">\n",
       "  <thead>\n",
       "    <tr style=\"text-align: right;\">\n",
       "      <th></th>\n",
       "      <th>l_name</th>\n",
       "      <th>f_name</th>\n",
       "      <th>style_represented</th>\n",
       "      <th>complete</th>\n",
       "      <th>user</th>\n",
       "      <th>sgl_img_folder</th>\n",
       "      <th>cards_folder</th>\n",
       "      <th>batch_id</th>\n",
       "      <th>non_visual</th>\n",
       "      <th>style_or_effect</th>\n",
       "      <th>notes</th>\n",
       "      <th>key</th>\n",
       "    </tr>\n",
       "  </thead>\n",
       "  <tbody>\n",
       "    <tr>\n",
       "      <th>3</th>\n",
       "      <td>af Klint</td>\n",
       "      <td>Hilma</td>\n",
       "      <td>Yes</td>\n",
       "      <td>x</td>\n",
       "      <td>proximasan</td>\n",
       "      <td>x</td>\n",
       "      <td>x</td>\n",
       "      <td>1.0</td>\n",
       "      <td>-</td>\n",
       "      <td>-</td>\n",
       "      <td>NaN</td>\n",
       "      <td>Hilma_af_Klint</td>\n",
       "    </tr>\n",
       "    <tr>\n",
       "      <th>6</th>\n",
       "      <td>Aivazovsky</td>\n",
       "      <td>Ivan</td>\n",
       "      <td>Yes</td>\n",
       "      <td>x</td>\n",
       "      <td>KyrickYoung</td>\n",
       "      <td>x</td>\n",
       "      <td>x</td>\n",
       "      <td>1.0</td>\n",
       "      <td>-</td>\n",
       "      <td>-</td>\n",
       "      <td>NaN</td>\n",
       "      <td>Ivan_Aivazovsky</td>\n",
       "    </tr>\n",
       "    <tr>\n",
       "      <th>8</th>\n",
       "      <td>Amano</td>\n",
       "      <td>Yoshitaka</td>\n",
       "      <td>Yes</td>\n",
       "      <td>x</td>\n",
       "      <td>EErratica</td>\n",
       "      <td>x</td>\n",
       "      <td>x</td>\n",
       "      <td>1.0</td>\n",
       "      <td>-</td>\n",
       "      <td>-</td>\n",
       "      <td>NaN</td>\n",
       "      <td>Yoshitaka_Amano</td>\n",
       "    </tr>\n",
       "    <tr>\n",
       "      <th>10</th>\n",
       "      <td>Anderson</td>\n",
       "      <td>Wes</td>\n",
       "      <td>Yes</td>\n",
       "      <td>x</td>\n",
       "      <td>EErratica</td>\n",
       "      <td>x</td>\n",
       "      <td>x</td>\n",
       "      <td>1.0</td>\n",
       "      <td>-</td>\n",
       "      <td>-</td>\n",
       "      <td>NaN</td>\n",
       "      <td>Wes_Anderson</td>\n",
       "    </tr>\n",
       "    <tr>\n",
       "      <th>11</th>\n",
       "      <td>Andrews</td>\n",
       "      <td>Esao</td>\n",
       "      <td>Yes</td>\n",
       "      <td>x</td>\n",
       "      <td>sureailabs</td>\n",
       "      <td>x</td>\n",
       "      <td>x</td>\n",
       "      <td>1.0</td>\n",
       "      <td>-</td>\n",
       "      <td>-</td>\n",
       "      <td>NaN</td>\n",
       "      <td>Esao_Andrews</td>\n",
       "    </tr>\n",
       "    <tr>\n",
       "      <th>...</th>\n",
       "      <td>...</td>\n",
       "      <td>...</td>\n",
       "      <td>...</td>\n",
       "      <td>...</td>\n",
       "      <td>...</td>\n",
       "      <td>...</td>\n",
       "      <td>...</td>\n",
       "      <td>...</td>\n",
       "      <td>...</td>\n",
       "      <td>...</td>\n",
       "      <td>...</td>\n",
       "      <td>...</td>\n",
       "    </tr>\n",
       "    <tr>\n",
       "      <th>1088</th>\n",
       "      <td>Orbik</td>\n",
       "      <td>Glen</td>\n",
       "      <td>No</td>\n",
       "      <td>x</td>\n",
       "      <td>KyrickYoung</td>\n",
       "      <td>x</td>\n",
       "      <td>x</td>\n",
       "      <td>1.0</td>\n",
       "      <td>-</td>\n",
       "      <td>-</td>\n",
       "      <td>NaN</td>\n",
       "      <td>Glen_Orbik</td>\n",
       "    </tr>\n",
       "    <tr>\n",
       "      <th>1095</th>\n",
       "      <td>Parker</td>\n",
       "      <td>Lisa</td>\n",
       "      <td>No</td>\n",
       "      <td>x</td>\n",
       "      <td>KyrickYoung</td>\n",
       "      <td>x</td>\n",
       "      <td>x</td>\n",
       "      <td>1.0</td>\n",
       "      <td>-</td>\n",
       "      <td>-</td>\n",
       "      <td>NaN</td>\n",
       "      <td>Lisa_Parker</td>\n",
       "    </tr>\n",
       "    <tr>\n",
       "      <th>1127</th>\n",
       "      <td>Siudmak</td>\n",
       "      <td>Wojciech</td>\n",
       "      <td>No</td>\n",
       "      <td>x</td>\n",
       "      <td>sureailabs</td>\n",
       "      <td>x</td>\n",
       "      <td>x</td>\n",
       "      <td>1.0</td>\n",
       "      <td>-</td>\n",
       "      <td>-</td>\n",
       "      <td>NaN</td>\n",
       "      <td>Wojciech_Siudmak</td>\n",
       "    </tr>\n",
       "    <tr>\n",
       "      <th>1137</th>\n",
       "      <td>Szukalski</td>\n",
       "      <td>Stanisław</td>\n",
       "      <td>No</td>\n",
       "      <td>x</td>\n",
       "      <td>sureailabs</td>\n",
       "      <td>x</td>\n",
       "      <td>x</td>\n",
       "      <td>1.0</td>\n",
       "      <td>-</td>\n",
       "      <td>-</td>\n",
       "      <td>NaN</td>\n",
       "      <td>Stanisław__Szukalski</td>\n",
       "    </tr>\n",
       "    <tr>\n",
       "      <th>1152</th>\n",
       "      <td>Vishnevsky</td>\n",
       "      <td>Dmitry</td>\n",
       "      <td>No</td>\n",
       "      <td>x</td>\n",
       "      <td>KyrickYoung</td>\n",
       "      <td>x</td>\n",
       "      <td>x</td>\n",
       "      <td>1.0</td>\n",
       "      <td>-</td>\n",
       "      <td>-</td>\n",
       "      <td>NaN</td>\n",
       "      <td>Dmitry__Vishnevsky</td>\n",
       "    </tr>\n",
       "  </tbody>\n",
       "</table>\n",
       "<p>142 rows × 12 columns</p>\n",
       "</div>"
      ],
      "text/plain": [
       "          l_name      f_name style_represented complete         user  \\\n",
       "3       af Klint       Hilma               Yes        x   proximasan   \n",
       "6     Aivazovsky        Ivan               Yes        x  KyrickYoung   \n",
       "8          Amano   Yoshitaka               Yes        x    EErratica   \n",
       "10      Anderson         Wes               Yes        x    EErratica   \n",
       "11       Andrews        Esao               Yes        x   sureailabs   \n",
       "...          ...         ...               ...      ...          ...   \n",
       "1088       Orbik        Glen                No        x  KyrickYoung   \n",
       "1095      Parker        Lisa                No        x  KyrickYoung   \n",
       "1127     Siudmak    Wojciech                No        x   sureailabs   \n",
       "1137   Szukalski  Stanisław                 No        x   sureailabs   \n",
       "1152  Vishnevsky     Dmitry                 No        x  KyrickYoung   \n",
       "\n",
       "     sgl_img_folder cards_folder  batch_id non_visual style_or_effect notes  \\\n",
       "3                 x            x       1.0          -               -   NaN   \n",
       "6                 x            x       1.0          -               -   NaN   \n",
       "8                 x            x       1.0          -               -   NaN   \n",
       "10                x            x       1.0          -               -   NaN   \n",
       "11                x            x       1.0          -               -   NaN   \n",
       "...             ...          ...       ...        ...             ...   ...   \n",
       "1088              x            x       1.0          -               -   NaN   \n",
       "1095              x            x       1.0          -               -   NaN   \n",
       "1127              x            x       1.0          -               -   NaN   \n",
       "1137              x            x       1.0          -               -   NaN   \n",
       "1152              x            x       1.0          -               -   NaN   \n",
       "\n",
       "                       key  \n",
       "3           Hilma_af_Klint  \n",
       "6          Ivan_Aivazovsky  \n",
       "8          Yoshitaka_Amano  \n",
       "10            Wes_Anderson  \n",
       "11            Esao_Andrews  \n",
       "...                    ...  \n",
       "1088            Glen_Orbik  \n",
       "1095           Lisa_Parker  \n",
       "1127      Wojciech_Siudmak  \n",
       "1137  Stanisław__Szukalski  \n",
       "1152    Dmitry__Vishnevsky  \n",
       "\n",
       "[142 rows x 12 columns]"
      ]
     },
     "execution_count": 25,
     "metadata": {},
     "output_type": "execute_result"
    }
   ],
   "source": [
    "artists_interest_df"
   ]
  },
  {
   "cell_type": "code",
   "execution_count": 72,
   "id": "b1eb2f11",
   "metadata": {},
   "outputs": [],
   "source": [
    "import wikipediaapi\n",
    "import numpy as np\n",
    "import os\n",
    "import openai\n",
    "\n",
    "openai.api_key = os.getenv(\"OPENAI_API_KEY\")\n",
    "\n",
    "wiki_wiki = wikipediaapi.Wikipedia('en')\n",
    "\n",
    "##### use regex for replacements #####\n",
    "empty_row = \"|------|--------|------------------|-----------------|--------|----------|-------------|-------------|-------------|\"\n",
    "empty_row2 = \"| --- | --- | --- | --- | --- | --- | --- | --- | --- |\"\n",
    "empty_row3 = '|------|--------|------------------|-----------------|---------|----------|-------------|-------------|-------------|'\n",
    "\n",
    "table = \"| Name | Gender | Born (dd-mm-yyyy) | Died (dd-mm-yyyy) | Style | Location | Nationality | Occupation | Art School |\"\n",
    "\n",
    "headers = [x.strip() for x in table.split('|')[1:-1]]\n"
   ]
  },
  {
   "cell_type": "code",
   "execution_count": 28,
   "id": "3d735345",
   "metadata": {},
   "outputs": [],
   "source": [
    "# https://stackoverflow.com/questions/51122413/regex-for-extracting-all-complex-dates-formats-from-a-string-in-python\n",
    "import re\n",
    "import calendar\n",
    "\n",
    "class DateRegex:\n",
    "    \n",
    "    def __init__(self):\n",
    "        self.hello = 'hi'\n",
    "        # create regex helper strings\n",
    "        full_months = [month for month in calendar.month_name if month]\n",
    "        short_months = [d[:3] for d in full_months]\n",
    "        months = '|'.join(short_months + full_months)\n",
    "        day = r'\\d+'\n",
    "        year = r'\\d+'\n",
    "        day_or_year = r'\\d+(?:\\w+)?'\n",
    "        separator = r'[.,]?\\s+'\n",
    "        # compile regex\n",
    "        self.regex_expression = re.compile(rf'(?:{day}{separator})?(?:{months}){separator}{day_or_year}(?:{separator}{year})?')\n",
    "        \n",
    "    def get_all_dates(self, input_text):\n",
    "        \n",
    "        return self.regex_expression.findall(input_text)\n",
    "\n",
    "date_regex = DateRegex()"
   ]
  },
  {
   "cell_type": "code",
   "execution_count": 64,
   "id": "4e2f60eb",
   "metadata": {},
   "outputs": [
    {
     "data": {
      "text/plain": [
       "7.1"
      ]
     },
     "execution_count": 64,
     "metadata": {},
     "output_type": "execute_result"
    }
   ],
   "source": [
    "# estimate cost for all artists\n",
    "round(len(artists_interest_df) * 0.05, 2)"
   ]
  },
  {
   "cell_type": "code",
   "execution_count": 73,
   "id": "bb0b1a54",
   "metadata": {},
   "outputs": [
    {
     "name": "stderr",
     "output_type": "stream",
     "text": [
      "\r",
      "  0%|                                                    | 0/86 [00:00<?, ?it/s]"
     ]
    },
    {
     "name": "stdout",
     "output_type": "stream",
     "text": [
      "Magdalena Carmen Frida Kahlo y Calderón (Spanish p\n"
     ]
    },
    {
     "name": "stderr",
     "output_type": "stream",
     "text": [
      "\r",
      "  1%|▌                                           | 1/86 [00:06<09:03,  6.39s/it]"
     ]
    },
    {
     "name": "stdout",
     "output_type": "stream",
     "text": [
      "Wassily Wassilyevich Kandinsky (; Russian: Василий\n"
     ]
    },
    {
     "name": "stderr",
     "output_type": "stream",
     "text": [
      "\r",
      "  2%|█                                           | 2/86 [00:10<07:24,  5.29s/it]"
     ]
    },
    {
     "name": "stdout",
     "output_type": "stream",
     "text": [
      "Felix Runcie Kelly (3 February 1914 – 3 July 1994)\n"
     ]
    },
    {
     "name": "stderr",
     "output_type": "stream",
     "text": [
      "\r",
      "  3%|█▌                                          | 3/86 [00:16<07:12,  5.21s/it]"
     ]
    },
    {
     "name": "stdout",
     "output_type": "stream",
     "text": [
      "John Frederick Kensett (March 22, 1816 – December \n"
     ]
    },
    {
     "name": "stderr",
     "output_type": "stream",
     "text": [
      "\r",
      "  5%|██                                          | 4/86 [00:20<06:57,  5.09s/it]"
     ]
    },
    {
     "name": "stdout",
     "output_type": "stream",
     "text": [
      "William Thomas Kinkade III (January 19, 1958 – Apr\n"
     ]
    },
    {
     "name": "stderr",
     "output_type": "stream",
     "text": [
      "\r",
      "  6%|██▌                                         | 5/86 [00:27<07:26,  5.51s/it]"
     ]
    },
    {
     "name": "stdout",
     "output_type": "stream",
     "text": [
      "Paul Klee (German: [paʊ̯l ˈkleː]; 18 December 1879\n"
     ]
    },
    {
     "name": "stderr",
     "output_type": "stream",
     "text": [
      "\r",
      "  7%|███                                         | 6/86 [00:32<07:28,  5.60s/it]"
     ]
    },
    {
     "name": "stdout",
     "output_type": "stream",
     "text": [
      "Gustav Klimt (July 14, 1862 – February 6, 1918) wa\n"
     ]
    },
    {
     "name": "stderr",
     "output_type": "stream",
     "text": [
      "\r",
      "  8%|███▌                                        | 7/86 [00:39<07:39,  5.81s/it]"
     ]
    },
    {
     "name": "stdout",
     "output_type": "stream",
     "text": [
      "Jeffrey Lynn Koons (; born January 21, 1955) is an\n"
     ]
    },
    {
     "name": "stderr",
     "output_type": "stream",
     "text": [
      "\r",
      "  9%|████                                        | 8/86 [00:44<07:09,  5.51s/it]"
     ]
    },
    {
     "name": "stdout",
     "output_type": "stream",
     "text": [
      "Ilya Kuvshinov (born 20 February 1990) is a Russia\n"
     ]
    },
    {
     "name": "stderr",
     "output_type": "stream",
     "text": [
      " 12%|█████                                      | 10/86 [00:49<04:49,  3.80s/it]"
     ]
    },
    {
     "name": "stdout",
     "output_type": "stream",
     "text": [
      "René François Ghislain Magritte (French: [ʁəne fʁɑ\n"
     ]
    },
    {
     "name": "stderr",
     "output_type": "stream",
     "text": [
      "\r",
      " 13%|█████▌                                     | 11/86 [00:54<05:13,  4.18s/it]"
     ]
    },
    {
     "name": "stdout",
     "output_type": "stream",
     "text": [
      "Don Maitz is an American science fiction, fantasy,\n"
     ]
    },
    {
     "name": "stderr",
     "output_type": "stream",
     "text": [
      "\r",
      " 14%|██████                                     | 12/86 [00:58<05:11,  4.21s/it]"
     ]
    },
    {
     "name": "stdout",
     "output_type": "stream",
     "text": [
      "John Martin may refer to:\n",
      "\n",
      "Business\n",
      "John Martin (b\n"
     ]
    },
    {
     "name": "stderr",
     "output_type": "stream",
     "text": [
      "\r",
      " 15%|██████▌                                    | 13/86 [01:02<05:05,  4.18s/it]"
     ]
    },
    {
     "name": "stdout",
     "output_type": "stream",
     "text": [
      "Peter Max (born Peter Max Finkelstein, October 19,\n"
     ]
    },
    {
     "name": "stderr",
     "output_type": "stream",
     "text": [
      "\r",
      " 16%|███████                                    | 14/86 [01:08<05:30,  4.59s/it]"
     ]
    },
    {
     "name": "stdout",
     "output_type": "stream",
     "text": [
      "Robert McCall may refer to:\n",
      "\n",
      "Robert McCall (figure\n"
     ]
    },
    {
     "name": "stderr",
     "output_type": "stream",
     "text": [
      "\r",
      " 17%|███████▌                                   | 15/86 [01:12<05:28,  4.62s/it]"
     ]
    },
    {
     "name": "stdout",
     "output_type": "stream",
     "text": [
      "Ralph Angus McQuarrie (; June 13, 1929 – March 3, \n"
     ]
    },
    {
     "name": "stderr",
     "output_type": "stream",
     "text": [
      "\r",
      " 19%|████████                                   | 16/86 [01:17<05:14,  4.50s/it]"
     ]
    },
    {
     "name": "stdout",
     "output_type": "stream",
     "text": [
      "Sydney Jay Mead (July 18, 1933 – December 30, 2019\n"
     ]
    },
    {
     "name": "stderr",
     "output_type": "stream",
     "text": [
      "\r",
      " 20%|████████▌                                  | 17/86 [01:22<05:21,  4.67s/it]"
     ]
    },
    {
     "name": "stdout",
     "output_type": "stream",
     "text": [
      "Frank Miller (born January 27, 1957) is an America\n"
     ]
    },
    {
     "name": "stderr",
     "output_type": "stream",
     "text": [
      " 23%|██████████                                 | 20/86 [01:27<02:48,  2.56s/it]"
     ]
    },
    {
     "name": "stdout",
     "output_type": "stream",
     "text": [
      "Christopher Moore is the name of:\n",
      "\n",
      "Chris Moore (bu\n"
     ]
    },
    {
     "name": "stderr",
     "output_type": "stream",
     "text": [
      "\r",
      " 24%|██████████▌                                | 21/86 [01:31<03:18,  3.05s/it]"
     ]
    },
    {
     "name": "stdout",
     "output_type": "stream",
     "text": [
      "Alfons Maria Mucha (Czech: [ˈalfons ˈmuxa] (listen\n"
     ]
    },
    {
     "name": "stderr",
     "output_type": "stream",
     "text": [
      " 27%|███████████▍                               | 23/86 [01:37<02:47,  2.66s/it]"
     ]
    },
    {
     "name": "stdout",
     "output_type": "stream",
     "text": [
      "Ted Nasmith (born 1956) is a Canadian artist, illu\n"
     ]
    },
    {
     "name": "stderr",
     "output_type": "stream",
     "text": [
      "\r",
      " 28%|████████████                               | 24/86 [01:41<03:22,  3.26s/it]"
     ]
    },
    {
     "name": "stdout",
     "output_type": "stream",
     "text": [
      "Victo Ngai (born 1988) is an American illustrator \n"
     ]
    },
    {
     "name": "stderr",
     "output_type": "stream",
     "text": [
      "\r",
      " 29%|████████████▌                              | 25/86 [01:45<03:35,  3.53s/it]"
     ]
    },
    {
     "name": "stdout",
     "output_type": "stream",
     "text": [
      "Agnes Lawrence Pelton (1881–1961) was a modernist \n"
     ]
    },
    {
     "name": "stderr",
     "output_type": "stream",
     "text": [
      "\r",
      " 30%|█████████████                              | 26/86 [01:49<03:40,  3.67s/it]"
     ]
    },
    {
     "name": "stdout",
     "output_type": "stream",
     "text": [
      "Bruce Pennington (born 10 May 1944, in Somerset, E\n"
     ]
    },
    {
     "name": "stderr",
     "output_type": "stream",
     "text": [
      "\r",
      " 31%|█████████████▌                             | 27/86 [01:53<03:34,  3.64s/it]"
     ]
    },
    {
     "name": "stdout",
     "output_type": "stream",
     "text": [
      "Paul Jackson Pollock (; January 28, 1912 – August \n"
     ]
    },
    {
     "name": "stderr",
     "output_type": "stream",
     "text": [
      " 34%|██████████████▌                            | 29/86 [02:00<03:04,  3.24s/it]"
     ]
    },
    {
     "name": "stdout",
     "output_type": "stream",
     "text": [
      "Milton Ernest \"Robert\" Rauschenberg (October 22, 1\n"
     ]
    },
    {
     "name": "stderr",
     "output_type": "stream",
     "text": [
      "\r",
      " 35%|███████████████                            | 30/86 [02:05<03:31,  3.77s/it]"
     ]
    },
    {
     "name": "stdout",
     "output_type": "stream",
     "text": [
      "Diego María de la Concepción Juan Nepomuceno Estan\n"
     ]
    },
    {
     "name": "stderr",
     "output_type": "stream",
     "text": [
      "\r",
      " 36%|███████████████▍                           | 31/86 [02:08<03:19,  3.62s/it]"
     ]
    },
    {
     "name": "stdout",
     "output_type": "stream",
     "text": [
      "Hubert Robert (22 May 1733 – 15 April 1808) was a \n"
     ]
    },
    {
     "name": "stderr",
     "output_type": "stream",
     "text": [
      " 38%|████████████████▌                          | 33/86 [02:13<02:39,  3.00s/it]"
     ]
    },
    {
     "name": "stdout",
     "output_type": "stream",
     "text": [
      "Norman Percevel Rockwell (February 3, 1894 – Novem\n"
     ]
    },
    {
     "name": "stderr",
     "output_type": "stream",
     "text": [
      "\r",
      " 40%|█████████████████                          | 34/86 [02:24<04:39,  5.37s/it]"
     ]
    },
    {
     "name": "stdout",
     "output_type": "stream",
     "text": [
      "Robert Norman Ross (October 29, 1942 – July 4, 199\n"
     ]
    },
    {
     "name": "stderr",
     "output_type": "stream",
     "text": [
      "\r",
      " 41%|█████████████████▌                         | 35/86 [02:31<05:01,  5.90s/it]"
     ]
    },
    {
     "name": "stdout",
     "output_type": "stream",
     "text": [
      "Egon Leo Adolf Ludwig Schiele (German: [ˈeːɡɔn ˈʃi\n"
     ]
    },
    {
     "name": "stderr",
     "output_type": "stream",
     "text": [
      "\r",
      " 42%|██████████████████                         | 36/86 [02:37<04:48,  5.78s/it]"
     ]
    },
    {
     "name": "stdout",
     "output_type": "stream",
     "text": [
      "Ivan Ivanovich Shishkin (Russian: Ива́н Ива́нович \n"
     ]
    },
    {
     "name": "stderr",
     "output_type": "stream",
     "text": [
      " 44%|███████████████████                        | 38/86 [02:42<03:05,  3.87s/it]"
     ]
    },
    {
     "name": "stdout",
     "output_type": "stream",
     "text": [
      "Zachary Edward Snyder (born March 1, 1966) is an A\n"
     ]
    },
    {
     "name": "stderr",
     "output_type": "stream",
     "text": [
      "\r",
      " 45%|███████████████████▌                       | 39/86 [02:45<02:52,  3.66s/it]"
     ]
    },
    {
     "name": "stdout",
     "output_type": "stream",
     "text": [
      "Joaquín Sorolla y Bastida (Valencian: Joaquim Soro\n"
     ]
    },
    {
     "name": "stderr",
     "output_type": "stream",
     "text": [
      " 48%|████████████████████▌                      | 41/86 [02:51<02:17,  3.05s/it]"
     ]
    },
    {
     "name": "stdout",
     "output_type": "stream",
     "text": [
      "Thomas John Thomson (August 5, 1877 – July 8, 1917\n"
     ]
    },
    {
     "name": "stderr",
     "output_type": "stream",
     "text": [
      " 50%|█████████████████████▌                     | 43/86 [02:57<02:05,  2.93s/it]"
     ]
    },
    {
     "name": "stdout",
     "output_type": "stream",
     "text": [
      "Joseph Mallord William Turner  (23 April 1775 – 19\n"
     ]
    },
    {
     "name": "stderr",
     "output_type": "stream",
     "text": [
      "\r",
      " 51%|██████████████████████                     | 44/86 [03:01<02:16,  3.25s/it]"
     ]
    },
    {
     "name": "stdout",
     "output_type": "stream",
     "text": [
      "Vincent Willem van Gogh (Dutch: [ˈvɪnsənt ˈʋɪləɱ v\n"
     ]
    },
    {
     "name": "stderr",
     "output_type": "stream",
     "text": [
      "\r",
      " 52%|██████████████████████▌                    | 45/86 [03:06<02:35,  3.79s/it]"
     ]
    },
    {
     "name": "stdout",
     "output_type": "stream",
     "text": [
      "Rembrandt Harmenszoon van Rijn (, Dutch: [ˈrɛmbrɑn\n"
     ]
    },
    {
     "name": "stderr",
     "output_type": "stream",
     "text": [
      "\r",
      " 53%|██████████████████████▉                    | 46/86 [03:11<02:43,  4.08s/it]"
     ]
    },
    {
     "name": "stdout",
     "output_type": "stream",
     "text": [
      "Louis William Wain (5 August 1860 – 4 July 1939) w\n"
     ]
    },
    {
     "name": "stderr",
     "output_type": "stream",
     "text": [
      "\r",
      " 55%|███████████████████████▌                   | 47/86 [03:16<02:51,  4.40s/it]"
     ]
    },
    {
     "name": "stdout",
     "output_type": "stream",
     "text": [
      "Ron Walotsky (21 August 1943 – July 29, 2002) was \n"
     ]
    },
    {
     "name": "stderr",
     "output_type": "stream",
     "text": [
      "\r",
      " 56%|████████████████████████                   | 48/86 [03:20<02:41,  4.24s/it]"
     ]
    },
    {
     "name": "stdout",
     "output_type": "stream",
     "text": [
      "Andy Warhol (; born Andrew Warhola Jr.; August 6, \n"
     ]
    },
    {
     "name": "stderr",
     "output_type": "stream",
     "text": [
      "\r",
      " 57%|████████████████████████▌                  | 49/86 [03:25<02:46,  4.51s/it]"
     ]
    },
    {
     "name": "stdout",
     "output_type": "stream",
     "text": [
      "Timothy White or Tim White may refer to:\n",
      "\n",
      "Timothy \n"
     ]
    },
    {
     "name": "stderr",
     "output_type": "stream",
     "text": [
      "\r",
      " 58%|█████████████████████████                  | 50/86 [03:29<02:31,  4.21s/it]"
     ]
    },
    {
     "name": "stdout",
     "output_type": "stream",
     "text": [
      "Liam Wong is a Scottish photographer and games des\n"
     ]
    },
    {
     "name": "stderr",
     "output_type": "stream",
     "text": [
      "\r",
      " 59%|█████████████████████████▌                 | 51/86 [03:33<02:34,  4.41s/it]"
     ]
    },
    {
     "name": "stdout",
     "output_type": "stream",
     "text": [
      "Jacek Yerka (born Jacek Kowalski in 1952) is a Pol\n"
     ]
    },
    {
     "name": "stderr",
     "output_type": "stream",
     "text": [
      " 63%|███████████████████████████                | 54/86 [03:37<01:10,  2.19s/it]"
     ]
    },
    {
     "name": "stdout",
     "output_type": "stream",
     "text": [
      "Alexander Bogen (Hebrew: אלכסנדר בוגן; born Januar\n"
     ]
    },
    {
     "name": "stderr",
     "output_type": "stream",
     "text": [
      "\r",
      " 64%|███████████████████████████▌               | 55/86 [03:43<01:40,  3.25s/it]"
     ]
    },
    {
     "name": "stdout",
     "output_type": "stream",
     "text": [
      "Rafał Olbinski (born February 21, 1943) is a Polis\n"
     ]
    },
    {
     "name": "stderr",
     "output_type": "stream",
     "text": [
      " 67%|█████████████████████████████              | 58/86 [03:49<01:01,  2.18s/it]"
     ]
    },
    {
     "name": "stdout",
     "output_type": "stream",
     "text": [
      "Esteban Vicente Pérez (January 20, 1903 – January \n"
     ]
    },
    {
     "name": "stderr",
     "output_type": "stream",
     "text": [
      "\r",
      " 69%|█████████████████████████████▌             | 59/86 [03:54<01:22,  3.07s/it]"
     ]
    },
    {
     "name": "stdout",
     "output_type": "stream",
     "text": [
      "Abdel Hadi Al Gazzar (1925–1966) (Arabic: عبد الها\n"
     ]
    },
    {
     "name": "stderr",
     "output_type": "stream",
     "text": [
      "\r",
      " 70%|██████████████████████████████             | 60/86 [03:58<01:24,  3.24s/it]"
     ]
    },
    {
     "name": "stdout",
     "output_type": "stream",
     "text": [
      "Moosa Al Halyan (born 1969) is an Emirati surreali\n"
     ]
    },
    {
     "name": "stderr",
     "output_type": "stream",
     "text": [
      "\r",
      " 71%|██████████████████████████████▌            | 61/86 [04:02<01:23,  3.33s/it]"
     ]
    },
    {
     "name": "stdout",
     "output_type": "stream",
     "text": [
      "John Dyer Baizley is a Philadelphian musician and \n"
     ]
    },
    {
     "name": "stderr",
     "output_type": "stream",
     "text": [
      "\r",
      " 72%|██████████████████████████████▉            | 62/86 [04:09<01:47,  4.48s/it]"
     ]
    },
    {
     "name": "stdout",
     "output_type": "stream",
     "text": [
      "Didier Barra (1590 - 1656) was a French Renaissanc\n"
     ]
    },
    {
     "name": "stderr",
     "output_type": "stream",
     "text": [
      " 76%|████████████████████████████████▌          | 65/86 [04:13<00:47,  2.26s/it]"
     ]
    },
    {
     "name": "stdout",
     "output_type": "stream",
     "text": [
      "William Copley is the name of:\n",
      "\n",
      "William Copley (So\n"
     ]
    },
    {
     "name": "stderr",
     "output_type": "stream",
     "text": [
      " 78%|█████████████████████████████████▌         | 67/86 [04:19<00:45,  2.37s/it]"
     ]
    },
    {
     "name": "stdout",
     "output_type": "stream",
     "text": [
      "Monsù Desiderio is the  name formerly given to an \n"
     ]
    },
    {
     "name": "stderr",
     "output_type": "stream",
     "text": [
      "\r",
      " 79%|██████████████████████████████████         | 68/86 [04:23<00:56,  3.14s/it]"
     ]
    },
    {
     "name": "stdout",
     "output_type": "stream",
     "text": [
      "Gerardo Dottori  (11 November 1884 – 13 June 1977)\n"
     ]
    },
    {
     "name": "stderr",
     "output_type": "stream",
     "text": [
      "\r",
      " 80%|██████████████████████████████████▌        | 69/86 [04:28<01:01,  3.64s/it]"
     ]
    },
    {
     "name": "stdout",
     "output_type": "stream",
     "text": [
      "Henri-Robert-Marcel Duchamp (UK: , US: , French: [\n"
     ]
    },
    {
     "name": "stderr",
     "output_type": "stream",
     "text": [
      "\r",
      " 81%|███████████████████████████████████        | 70/86 [04:35<01:13,  4.58s/it]"
     ]
    },
    {
     "name": "stdout",
     "output_type": "stream",
     "text": [
      "Germaine Dulac (French: [dylak]; born Charlotte El\n"
     ]
    },
    {
     "name": "stderr",
     "output_type": "stream",
     "text": [
      "\r",
      " 83%|███████████████████████████████████▌       | 71/86 [04:41<01:16,  5.07s/it]"
     ]
    },
    {
     "name": "stdout",
     "output_type": "stream",
     "text": [
      "Gian Paolo Dulbecco (12 September 1941) is an Ital\n"
     ]
    },
    {
     "name": "stderr",
     "output_type": "stream",
     "text": [
      "\r",
      " 84%|████████████████████████████████████       | 72/86 [04:46<01:11,  5.10s/it]"
     ]
    },
    {
     "name": "stdout",
     "output_type": "stream",
     "text": [
      "Victorina Durán Cebrián (11 December 1899 – 10 Dec\n"
     ]
    },
    {
     "name": "stderr",
     "output_type": "stream",
     "text": [
      "\r",
      " 85%|████████████████████████████████████▌      | 73/86 [04:51<01:05,  5.01s/it]"
     ]
    },
    {
     "name": "stdout",
     "output_type": "stream",
     "text": [
      "Danielle Eckhardt (born 1982), is an American pain\n"
     ]
    },
    {
     "name": "stderr",
     "output_type": "stream",
     "text": [
      " 87%|█████████████████████████████████████▌     | 75/86 [04:56<00:38,  3.54s/it]"
     ]
    },
    {
     "name": "stdout",
     "output_type": "stream",
     "text": [
      "Nusch Éluard (born Maria Benz; 21 June 1906 – 28 N\n"
     ]
    },
    {
     "name": "stderr",
     "output_type": "stream",
     "text": [
      "\r",
      " 88%|██████████████████████████████████████     | 76/86 [05:01<00:38,  3.88s/it]"
     ]
    },
    {
     "name": "stdout",
     "output_type": "stream",
     "text": [
      "Sylvia Fein (born November 20, 1919) is an America\n"
     ]
    },
    {
     "name": "stderr",
     "output_type": "stream",
     "text": [
      "\r",
      " 90%|██████████████████████████████████████▌    | 77/86 [05:06<00:39,  4.38s/it]"
     ]
    },
    {
     "name": "stdout",
     "output_type": "stream",
     "text": [
      "David Chester Gibbons (born 14 April 1949) is an E\n"
     ]
    },
    {
     "name": "stderr",
     "output_type": "stream",
     "text": [
      "\r",
      " 91%|███████████████████████████████████████    | 78/86 [05:11<00:35,  4.46s/it]"
     ]
    },
    {
     "name": "stdout",
     "output_type": "stream",
     "text": [
      "Juan Antonio Giménez López ([xwãn xiˈmenes]; 26 No\n"
     ]
    },
    {
     "name": "stderr",
     "output_type": "stream",
     "text": [
      "\r",
      " 92%|███████████████████████████████████████▌   | 79/86 [05:17<00:34,  4.97s/it]"
     ]
    },
    {
     "name": "stdout",
     "output_type": "stream",
     "text": [
      "John Higgins,  (born 18 May 1975) is a Scottish pr\n"
     ]
    },
    {
     "name": "stderr",
     "output_type": "stream",
     "text": [
      "\r",
      " 93%|████████████████████████████████████████   | 80/86 [05:22<00:29,  4.85s/it]"
     ]
    },
    {
     "name": "stdout",
     "output_type": "stream",
     "text": [
      "Arman Tateos Manookian (Armenian: Արման Թադէոս Ման\n"
     ]
    },
    {
     "name": "stderr",
     "output_type": "stream",
     "text": [
      "\r",
      " 94%|████████████████████████████████████████▌  | 81/86 [05:26<00:24,  4.81s/it]"
     ]
    },
    {
     "name": "stdout",
     "output_type": "stream",
     "text": [
      "Glen Orbik (1963 – May 11, 2015) was an American i\n"
     ]
    },
    {
     "name": "stderr",
     "output_type": "stream",
     "text": [
      "\r",
      " 95%|█████████████████████████████████████████  | 82/86 [05:31<00:19,  4.78s/it]"
     ]
    },
    {
     "name": "stdout",
     "output_type": "stream",
     "text": [
      "Home and Away is an Australian television soap ope\n"
     ]
    },
    {
     "name": "stderr",
     "output_type": "stream",
     "text": [
      "\r",
      " 97%|█████████████████████████████████████████▌ | 83/86 [05:36<00:14,  4.77s/it]"
     ]
    },
    {
     "name": "stdout",
     "output_type": "stream",
     "text": [
      "Wojciech Kazimierz \"Wojtek\" Siudmak (born 10 Octob\n"
     ]
    },
    {
     "name": "stderr",
     "output_type": "stream",
     "text": [
      "\r",
      " 98%|██████████████████████████████████████████ | 84/86 [05:40<00:09,  4.65s/it]"
     ]
    },
    {
     "name": "stdout",
     "output_type": "stream",
     "text": [
      "Stanisław Szukalski (13 December 1893 – 19 May 198\n"
     ]
    },
    {
     "name": "stderr",
     "output_type": "stream",
     "text": [
      "100%|███████████████████████████████████████████| 86/86 [05:45<00:00,  4.02s/it]\n"
     ]
    }
   ],
   "source": [
    "from tqdm import tqdm\n",
    "#records_list = []\n",
    "#artist = 'Hubert_Robert'\n",
    "#artist = 'Annibale_Carracci'\n",
    "\n",
    "for artist in tqdm(artists_interest_df['key'][56:]):\n",
    "    wiki_page = wiki_wiki.page(artist)\n",
    "    if wiki_page.exists():\n",
    "\n",
    "        artist_text = wiki_page.text\n",
    "        \n",
    "        print(artist_text[:50])\n",
    "\n",
    "        prompt = \"A table summarizing an Artist:\\n\\n\" + artist_text[:2000] + \"\\n\\n\" + table\n",
    "\n",
    "\n",
    "        response = openai.Completion.create(\n",
    "            engine=\"text-davinci-002\",\n",
    "            prompt = prompt,\n",
    "            temperature=0,\n",
    "            max_tokens=200,\n",
    "            top_p=1.0,\n",
    "            frequency_penalty=0.0,\n",
    "            presence_penalty=0.0\n",
    "        )\n",
    "\n",
    "        \n",
    "        ##### use regex for replacements #####\n",
    "        results = [x.strip() for x in response.choices[0].text.replace(empty_row, '').replace(empty_row2, '').replace(empty_row3, '').split('|')[1:-1]]\n",
    "\n",
    "        results_dict = {k:v for k, v in zip(headers, results)}\n",
    "\n",
    "        results_dict['Artist'] = artist\n",
    "        results_dict['URL'] = wiki_page.fullurl\n",
    "\n",
    "        records_list.append(results_dict)"
   ]
  },
  {
   "cell_type": "code",
   "execution_count": 75,
   "id": "e2f37896",
   "metadata": {
    "scrolled": true
   },
   "outputs": [],
   "source": [
    "results_df = pd.DataFrame(records_list)"
   ]
  },
  {
   "cell_type": "code",
   "execution_count": 79,
   "id": "352ac2c8",
   "metadata": {},
   "outputs": [],
   "source": [
    "#results_df.to_csv('../data/batch_1_artist_info.csv')"
   ]
  }
 ],
 "metadata": {
  "kernelspec": {
   "display_name": "Python 3 (ipykernel)",
   "language": "python",
   "name": "python3"
  },
  "language_info": {
   "codemirror_mode": {
    "name": "ipython",
    "version": 3
   },
   "file_extension": ".py",
   "mimetype": "text/x-python",
   "name": "python",
   "nbconvert_exporter": "python",
   "pygments_lexer": "ipython3",
   "version": "3.8.6"
  }
 },
 "nbformat": 4,
 "nbformat_minor": 5
}
