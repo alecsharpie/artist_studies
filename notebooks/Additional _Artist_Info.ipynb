{
 "cells": [
  {
   "cell_type": "code",
   "execution_count": null,
   "id": "3c7fc169",
   "metadata": {},
   "outputs": [],
   "source": [
    "import requests\n",
    "\n"
   ]
  },
  {
   "cell_type": "code",
   "execution_count": null,
   "id": "88296350",
   "metadata": {},
   "outputs": [],
   "source": []
  },
  {
   "cell_type": "code",
   "execution_count": null,
   "id": "0eb8c3f4",
   "metadata": {},
   "outputs": [],
   "source": [
    "from bs4 import BeautifulSoup\n",
    "soup = BeautifulSoup(html_doc, 'html.parser')\n",
    "\n",
    "soup.find_all('a')\n",
    "# [<a class=\"sister\" href=\"http://example.com/elsie\" id=\"link1\">Elsie</a>,\n",
    "#  <a class=\"sister\" href=\"http://example.com/lacie\" id=\"link2\">Lacie</a>,\n",
    "#  <a class=\"sister\" href=\"http://example.com/tillie\" id=\"link3\">Tillie</a>]\n",
    "\n",
    "soup.find(id=\"link3\")"
   ]
  },
  {
   "cell_type": "code",
   "execution_count": 3,
   "id": "ecc1ee98",
   "metadata": {},
   "outputs": [
    {
     "name": "stdout",
     "output_type": "stream",
     "text": [
      "Artist_studies_master.csv \u001b[30m\u001b[43mbatch 3\u001b[m\u001b[m                   \u001b[30m\u001b[43mbatch 6\u001b[m\u001b[m\r\n",
      "\u001b[1m\u001b[36mbatch 1\u001b[m\u001b[m                   \u001b[1m\u001b[36mbatch 3 2\u001b[m\u001b[m                 \u001b[30m\u001b[43mbatch 6 2\u001b[m\u001b[m\r\n",
      "batch 1.zip               \u001b[30m\u001b[43mbatch 4\u001b[m\u001b[m                   \u001b[1m\u001b[36mbatch 7\u001b[m\u001b[m\r\n",
      "\u001b[1m\u001b[36mbatch 2\u001b[m\u001b[m                   \u001b[30m\u001b[43mbatch 4 2\u001b[m\u001b[m\r\n",
      "\u001b[1m\u001b[36mbatch 2 2\u001b[m\u001b[m                 \u001b[30m\u001b[43mbatch 5\u001b[m\u001b[m\r\n"
     ]
    }
   ],
   "source": [
    "!ls ../raw_data"
   ]
  },
  {
   "cell_type": "code",
   "execution_count": 36,
   "id": "53ef79b8",
   "metadata": {},
   "outputs": [],
   "source": [
    "studies_csv = pd.read_csv('../raw_data/Artist_studies_master.csv')\n",
    "studies_df = artist_csv.copy()"
   ]
  },
  {
   "cell_type": "code",
   "execution_count": 37,
   "id": "0d7270e4",
   "metadata": {},
   "outputs": [
    {
     "data": {
      "text/html": [
       "<div>\n",
       "<style scoped>\n",
       "    .dataframe tbody tr th:only-of-type {\n",
       "        vertical-align: middle;\n",
       "    }\n",
       "\n",
       "    .dataframe tbody tr th {\n",
       "        vertical-align: top;\n",
       "    }\n",
       "\n",
       "    .dataframe thead th {\n",
       "        text-align: right;\n",
       "    }\n",
       "</style>\n",
       "<table border=\"1\" class=\"dataframe\">\n",
       "  <thead>\n",
       "    <tr style=\"text-align: right;\">\n",
       "      <th></th>\n",
       "      <th>Artist (last/only)\\n(or other effect)</th>\n",
       "      <th>Artist (first)</th>\n",
       "      <th>Style represented</th>\n",
       "      <th>Complete</th>\n",
       "      <th>User</th>\n",
       "      <th>sgl img folder</th>\n",
       "      <th>cards folder</th>\n",
       "      <th>Batch #</th>\n",
       "      <th>Check x if non-visual artist</th>\n",
       "      <th>Check x if style or other effect</th>\n",
       "      <th>Notes</th>\n",
       "    </tr>\n",
       "  </thead>\n",
       "  <tbody>\n",
       "    <tr>\n",
       "      <th>0</th>\n",
       "      <td>Adams</td>\n",
       "      <td>Ansel</td>\n",
       "      <td>Yes</td>\n",
       "      <td>x</td>\n",
       "      <td>KyrickYoung</td>\n",
       "      <td>x</td>\n",
       "      <td>x</td>\n",
       "      <td>2.0</td>\n",
       "      <td>-</td>\n",
       "      <td>-</td>\n",
       "      <td>NaN</td>\n",
       "    </tr>\n",
       "    <tr>\n",
       "      <th>1</th>\n",
       "      <td>Adams</td>\n",
       "      <td>Arthur</td>\n",
       "      <td>Yes</td>\n",
       "      <td>x</td>\n",
       "      <td>sureailabs</td>\n",
       "      <td>x</td>\n",
       "      <td>x</td>\n",
       "      <td>5.0</td>\n",
       "      <td>-</td>\n",
       "      <td>-</td>\n",
       "      <td>NaN</td>\n",
       "    </tr>\n",
       "    <tr>\n",
       "      <th>2</th>\n",
       "      <td>Aenami</td>\n",
       "      <td>Alena</td>\n",
       "      <td>Yes</td>\n",
       "      <td>x</td>\n",
       "      <td>sureailabs</td>\n",
       "      <td>x</td>\n",
       "      <td>x</td>\n",
       "      <td>3.0</td>\n",
       "      <td>-</td>\n",
       "      <td>-</td>\n",
       "      <td>NaN</td>\n",
       "    </tr>\n",
       "    <tr>\n",
       "      <th>3</th>\n",
       "      <td>af Klint</td>\n",
       "      <td>Hilma</td>\n",
       "      <td>Yes</td>\n",
       "      <td>x</td>\n",
       "      <td>proximasan</td>\n",
       "      <td>x</td>\n",
       "      <td>x</td>\n",
       "      <td>1.0</td>\n",
       "      <td>-</td>\n",
       "      <td>-</td>\n",
       "      <td>NaN</td>\n",
       "    </tr>\n",
       "    <tr>\n",
       "      <th>4</th>\n",
       "      <td>Affandi</td>\n",
       "      <td>NaN</td>\n",
       "      <td>Yes</td>\n",
       "      <td>x</td>\n",
       "      <td>sureailabs</td>\n",
       "      <td>x</td>\n",
       "      <td>x</td>\n",
       "      <td>3.0</td>\n",
       "      <td>-</td>\n",
       "      <td>-</td>\n",
       "      <td>NaN</td>\n",
       "    </tr>\n",
       "  </tbody>\n",
       "</table>\n",
       "</div>"
      ],
      "text/plain": [
       "  Artist (last/only)\\n(or other effect) Artist (first) Style represented  \\\n",
       "0                                 Adams          Ansel               Yes   \n",
       "1                                 Adams         Arthur               Yes   \n",
       "2                                Aenami          Alena               Yes   \n",
       "3                              af Klint          Hilma               Yes   \n",
       "4                               Affandi            NaN               Yes   \n",
       "\n",
       "  Complete         User sgl img folder cards folder  Batch #  \\\n",
       "0        x  KyrickYoung              x            x      2.0   \n",
       "1        x   sureailabs              x            x      5.0   \n",
       "2        x   sureailabs              x            x      3.0   \n",
       "3        x   proximasan              x            x      1.0   \n",
       "4        x   sureailabs              x            x      3.0   \n",
       "\n",
       "  Check x if non-visual artist Check x if style or other effect Notes  \n",
       "0                            -                                -   NaN  \n",
       "1                            -                                -   NaN  \n",
       "2                            -                                -   NaN  \n",
       "3                            -                                -   NaN  \n",
       "4                            -                                -   NaN  "
      ]
     },
     "execution_count": 37,
     "metadata": {},
     "output_type": "execute_result"
    }
   ],
   "source": [
    "studies_df.head()"
   ]
  },
  {
   "cell_type": "code",
   "execution_count": 38,
   "id": "e4dc8534",
   "metadata": {},
   "outputs": [
    {
     "data": {
      "text/plain": [
       "Index(['Artist (last/only)\\n(or other effect)', 'Artist (first)',\n",
       "       'Style represented', 'Complete', 'User', 'sgl img folder',\n",
       "       'cards folder', 'Batch #', 'Check x if non-visual artist',\n",
       "       'Check x if style or other effect', 'Notes'],\n",
       "      dtype='object')"
      ]
     },
     "execution_count": 38,
     "metadata": {},
     "output_type": "execute_result"
    }
   ],
   "source": [
    "studies_df.columns"
   ]
  },
  {
   "cell_type": "code",
   "execution_count": 39,
   "id": "61a0d015",
   "metadata": {},
   "outputs": [],
   "source": [
    "studies_df.columns = ['l_name', 'f_name',\n",
    "       'style_represented', 'complete', 'user', 'sgl_img_folder',\n",
    "       'cards_folder', 'batch_id', 'non_visual',\n",
    "       'style_or_effect', 'notes']"
   ]
  },
  {
   "cell_type": "code",
   "execution_count": 33,
   "id": "c001d2b5",
   "metadata": {},
   "outputs": [],
   "source": [
    "artist_df = studies_df[~studies_df['non_visual'].str.contains('x') & ~studies_df['style_or_effect'].str.contains('x')]"
   ]
  },
  {
   "cell_type": "code",
   "execution_count": null,
   "id": "bcc3f693",
   "metadata": {},
   "outputs": [],
   "source": []
  },
  {
   "cell_type": "code",
   "execution_count": 40,
   "id": "2512819c",
   "metadata": {},
   "outputs": [],
   "source": [
    "artist_df['key'] = artist_df.apply(lambda row: f\"{row['f_name']} {row['l_name']}\", axis = 1).str.replace(' ', '_')"
   ]
  },
  {
   "cell_type": "code",
   "execution_count": null,
   "id": "6766e11a",
   "metadata": {},
   "outputs": [],
   "source": []
  },
  {
   "cell_type": "code",
   "execution_count": 56,
   "id": "137ff774",
   "metadata": {},
   "outputs": [
    {
     "data": {
      "text/plain": [
       "'Annibale_Carracci'"
      ]
     },
     "execution_count": 56,
     "metadata": {},
     "output_type": "execute_result"
    }
   ],
   "source": [
    "artist_df['key'][100]"
   ]
  },
  {
   "cell_type": "code",
   "execution_count": 42,
   "id": "f90fb596",
   "metadata": {
    "collapsed": true
   },
   "outputs": [
    {
     "name": "stdout",
     "output_type": "stream",
     "text": [
      "Collecting wikipedia-api\n",
      "  Downloading Wikipedia-API-0.5.4.tar.gz (18 kB)\n",
      "  Preparing metadata (setup.py) ... \u001b[?25ldone\n",
      "\u001b[?25hRequirement already satisfied: requests in /Users/alecsharp/.pyenv/versions/3.8.6/envs/lewagon/lib/python3.8/site-packages (from wikipedia-api) (2.26.0)\n",
      "Requirement already satisfied: urllib3<1.27,>=1.21.1 in /Users/alecsharp/.pyenv/versions/3.8.6/envs/lewagon/lib/python3.8/site-packages (from requests->wikipedia-api) (1.26.6)\n",
      "Requirement already satisfied: idna<4,>=2.5 in /Users/alecsharp/.pyenv/versions/3.8.6/envs/lewagon/lib/python3.8/site-packages (from requests->wikipedia-api) (3.2)\n",
      "Requirement already satisfied: certifi>=2017.4.17 in /Users/alecsharp/.pyenv/versions/3.8.6/envs/lewagon/lib/python3.8/site-packages (from requests->wikipedia-api) (2021.5.30)\n",
      "Requirement already satisfied: charset-normalizer~=2.0.0 in /Users/alecsharp/.pyenv/versions/3.8.6/envs/lewagon/lib/python3.8/site-packages (from requests->wikipedia-api) (2.0.3)\n",
      "Building wheels for collected packages: wikipedia-api\n",
      "  Building wheel for wikipedia-api (setup.py) ... \u001b[?25ldone\n",
      "\u001b[?25h  Created wheel for wikipedia-api: filename=Wikipedia_API-0.5.4-py3-none-any.whl size=13462 sha256=a05270f8d261c24a3038ba40d9536e01458be65476147b37e43d9f34dbd7b548\n",
      "  Stored in directory: /Users/alecsharp/Library/Caches/pip/wheels/ed/88/e3/da3d4d73cb91d659488cfa25913b84bbc26febec99d257bce9\n",
      "Successfully built wikipedia-api\n",
      "Installing collected packages: wikipedia-api\n",
      "Successfully installed wikipedia-api-0.5.4\n"
     ]
    }
   ],
   "source": [
    "#!pip install wikipedia-api"
   ]
  },
  {
   "cell_type": "code",
   "execution_count": 45,
   "id": "b0253072",
   "metadata": {},
   "outputs": [],
   "source": [
    "import wikipediaapi\n",
    "\n",
    "wiki_wiki = wikipediaapi.Wikipedia('en')"
   ]
  },
  {
   "cell_type": "code",
   "execution_count": 82,
   "id": "eefaa6fd",
   "metadata": {},
   "outputs": [
    {
     "data": {
      "text/plain": [
       "['November 3, 1560',\n",
       " 'July 15, 1609',\n",
       " 'December 1595',\n",
       " 'July 8, 1595',\n",
       " 'April 1606',\n",
       " 'October 2003']"
      ]
     },
     "execution_count": 82,
     "metadata": {},
     "output_type": "execute_result"
    }
   ],
   "source": [
    "# https://stackoverflow.com/questions/51122413/regex-for-extracting-all-complex-dates-formats-from-a-string-in-python\n",
    "import re\n",
    "import calendar\n",
    "\n",
    "class DateRegex:\n",
    "    \n",
    "    def __init__(self):\n",
    "        self.hello = 'hi'\n",
    "        # create regex helper strings\n",
    "        full_months = [month for month in calendar.month_name if month]\n",
    "        short_months = [d[:3] for d in full_months]\n",
    "        months = '|'.join(short_months + full_months)\n",
    "        day = r'\\d+'\n",
    "        year = r'\\d+'\n",
    "        day_or_year = r'\\d+(?:\\w+)?'\n",
    "        separator = r'[.,]?\\s+'\n",
    "        # compile regex\n",
    "        self.regex_expression = re.compile(rf'(?:{day}{sep})?(?:{months}){separator}{day_or_year}(?:{separator}{year})?')\n",
    "        \n",
    "    def get_all_dates(self, input_text):\n",
    "        \n",
    "        return self.regex_expression.findall(input_text)\n",
    "\n",
    "date_regex = DateRegex()"
   ]
  },
  {
   "cell_type": "code",
   "execution_count": 83,
   "id": "14f052eb",
   "metadata": {},
   "outputs": [],
   "source": [
    "import numpy as np\n",
    "\n",
    "birth_dates_list = []\n",
    "#artist = 'Hubert_Robert'\n",
    "artist = 'Annibale_Carracci'\n",
    "wiki_page = wiki_wiki.page(artist)\n",
    "if wiki_page.exists():\n",
    "    \n",
    "    artist_text = wiki_page.text\n",
    "    dates = date_regex.get_all_dates(artist_text)\n",
    "    birth_dates_list.append(dates[0])\n",
    "else:\n",
    "    birth_dates_list.append(np.nan)\n",
    "    "
   ]
  },
  {
   "cell_type": "code",
   "execution_count": 84,
   "id": "47ab81ae",
   "metadata": {},
   "outputs": [
    {
     "data": {
      "text/plain": [
       "'Annibale Carracci (Italian pronunciation: [anˈniːbale karˈrattʃi]; November 3, 1560 – July 15, 1609) was an Italian painter and instructor, active in Bologna and later in Rome. Along with his brother and cousin, Annibale was one of the progenitors, if not founders of a leading strand of the Baroque style, borrowing from styles from both north and south of their native city, and aspiring for a return to classical monumentality, but adding a more vital dynamism. Painters working under Annibale at the gallery of the Palazzo Farnese would be highly influential in Roman painting for decades.\\n\\nEarly career\\nAnnibale Carracci was born in Bologna, and in all likelihood was first apprenticed within his family. In 1582, Annibale, his brother Agostino and his cousin Ludovico Carracci opened a painters\\' studio, initially called by some the Academy of the Desiderosi (desirous of fame and learning) and subsequently the Incamminati (progressives; literally \"of those opening a new way\"). Considered \"the first major art school based on life drawing\", the Accademia degli Incamminati was the model for later art schools throughout Europe. While the Carraccis laid emphasis on the typically Florentine linear draftsmanship, as exemplified by Raphael and Andrea del Sarto, their interest in the glimmering colours and mistier edges of objects derived from the Venetian painters, notably the works of Venetian oil painter Titian, which Annibale and Agostino studied during their travels around Italy in 1580–81 at the behest of the elder Caracci Lodovico. This eclecticism was to become the defining trait of the artists of the Baroque Emilian or Bolognese School.\\nIn many early Bolognese works by the Carraccis, it is difficult to distinguish the individual contributions made by each.  For example, the frescoes on the story of Jason for  Palazzo Fava in Bologna (c. 1583–84) are signed Carracci, which suggests that they all contributed. In 1585, Annibale completed an altarpiece of the Baptism of Christ for the church of Santi Gregorio e Siro in Bologna. In 1587, he painted the Assumption for the church of San Rocco in Reggio Emilia.\\nIn 1587–88, Annibale is known to have had travelled to Parma and then Venice, where he joined his brother Agostino. From 1589 to 1592, the three Carracci brothers completed the frescoes on the Founding of Rome for  Palazzo Magnani in Bologna. By 1593, Annibale had completed an altarpiece, Virgin on the throne with St John and St Catherine, in collaboration with Lucio Massari. His Resurrection of Christ also dates from 1593. In 1592, he painted an Assumption for the Bonasoni chapel in San Francesco. During 1593–94, all three Carraccis were working on frescoes in Palazzo Sampieri in Bologna.\\n\\nFrescoes in Palazzo Farnese\\nBased on the prolific and masterful frescoes by the Carracci in Bologna, Annibale was recommended by the Duke of Parma, Ranuccio I Farnese, to his brother, the Cardinal Odoardo Farnese, who wished to decorate the piano nobile of the cavernous Roman Palazzo Farnese. In November–December 1595, Annibale and Agostino traveled to Rome to begin decorating the  Camerino with stories of Hercules, appropriate since the room housed the famous Greco-Roman antique sculpture of the hypermuscular Farnese Hercules.\\nAnnibale meanwhile developed hundreds of preparatory sketches for the major work, wherein he led a team painting frescoes on the ceiling of the grand salon with the secular quadri riportati of The Loves of the Gods, or as the biographer Giovanni Bellori described it, Human Love governed by Celestial Love. Although the ceiling is riotously rich in illusionistic elements, the narratives are framed in the restrained classicism of High Renaissance decoration, drawing inspiration from, yet more immediate and intimate, than Michelangelo\\'s Sistine Ceiling as well as Raphael\\'s Vatican Logge and Villa Farnesina frescoes. His work would later inspire the untrammelled stream of Baroque illusionism and energy that would emerge in the grand frescoes of Cortona, Lanfranco, and in later decades Andrea Pozzo and Gaulli.\\nThroughout the 17th and 18th centuries, the Farnese Ceiling was considered the unrivaled masterpiece of fresco painting for its age. They were not only seen as a pattern book of heroic figure design, but also as a model of technical procedure; Annibale\\'s hundreds of preparatory drawings for the ceiling became a fundamental step in composing any ambitious history painting.\\n\\nContrast with Caravaggio\\nThe 17th-century critic Giovanni Bellori, in his survey entitled Idea, praised Carracci as the paragon of Italian painters, who had fostered a \"renaissance\" of the great tradition of Raphael and Michelangelo. On the other hand, while admitting Caravaggio\\'s talents as a painter, Bellori deplored his over-naturalistic style, if not his turbulent morals and persona. He thus viewed the Caravaggisti styles with the same gloomy dismay. Painters were urged to depict the Platonic ideal of beauty, not Roman street-walkers. Yet Carracci and Caravaggio patrons and pupils did not all fall into irreconcilable camps. Contemporary patrons, such as Marquess Vincenzo Giustiniani, found both applied showed excellence in maniera and modeling.By the 21st century, observers had warmed to the rebel myth of Caravaggio, and often ignored the profound influence on art that Carracci had. Caravaggio almost never worked in fresco, regarded as the test of a great painter\\'s mettle. On the other hand, Carracci\\'s best works are in fresco. Thus the somber canvases of Caravaggio, with benighted backgrounds, are suited to the contemplative altars, and not to well-lit walls or ceilings such as this one in the Farnese. Wittkower was surprised that a Farnese cardinal surrounded himself with frescoes of libidinous themes, indicative of a \"considerable relaxation of counter-reformatory morality\". This thematic choice suggests Carracci may have been more rebellious relative to the often-solemn religious passion of Caravaggio\\'s canvases. Wittkower states Carracci\\'s \"frescoes convey the impression of a tremendous joie de vivre, a new blossoming of vitality and of an energy long repressed\".\\nIn the 21st century, most connoisseurs making the pilgrimage to the Cerasi Chapel in Santa Maria del Popolo would ignore Carracci\\'s Assumption of the Virgin altarpiece (1600–1601) and focus on the flanking Caravaggio works. It is instructive to compare Carracci\\'s Assumption with Caravaggio\\'s Death of the Virgin. Among early contemporaries, Carracci was an innovator. He re-enlivened Michelangelo\\'s visual fresco vocabulary, and posited a muscular and vivaciously brilliant pictorial landscape, which had been becoming progressively crippled into a Mannerist tangle. While Michelangelo could bend and contort the body into all the possible perspectives, Carracci in the Farnese frescoes had shown how it could dance. The \"ceiling\"-frontiers, the wide expanses of walls to be frescoed would, for the next decades, be thronged by the monumental brilliance of the Carracci followers, and not Caravaggio\\'s followers.\\n\\nIn the century following his death, to a lesser extent than Bernini and Cortona, Carracci and baroque art in general came under criticism from neoclassic critics such as Winckelmann and even later from the prudish John Ruskin, as well as admirers of Caravaggio. Carracci in part was spared opprobrium because he was seen as an emulator of the highly admired Raphael, and in the Farnese frescoes, attentive to the proper themes such as those of antique mythology.\\n\\nLandscapes, genre art and drawings\\nOn July 8, 1595, Annibale completed the painting of Saint Roch Giving Alms, now in Dresden Gemäldegalerie. Other significant late works painted by Carracci in Rome include Domine quo vadis? (c. 1602), which reveals a striking economy in figure composition and a force and precision of gesture that influenced on Poussin and through him, the language of gesture in painting.\\nCarracci was remarkably eclectic in thematic, painting landscapes, genre scenes, and portraits, including a series of autoportraits across the ages. He was one of the first Italian painters to paint a canvas wherein landscape took priority over figures, such as his masterful The Flight into Egypt; this is a genre in which he was followed by Domenichino (his favorite pupil) and Claude Lorrain.\\nCarracci\\'s art also had a less formal side that comes out in his caricatures (he is generally credited with inventing the form) and in his early genre paintings, which are remarkable for their lively observation and free handling and his painting of The Beaneater. He is described by biographers as inattentive to dress, obsessed with work: his self-portraits (such as that in Parma) vary in his depiction.\\n\\nUnder a melancholic humor\\nIt is not clear how much work Annibale completed after finishing the major gallery in the Palazzo Farnese. In 1606, Annibale signed a Madonna of the bowl. However, in a letter from April 1606, Cardinal Odoardo Farnese bemoaned that a \"heavy melancholic humor\" prevented Annibale from painting for him. Throughout 1607, Annibale was unable to complete a commission for the Duke of Modena of a Nativity. There is a note from 1608, where in Annibale stipulates to a pupil that he will spend at least two hours a day in his studio. There is little documentation from the man or time to explain why his brush was stilled.\\nIn 1609, Annibale died and was buried, according to his wish, near Raphael in the Pantheon of Rome. It is a measure of his achievement that artists as diverse as Bernini, Poussin, and Rubens praised his work. Many of his assistants or pupils in projects at the Palazzo Farnese and Herrera Chapel would become among the pre-eminent artists of the next decades, including Domenichino, Francesco Albani, Giovanni Lanfranco, Domenico Viola, Guido Reni, Sisto Badalocchio, and others.\\n\\nChronology of works\\nPaintings\\nButcher\\'s Shop (1580s)—Oil on canvas, 185 × 266 cm, Christ Church Picture Gallery, Oxford\\nThe Beaneater (1580–1590)—Oil on canvas, 57 × 68 cm, Galleria Colonna, Rome\\nDescent From the Cross (1580–1600)—St. Ann\\'s, Manchester\\nCrucifixion with Saints (1583)—Oil on canvas, 305 × 210 cm, Santa Maria della Carità, Bologna\\nThe Laughing Youth (1583)—Oil on paper, Galleria Borghese, Rome\\nCorpse of Christ (c. 1583–1585)—Oil on canvas, 70.7 × 88.8 cm, Staatsgalerie Stuttgart\\nThe Baptism of Christ (1584)—Oil on canvas, Santi Gregorio e Siro, Bologna\\nAn Allegory of Truth and Time (1584-1585)—Royal Collection (Hampton Court)\\nPietà with Saints Clare, Francis and Mary Magdalene (1585)—Oil on canvas, Galleria nazionale di Parma, Parma\\nThe Mystic Marriage of St Catherine (1585–1587)—Oil on canvas, Museo Nazionale di Capodimonte, Naples\\nMadonna Enthroned with St Matthew (1588)—Oil on canvas, 384 × 255 cm, Gemäldegalerie, Dresden\\nVenus with a Satyr and Two Cupids (c. 1588)—Oil on canvas, 112 × 142 cm, Uffizi, Florence\\nSelf-Portrait in Profile (1590s)—Oil on canvas, Uffizi, Florence\\nAssumption of the Virgin (c. 1590)—Oil on canvas, 130 × 97 cm, Museo del Prado\\nThe Virgin Appears to the Saints Luke and Catherine (1592)—Oil on canvas, 401 × 226 cm, Musée du Louvre, Paris\\nFishing (before 1595)—Oil on canvas, 136 × 253 cm, Musée du Louvre\\nHunting (before 1595)—Oil on canvas, 136 × 253 cm, Musée du Louvre\\nVenus, Adonis and Cupid (c. 1595)—Oil on canvas, 212 × 268 cm, Museo del Prado, Madrid\\nSaint Roch Giving Alms (1595)—Oil on canvas, Gemäldegalerie, Dresden\\nThe Choice of Heracles (c. 1596)—Oil on canvas, 167 × 273 cm, Museo Nazionale di Capodimonte, Naples\\nMocking of Christ (c. 1596)—Oil on canvas, 60 × 69.5 cm, Pinacoteca Nazionale\\nJupiter and Juno (c. 1597)—Farnese Gallery, Rome\\nFrescoes (1597–1605) in the Palazzo Farnese, Rome\\nRiver Landscape (c. 1599)—Oil on canvas,  National Gallery of Art, Washington, D.C.\\nPietà (1599–1600)—Oil on canvas, 156 × 149 cm, Museo Nazionale di Capodimonte, Naples\\nThe Madonna and Sleeping Child with the Infant St John the Baptist (1599-1600)-Oil on canvas, 51.2 x 68.4 cm, Royal Collection (Hampton Court)\\nRest on the Flight into Egypt (c. 1600)—Oil on canvas, diameter 82.5 cm, Hermitage Museum, St. Petersburg\\nThe Three Marys at the Tomb (c.1600)Oil on canvas, Hermitage Museum, St. Petersburg\\nAssumption of the Virgin Mary (1600–1601)—Oil on panel, 245 × 155 cm, Santa Maria del Popolo, Rome\\nDomine quo vadis? (1601–1602)—Oil on panel, 77.4 × 56.3 cm, National Gallery, London\\nPietà with Saint Francis and Saint Mary Magdalene-Oil on canvas, 277 x 186 cm, Louvre, Paris\\nThe Flight into Egypt (1603)—Oil on canvas, 122 × 230 cm, Galleria Doria Pamphilj, Rome\\nSleeping Venus (c. 1603)—Oil on canvas, 190 × 328 cm, Musée Condé, Chantilly, Oise\\nThe Martyrdom of St Stephen (1603–1604)—Oil on canvas, 51 × 68 cm, Louvre, Paris\\nSelf-portrait (c. 1604)—Oil on wood, 42 × 30 cm, Hermitage Museum, St. Petersburg\\nPortable Altarpiece with Pietà and Saints (1604–1605)—Oil on copper and panel, 37 × 24 cm (central panel), 37 × 12 cm (each wing), Galleria Nazionale d\\'Arte Antica, Rome\\nThe Birth of the Virgin (1605-1609)-Oil on canvas, Louvre, Paris\\nLamentation of Christ (1606)—Oil on canvas, 92.8 × 103.2 cm, National Gallery, London\\n\\nDrawings\\nAtlante  Red chalk, Louvre, Paris\\nDrawings (exhibit, National Gallery of Art)\\n\\nWorks after Carracci\\nVenus and Adonis (c. 1595)—Oil on canvas, 217 × 246 cm, Kunsthistorisches Museum, Vienna\\n\\nPaintings\\nThe tradition of Italian Renaissance painting and the mature Renaissance artists like Raphael, Michelangelo, Correggio, Titian and Veronese are all painters who had a considerable influence on the work of the Carracci, in his use of colours.  Carraci laid the foundations for the birth of Baroque painting. The preceding sterile Mannerist style had its recovery now in the Baroque painting in the early sixteenth century, succeeding in an original synthesis of the many schools. The paintings of Annibale are inspired by the Venetian pictorial taste and especially the paintings of Paolo Veronese. The work that show traces of it are the Madonna Enthroned with Saint Matthew, a work made for Reggio Emilia and now in the Gemäldegalerie, Dresden, and the Mystic Marriage of Saint Catherine of Alexandria (ca. 1575), now preserved at the Gallerie dell\\'Accademia in Venice.\\n \\nReligious subjects\\n\\t\\t\\n\\t\\t\\n\\t\\t\\n\\t\\t\\n\\t\\t\\n\\t\\t\\n\\t\\t\\n\\t\\t\\nPortraits\\n\\t\\t\\n\\t\\t\\n\\t\\t\\n\\t\\t\\n\\t\\t\\nMythological subjects\\n\\t\\t\\n\\t\\t\\n\\t\\t\\n\\t\\t\\nFood related paintings\\n\\nFootnotes\\nReferences\\nCatholic Encyclopedia: Carracci\\nChristiansen, Keith. “Annibale Carracci (1560–1609).” In Heilbrunn Timeline of Art History. New York: The Metropolitan Museum of Art, 2000–. (October 2003)\\nWittkower, Rudolph (1993). \"Art and Architecture Italy, 1600–1750\". Pelican History of Art. 1980. Penguin Books. pp. 57–71.\\nGianfranco, Malafarina (1976). \"preface by Patrick J. Cooney\". L\\' opera completa di Annibale Carracci. Rizzoli Editore, Milano.\\nH. Keazor: \"Distruggere la maniera?\": die Carracci-Postille, Freiburg im Breisgau, 2002.\\nC. Dempsey: Annibale Carracci and the beginnings of baroque style, Harvard, 1977; 2nd ed. Fiesole, 2000.\\nA. W. A. Boschloo: Annibale Carracci in Bologna: visible reality in art after the Council of Trent, \\'s-Gravenhage, 1974.\\nC. Goldstein: Visual fact over verbal fiction: a study of the Carracci and the criticism, theory, and practice of art in Renaissance and baroque Italy, Cambridge, 1988.\\nD. Posner: Annibale Carracci: a study in the reform of Italian painting around 1590, 2 vol., New York, 1971.\\nS. Ginzburg: Annibale Carracci a Roma: gli affreschi di Palazzo Farnese, Rome, 2000.\\nC. Loisel: Inventaire général des dessins italiens, vol. 7: Ludovico, Agostino, Annibale Carracci (Musée du Louvre: Cabinet des Dessins), Paris, 2004.\\nB. Bohn: Ludovico Carracci and the art of drawing, London, 2004.\\nAnnibale Carracci, catalogo della mostra a cura di D. Benati, E. Riccomini, Bologna-Roma, 2006–2007.\\nM. C. Terzaghi: Caravaggio, Annibale Carracci, Guido Reni tra le ricevute del Banco Herrera & Costa, Roma, 2007.\\nH. Keazor: \"Il vero modo\". Die Malereireform der Carracci, (Neue Frankfurter Forschungen zur Kunst 5), Berlin: Gebrüder Mann Verlag, 2007.\\nC. Robertson: The Invention of Annibale Carracci (Studi della Bibliotheca Hertziana, 4), Milano, 2008.\\nF. Gage: \"Invention, Wit and Melancholy in the Art of Annibale Carracci.\" Intellectual History Review 24.3 (2014): 389–413. Special Issue, The Nature of Invention. Edited by Alexander Marr and Vera Keller.\\n\\nExternal links\\n43 artworks by or after Annibale Carracci at the Art UK site\\nAnnibale Carracci artistic context, technique and artworks\\nAnnibale Carracci at the WikiGallery.org\\nAnnibale Carracci, Christ Healing the Sick, 16th century, etching, Bryn Mawr College Art and Artifact Collections\\nJusepe de Ribera, 1591–1652, an exhibition catalog from The Metropolitan Museum of Art (fully available online as PDF), which contains material on Carracci (see index)\\nPainters of reality: the legacy of Leonardo and Caravaggio in Lombardy, an exhibition catalog from The Metropolitan Museum of Art (fully available online as PDF), which contains material on Carracci (see index)'"
      ]
     },
     "execution_count": 84,
     "metadata": {},
     "output_type": "execute_result"
    }
   ],
   "source": [
    "artist_text"
   ]
  },
  {
   "cell_type": "code",
   "execution_count": null,
   "id": "5181414f",
   "metadata": {},
   "outputs": [],
   "source": [
    "import os\n",
    "import openai\n",
    "\n",
    "openai.api_key = os.getenv(\"OPENAI_API_KEY\")\n",
    "\n",
    "response = openai.Completion.create(\n",
    "  engine=\"text-davinci-002\",\n",
    "  prompt=\"A table summarizing the fruits from Goocrux:\\n\\nThere are many fruits that were found on the recently discovered planet Goocrux. There are neoskizzles that grow there, which are purple and taste like candy. There are also loheckles, which are a grayish blue fruit and are very tart, a little bit like a lemon. Pounits are a bright green color and are more savory than sweet. There are also plenty of loopnovas which are a neon pink flavor and taste like cotton candy. Finally, there are fruits called glowls, which have a very sour and bitter taste which is acidic and caustic, and a pale orange tinge to them.\\n\\n| Fruit | Color | Flavor |\",\n",
    "  temperature=0,\n",
    "  max_tokens=100,\n",
    "  top_p=1.0,\n",
    "  frequency_penalty=0.0,\n",
    "  presence_penalty=0.0\n",
    ")"
   ]
  },
  {
   "cell_type": "code",
   "execution_count": null,
   "id": "fa7d7652",
   "metadata": {},
   "outputs": [],
   "source": []
  }
 ],
 "metadata": {
  "kernelspec": {
   "display_name": "Python 3 (ipykernel)",
   "language": "python",
   "name": "python3"
  },
  "language_info": {
   "codemirror_mode": {
    "name": "ipython",
    "version": 3
   },
   "file_extension": ".py",
   "mimetype": "text/x-python",
   "name": "python",
   "nbconvert_exporter": "python",
   "pygments_lexer": "ipython3",
   "version": "3.8.6"
  }
 },
 "nbformat": 4,
 "nbformat_minor": 5
}
