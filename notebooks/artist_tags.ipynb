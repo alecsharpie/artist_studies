{
 "cells": [
  {
   "cell_type": "code",
   "execution_count": 34,
   "id": "f55dd740",
   "metadata": {},
   "outputs": [],
   "source": [
    "import pandas as pd\n",
    "studies_csv = pd.read_csv('../raw_data/master_list_6_jul_2020.csv', skiprows = 2)\n",
    "studies_df = studies_csv.copy()"
   ]
  },
  {
   "cell_type": "code",
   "execution_count": 36,
   "id": "8fa6eb3e",
   "metadata": {},
   "outputs": [
    {
     "data": {
      "text/plain": [
       "Index(['Artist (last/only)\\n(or other effect)', 'Artist (first)',\n",
       "       'Style represented', 'Complete?', 'Tags \\n(new, work-in-progress)',\n",
       "       'Year of Death (N/A if living)', 'User', 'Style modifier (non-artist)',\n",
       "       'sgl img folder', 'cards folder', 'batch #', 'Notes'],\n",
       "      dtype='object')"
      ]
     },
     "execution_count": 36,
     "metadata": {},
     "output_type": "execute_result"
    }
   ],
   "source": [
    "# check columns\n",
    "studies_df.columns"
   ]
  },
  {
   "cell_type": "code",
   "execution_count": 37,
   "id": "5c345ed1",
   "metadata": {},
   "outputs": [],
   "source": [
    "# replace column names with easier things to type lol\n",
    "studies_df.columns = ['l_name', 'f_name',\n",
    "       'style_represented', 'complete', 'tags', 'yod', 'user', 'style_or_effect', 'sgl_img_folder',\n",
    "       'cards_folder', 'batch_id', 'notes']"
   ]
  },
  {
   "cell_type": "code",
   "execution_count": 59,
   "id": "5d1e006b",
   "metadata": {},
   "outputs": [
    {
     "data": {
      "text/html": [
       "<div>\n",
       "<style scoped>\n",
       "    .dataframe tbody tr th:only-of-type {\n",
       "        vertical-align: middle;\n",
       "    }\n",
       "\n",
       "    .dataframe tbody tr th {\n",
       "        vertical-align: top;\n",
       "    }\n",
       "\n",
       "    .dataframe thead th {\n",
       "        text-align: right;\n",
       "    }\n",
       "</style>\n",
       "<table border=\"1\" class=\"dataframe\">\n",
       "  <thead>\n",
       "    <tr style=\"text-align: right;\">\n",
       "      <th></th>\n",
       "      <th>l_name</th>\n",
       "      <th>f_name</th>\n",
       "      <th>style_represented</th>\n",
       "      <th>complete</th>\n",
       "      <th>tags</th>\n",
       "      <th>yod</th>\n",
       "      <th>user</th>\n",
       "      <th>style_or_effect</th>\n",
       "      <th>sgl_img_folder</th>\n",
       "      <th>cards_folder</th>\n",
       "      <th>batch_id</th>\n",
       "      <th>notes</th>\n",
       "    </tr>\n",
       "  </thead>\n",
       "  <tbody>\n",
       "    <tr>\n",
       "      <th>0</th>\n",
       "      <td>Aalto</td>\n",
       "      <td>Alvar</td>\n",
       "      <td>Yes</td>\n",
       "      <td>x</td>\n",
       "      <td>architecture, high contrast</td>\n",
       "      <td>1976</td>\n",
       "      <td>sureailabs</td>\n",
       "      <td>-</td>\n",
       "      <td>x</td>\n",
       "      <td>x</td>\n",
       "      <td>8.0</td>\n",
       "      <td>NaN</td>\n",
       "    </tr>\n",
       "    <tr>\n",
       "      <th>1</th>\n",
       "      <td>Aarons</td>\n",
       "      <td>Slim</td>\n",
       "      <td>Yes</td>\n",
       "      <td>x</td>\n",
       "      <td>vibrant, photography, scene</td>\n",
       "      <td>2006</td>\n",
       "      <td>sureailabs</td>\n",
       "      <td>-</td>\n",
       "      <td>x</td>\n",
       "      <td>x</td>\n",
       "      <td>8.0</td>\n",
       "      <td>NaN</td>\n",
       "    </tr>\n",
       "    <tr>\n",
       "      <th>2</th>\n",
       "      <td>Abbey</td>\n",
       "      <td>Edwin Austin</td>\n",
       "      <td>Yes</td>\n",
       "      <td>x</td>\n",
       "      <td>scene, realism</td>\n",
       "      <td>1911</td>\n",
       "      <td>EErratica</td>\n",
       "      <td>-</td>\n",
       "      <td>x</td>\n",
       "      <td>x</td>\n",
       "      <td>7.0</td>\n",
       "      <td>NaN</td>\n",
       "    </tr>\n",
       "    <tr>\n",
       "      <th>3</th>\n",
       "      <td>Abercrombie</td>\n",
       "      <td>Gertrude</td>\n",
       "      <td>Yes</td>\n",
       "      <td>x</td>\n",
       "      <td>surrealism, dark,</td>\n",
       "      <td>1977</td>\n",
       "      <td>sureailabs</td>\n",
       "      <td>-</td>\n",
       "      <td>x</td>\n",
       "      <td>x</td>\n",
       "      <td>10.0</td>\n",
       "      <td>NaN</td>\n",
       "    </tr>\n",
       "    <tr>\n",
       "      <th>4</th>\n",
       "      <td>Abramović</td>\n",
       "      <td>Marina</td>\n",
       "      <td>Yes</td>\n",
       "      <td>x</td>\n",
       "      <td>scene, photography</td>\n",
       "      <td>NaN</td>\n",
       "      <td>sureailabs</td>\n",
       "      <td>-</td>\n",
       "      <td>x</td>\n",
       "      <td>x</td>\n",
       "      <td>8.0</td>\n",
       "      <td>NaN</td>\n",
       "    </tr>\n",
       "  </tbody>\n",
       "</table>\n",
       "</div>"
      ],
      "text/plain": [
       "        l_name        f_name style_represented complete  \\\n",
       "0        Aalto         Alvar               Yes        x   \n",
       "1       Aarons          Slim               Yes        x   \n",
       "2        Abbey  Edwin Austin               Yes        x   \n",
       "3  Abercrombie      Gertrude               Yes        x   \n",
       "4    Abramović        Marina               Yes        x   \n",
       "\n",
       "                          tags   yod        user style_or_effect  \\\n",
       "0  architecture, high contrast  1976  sureailabs               -   \n",
       "1  vibrant, photography, scene  2006  sureailabs               -   \n",
       "2               scene, realism  1911   EErratica               -   \n",
       "3            surrealism, dark,  1977  sureailabs               -   \n",
       "4           scene, photography   NaN  sureailabs               -   \n",
       "\n",
       "  sgl_img_folder cards_folder  batch_id notes  \n",
       "0              x            x       8.0   NaN  \n",
       "1              x            x       8.0   NaN  \n",
       "2              x            x       7.0   NaN  \n",
       "3              x            x      10.0   NaN  \n",
       "4              x            x       8.0   NaN  "
      ]
     },
     "execution_count": 59,
     "metadata": {},
     "output_type": "execute_result"
    }
   ],
   "source": [
    "studies_df.head()"
   ]
  },
  {
   "cell_type": "code",
   "execution_count": 39,
   "id": "aa1d2f6c",
   "metadata": {},
   "outputs": [],
   "source": [
    "# keep only rows with tags in the tags column\n",
    "tags_df = studies_df.dropna(subset = ['tags'])"
   ]
  },
  {
   "cell_type": "code",
   "execution_count": 40,
   "id": "3cb88337",
   "metadata": {},
   "outputs": [],
   "source": [
    "# turn tags lists into a seperate column for each tag with 0, 1 presence indicator\n",
    "from sklearn.feature_extraction.text import CountVectorizer\n",
    "\n",
    "bow_vec = CountVectorizer(binary = True)\n",
    "\n",
    "# show the vectorizer your data\n",
    "bow_vec.fit(tags_df['tags'])"
   ]
  },
  {
   "cell_type": "code",
   "execution_count": 43,
   "id": "42bcde82",
   "metadata": {},
   "outputs": [
    {
     "data": {
      "text/plain": [
       "120"
      ]
     },
     "execution_count": 43,
     "metadata": {},
     "output_type": "execute_result"
    }
   ],
   "source": [
    "# check number of unique tags\n",
    "len(bow_vec.get_feature_names_out())"
   ]
  },
  {
   "cell_type": "code",
   "execution_count": 60,
   "id": "328cd268",
   "metadata": {},
   "outputs": [
    {
     "data": {
      "text/html": [
       "<div>\n",
       "<style scoped>\n",
       "    .dataframe tbody tr th:only-of-type {\n",
       "        vertical-align: middle;\n",
       "    }\n",
       "\n",
       "    .dataframe tbody tr th {\n",
       "        vertical-align: top;\n",
       "    }\n",
       "\n",
       "    .dataframe thead th {\n",
       "        text-align: right;\n",
       "    }\n",
       "</style>\n",
       "<table border=\"1\" class=\"dataframe\">\n",
       "  <thead>\n",
       "    <tr style=\"text-align: right;\">\n",
       "      <th></th>\n",
       "      <th>3d</th>\n",
       "      <th>abstract</th>\n",
       "      <th>angular</th>\n",
       "      <th>anime</th>\n",
       "      <th>architecture</th>\n",
       "      <th>art</th>\n",
       "      <th>babies</th>\n",
       "      <th>baroque</th>\n",
       "      <th>bauhaus</th>\n",
       "      <th>beatrix</th>\n",
       "      <th>...</th>\n",
       "      <th>surrrealism</th>\n",
       "      <th>symbolism</th>\n",
       "      <th>symbolist</th>\n",
       "      <th>textile</th>\n",
       "      <th>textured</th>\n",
       "      <th>ukiyo</th>\n",
       "      <th>vibrant</th>\n",
       "      <th>watercolor</th>\n",
       "      <th>whimsical</th>\n",
       "      <th>wildlife</th>\n",
       "    </tr>\n",
       "  </thead>\n",
       "  <tbody>\n",
       "    <tr>\n",
       "      <th>0</th>\n",
       "      <td>0</td>\n",
       "      <td>0</td>\n",
       "      <td>0</td>\n",
       "      <td>0</td>\n",
       "      <td>1</td>\n",
       "      <td>0</td>\n",
       "      <td>0</td>\n",
       "      <td>0</td>\n",
       "      <td>0</td>\n",
       "      <td>0</td>\n",
       "      <td>...</td>\n",
       "      <td>0</td>\n",
       "      <td>0</td>\n",
       "      <td>0</td>\n",
       "      <td>0</td>\n",
       "      <td>0</td>\n",
       "      <td>0</td>\n",
       "      <td>0</td>\n",
       "      <td>0</td>\n",
       "      <td>0</td>\n",
       "      <td>0</td>\n",
       "    </tr>\n",
       "    <tr>\n",
       "      <th>1</th>\n",
       "      <td>0</td>\n",
       "      <td>0</td>\n",
       "      <td>0</td>\n",
       "      <td>0</td>\n",
       "      <td>0</td>\n",
       "      <td>0</td>\n",
       "      <td>0</td>\n",
       "      <td>0</td>\n",
       "      <td>0</td>\n",
       "      <td>0</td>\n",
       "      <td>...</td>\n",
       "      <td>0</td>\n",
       "      <td>0</td>\n",
       "      <td>0</td>\n",
       "      <td>0</td>\n",
       "      <td>0</td>\n",
       "      <td>0</td>\n",
       "      <td>1</td>\n",
       "      <td>0</td>\n",
       "      <td>0</td>\n",
       "      <td>0</td>\n",
       "    </tr>\n",
       "    <tr>\n",
       "      <th>2</th>\n",
       "      <td>0</td>\n",
       "      <td>0</td>\n",
       "      <td>0</td>\n",
       "      <td>0</td>\n",
       "      <td>0</td>\n",
       "      <td>0</td>\n",
       "      <td>0</td>\n",
       "      <td>0</td>\n",
       "      <td>0</td>\n",
       "      <td>0</td>\n",
       "      <td>...</td>\n",
       "      <td>0</td>\n",
       "      <td>0</td>\n",
       "      <td>0</td>\n",
       "      <td>0</td>\n",
       "      <td>0</td>\n",
       "      <td>0</td>\n",
       "      <td>0</td>\n",
       "      <td>0</td>\n",
       "      <td>0</td>\n",
       "      <td>0</td>\n",
       "    </tr>\n",
       "    <tr>\n",
       "      <th>3</th>\n",
       "      <td>0</td>\n",
       "      <td>0</td>\n",
       "      <td>0</td>\n",
       "      <td>0</td>\n",
       "      <td>0</td>\n",
       "      <td>0</td>\n",
       "      <td>0</td>\n",
       "      <td>0</td>\n",
       "      <td>0</td>\n",
       "      <td>0</td>\n",
       "      <td>...</td>\n",
       "      <td>0</td>\n",
       "      <td>0</td>\n",
       "      <td>0</td>\n",
       "      <td>0</td>\n",
       "      <td>0</td>\n",
       "      <td>0</td>\n",
       "      <td>0</td>\n",
       "      <td>0</td>\n",
       "      <td>0</td>\n",
       "      <td>0</td>\n",
       "    </tr>\n",
       "    <tr>\n",
       "      <th>4</th>\n",
       "      <td>0</td>\n",
       "      <td>0</td>\n",
       "      <td>0</td>\n",
       "      <td>0</td>\n",
       "      <td>0</td>\n",
       "      <td>0</td>\n",
       "      <td>0</td>\n",
       "      <td>0</td>\n",
       "      <td>0</td>\n",
       "      <td>0</td>\n",
       "      <td>...</td>\n",
       "      <td>0</td>\n",
       "      <td>0</td>\n",
       "      <td>0</td>\n",
       "      <td>0</td>\n",
       "      <td>0</td>\n",
       "      <td>0</td>\n",
       "      <td>0</td>\n",
       "      <td>0</td>\n",
       "      <td>0</td>\n",
       "      <td>0</td>\n",
       "    </tr>\n",
       "  </tbody>\n",
       "</table>\n",
       "<p>5 rows × 120 columns</p>\n",
       "</div>"
      ],
      "text/plain": [
       "   3d  abstract  angular  anime  architecture  art  babies  baroque  bauhaus  \\\n",
       "0   0         0        0      0             1    0       0        0        0   \n",
       "1   0         0        0      0             0    0       0        0        0   \n",
       "2   0         0        0      0             0    0       0        0        0   \n",
       "3   0         0        0      0             0    0       0        0        0   \n",
       "4   0         0        0      0             0    0       0        0        0   \n",
       "\n",
       "   beatrix  ...  surrrealism  symbolism  symbolist  textile  textured  ukiyo  \\\n",
       "0        0  ...            0          0          0        0         0      0   \n",
       "1        0  ...            0          0          0        0         0      0   \n",
       "2        0  ...            0          0          0        0         0      0   \n",
       "3        0  ...            0          0          0        0         0      0   \n",
       "4        0  ...            0          0          0        0         0      0   \n",
       "\n",
       "   vibrant  watercolor  whimsical  wildlife  \n",
       "0        0           0          0         0  \n",
       "1        1           0          0         0  \n",
       "2        0           0          0         0  \n",
       "3        0           0          0         0  \n",
       "4        0           0          0         0  \n",
       "\n",
       "[5 rows x 120 columns]"
      ]
     },
     "execution_count": 60,
     "metadata": {},
     "output_type": "execute_result"
    }
   ],
   "source": [
    "# actually transform data using the vectoriser, save it into a pandas dataframe\n",
    "bow_rep = pd.DataFrame(columns = bow_vec.get_feature_names_out(), data = bow_vec.transform(tags_df['tags']).todense())\n",
    "bow_rep.head()"
   ]
  },
  {
   "cell_type": "code",
   "execution_count": 45,
   "id": "dee6ae98",
   "metadata": {},
   "outputs": [],
   "source": [
    "# create and fit a 2d PCA\n",
    "from sklearn.decomposition import PCA\n",
    "\n",
    "pca = PCA(2)\n",
    "\n",
    "pca.fit(bow_rep)\n",
    "\n",
    "pca.explained_variance_"
   ]
  },
  {
   "cell_type": "code",
   "execution_count": 47,
   "id": "5b3b9c07",
   "metadata": {},
   "outputs": [],
   "source": [
    "# actually project only PC's\n",
    "pcs = pca.transform(bow_rep)"
   ]
  },
  {
   "cell_type": "code",
   "execution_count": 48,
   "id": "f005946c",
   "metadata": {},
   "outputs": [
    {
     "data": {
      "text/plain": [
       "<matplotlib.collections.PathCollection at 0x12f13c640>"
      ]
     },
     "execution_count": 48,
     "metadata": {},
     "output_type": "execute_result"
    },
    {
     "data": {
      "image/png": "[encoded data removed]",
      "text/plain": [
       "<Figure size 432x288 with 1 Axes>"
      ]
     },
     "metadata": {
      "needs_background": "light"
     },
     "output_type": "display_data"
    }
   ],
   "source": [
    "# plot\n",
    "import matplotlib.pyplot as plt\n",
    "\n",
    "plt.scatter(pcs[:, 0], pcs[:, 1])"
   ]
  },
  {
   "cell_type": "code",
   "execution_count": 52,
   "id": "d35d3746",
   "metadata": {},
   "outputs": [],
   "source": [
    "# join bow representation\n",
    "final_df = tags_df.join(bow_rep)"
   ]
  },
  {
   "cell_type": "code",
   "execution_count": 56,
   "id": "71b698ed",
   "metadata": {},
   "outputs": [],
   "source": [
    "# join PCs representation\n",
    "final_df = final_df.join(pd.DataFrame(pcs))"
   ]
  },
  {
   "cell_type": "code",
   "execution_count": 57,
   "id": "156eccf3",
   "metadata": {},
   "outputs": [],
   "source": [
    "# save to csv\n",
    "final_df.to_csv(\"../raw_data/master_list_6_jul_2020_w_bow_and_pcs.csv\")"
   ]
  },
  {
   "cell_type": "code",
   "execution_count": null,
   "id": "b66ede79",
   "metadata": {},
   "outputs": [],
   "source": []
  }
 ],
 "metadata": {
  "kernelspec": {
   "display_name": "Python 3 (ipykernel)",
   "language": "python",
   "name": "python3"
  },
  "language_info": {
   "codemirror_mode": {
    "name": "ipython",
    "version": 3
   },
   "file_extension": ".py",
   "mimetype": "text/x-python",
   "name": "python",
   "nbconvert_exporter": "python",
   "pygments_lexer": "ipython3",
   "version": "3.8.6"
  }
 },
 "nbformat": 4,
 "nbformat_minor": 5
}
